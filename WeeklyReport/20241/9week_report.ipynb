{
 "cells": [
  {
   "attachments": {},
   "cell_type": "markdown",
   "metadata": {},
   "source": [
    "# Weekly Report\n",
    "- Team members: 21800272 Park Sang Beom, 22000245 Moon Byeo Ri\t, 21900121\tKim Se Hee , Seong Gyu Ahn 21800418\n",
    "- Meeting Date: 240502\n",
    "- Project Name: \n",
    "- Project Goal: make LLM"
   ]
  },
  {
   "attachments": {},
   "cell_type": "markdown",
   "metadata": {},
   "source": [
    "### Weekly plan (Fill this in)\n",
    "\n",
    "| Week    | Schedule        | Note                      |\n",
    "|---------|-----------------|---------------------------|\n",
    "| Week 9  | Plan for week 9 | Interview: Why hyundai need to LLM\n",
    "| Week 10 | research to low | How to apply for LLM      |\n",
    "| Week 11 |                 |                           |\n",
    "| Week 12 |                 |                           |\n",
    "| Week 13 |                 |                           |\n",
    "| Week 14 |                 |                           |\n",
    "| Week 15 |                 |                           |\n",
    "| Week 16 |                 |                           |\n",
    "\n"
   ]
  },
  {
   "attachments": {},
   "cell_type": "markdown",
   "metadata": {},
   "source": [
    "### Summary of previous meeting\n",
    "- Previous discussion: We discussion for AI language model project, first we need to understand for Low\n",
    "- Comments from Professor: come with a conclusion\n",
    "- Previous plan: research to low that we need to know LLM"
   ]
  },
  {
   "attachments": {},
   "cell_type": "markdown",
   "metadata": {},
   "source": [
    "### Summary of working progress\n",
    "- Level of progress in weekly plan: 100 % completed or 50 % completed.\n",
    "- Progress 1: Research about korea car low\n",
    "- Progress 2: Why we need to llm and use model and how we ready to data"
   ]
  },
  {
   "attachments": {},
   "cell_type": "markdown",
   "metadata": {},
   "source": [
    "### Pending assignments or requests\n",
    "- pending assingments:\n",
    "- requests:"
   ]
  }
 ],
 "metadata": {
  "language_info": {
   "name": "python"
  },
  "orig_nbformat": 4
 },
 "nbformat": 4,
 "nbformat_minor": 2
}
