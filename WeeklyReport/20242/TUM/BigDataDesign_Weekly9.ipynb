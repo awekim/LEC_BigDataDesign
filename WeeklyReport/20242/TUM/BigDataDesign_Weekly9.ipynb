{
 "cells": [
  {
   "cell_type": "markdown",
   "metadata": {},
   "source": [
    "# Weekly Report\n",
    "\n",
    "- Team members: 육정인(21900471), 조영우(21900707), 염지윤(22100446), 황은지(22100809), 이예정(22101059)\n",
    "- Meeting Date: 10/24, 10/27\n",
    "- Project Name: \n",
    "- Project Goal:"
   ]
  },
  {
   "cell_type": "markdown",
   "metadata": {},
   "source": [
    "### Weekly plan \n",
    "\n",
    "| Week    | Schedule        | Note                      |\n",
    "|---------|-----------------|---------------------------|\n",
    "| Week 09 |Literature Search for Topic Selection|                           |\n",
    "| Week 10 |Project Topic Selection|                           |\n",
    "| Week 11 |Data Collection|                           |\n",
    "| Week 12 |Data Preprocessing|                           |\n",
    "| Week 13 |Algorithm Search|                           |\n",
    "| Week 14 |Proposal Writing|                           |\n",
    "| Week 15 |Presentation|                           |\n",
    "| Week 16 |Final Submission of Proposal|                           |"
   ]
  },
  {
   "cell_type": "markdown",
   "metadata": {},
   "source": [
    "### Summary of previous meeting"
   ]
  },
  {
   "cell_type": "markdown",
   "metadata": {},
   "source": [
    "- Previous meeting: Project Introduction\n",
    "- Comments from Professor: Search for relevant papers and data & Summarize insights based on the search."
   ]
  },
  {
   "cell_type": "markdown",
   "metadata": {},
   "source": [
    "### Summary of working progress"
   ]
  },
  {
   "cell_type": "markdown",
   "metadata": {},
   "source": [
    "- Progress 1: Research on papers related to sports data analysis & Discussion of project topics\n",
    "- Progress 2: Sharing of research materials & Discussion of the project topic direction - evaluating the capabilities of sports team coaches using data.\n",
    "- Progress 3: Re-discussion of the topic - the impact of coaches on team performance."
   ]
  },
  {
   "cell_type": "markdown",
   "metadata": {},
   "source": [
    "### Pending assignments or requests"
   ]
  },
  {
   "cell_type": "markdown",
   "metadata": {},
   "source": [
    "- Data research for project topic specification and sport selection"
   ]
  }
 ],
 "metadata": {
  "language_info": {
   "name": "python"
  }
 },
 "nbformat": 4,
 "nbformat_minor": 2
}
