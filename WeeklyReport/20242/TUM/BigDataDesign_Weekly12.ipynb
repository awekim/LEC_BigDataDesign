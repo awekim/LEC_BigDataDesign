{
 "cells": [
  {
   "cell_type": "markdown",
   "metadata": {
    "id": "Ye4MJ3CwkhW2"
   },
   "source": [
    "# Weekly Report\n",
    "\n",
    "- Team members: 육정인(21900471), 조영우(21900707), 염지윤(22100446), 황은지(22100809), 이예정(22101059)\n",
    "- Meeting Date: 11/11\n",
    "- Project Name: TBD\n",
    "- Project Goal: TBD"
   ]
  },
  {
   "cell_type": "markdown",
   "metadata": {
    "id": "IUswc9kfktae"
   },
   "source": [
    "## Weekly plan"
   ]
  },
  {
   "cell_type": "markdown",
   "metadata": {
    "id": "I5SJ1Thfkm0D"
   },
   "source": [
    "| Week | Schedule | Note |\n",
    "| --- | --- | --- |\n",
    "| Week 09 | Literature Search for Topic Selection |  |\n",
    "| Week 10 | Literature Search for Topic Selection |  |\n",
    "| Week 11 | Refine data and topics |  |\n",
    "| Week 12 | Topic selection & EDA |  |\n",
    "| Week 13 | Algorithm Search |  |\n",
    "| Week 14 | Proposal Writing |  |\n",
    "| Week 15 | Presentation |  |\n",
    "| Week 16 | Final Submission of Proposal |  |"
   ]
  },
  {
   "cell_type": "markdown",
   "metadata": {
    "id": "hL6lhtjCkzZy"
   },
   "source": [
    "## Summary of previous meeting\n",
    "\n",
    "- Previous meeting: 부상, 야구, 농구 분야별 데이터 수집 및 사용 가능 변수 탐색. 이에 대한 연구 주제 인사이트 발표\n",
    "- Comments from Professor: 종목별로 분석에 필요한 데이터 인지, 분석 가능한 데이터 인지 고려해볼 필요가 있음.\n",
    "연구 주제에 대한 논의 필요(농구의 경우 로스터 전략은 상대 팀 특성에 따라 상대적 성격이 강함, 야구의 경우 수비 데이터가 승패에 얼마나 관련이 있는가 분석 필요)\n"
   ]
  },
  {
   "cell_type": "markdown",
   "metadata": {
    "id": "4baurxMOlQ1b"
   },
   "source": [
    "<br>"
   ]
  },
  {
   "cell_type": "markdown",
   "metadata": {
    "id": "X8EbaLqmlOTb"
   },
   "source": [
    "## Summary of working progress\n"
   ]
  },
  {
   "cell_type": "markdown",
   "metadata": {
    "id": "llzCGlCqAci9"
   },
   "source": [
    "# Baseball"
   ]
  },
  {
   "cell_type": "markdown",
   "metadata": {
    "id": "K-AhNt-Aj5gi"
   },
   "source": [
    "- 야구 종목에서 수비의 역할 :\n",
    "  - 승패를 결정하는 득점은 타격에서 나옴\n",
    "  - 하지만 빠르고 정확한 수비는 이닝을 빠르게 종료시켜 공격전환을 가져옴\n",
    "  - 더블 플레이, 트리플 플레이, 컷오프와 같은 연속된 플레이는 경기흐름을 한순간에 변화시켜 팀의 사기를 올리는 중요한 요소임\n",
    "  - 수비는 득점과 직접적인 관계는 없지만 경기흐름과 팀의 분위기를 결정하는 중요한 요소임을 알 수 있음\n",
    "  - 수비 데이터를 활용해 다양한 접근을 통한 분석이 가능해 보임\n"
   ]
  },
  {
   "cell_type": "markdown",
   "metadata": {
    "id": "tbT7YLZAAdhd"
   },
   "source": [
    "- 사용 데이터 :\n",
    "  - Statiz, KBO 공식 사이트 2024 시즌 데이터 사용<br>\n",
    "  (https://statiz.sporki.com/stats/?m=team&m2=fielding)<br>\n",
    "  (https://www.koreabaseball.com/Record/Team/Defense/Basic.aspx)  \n",
    "  - 타격, 투구, 수비 변수를 통합한 데이터\n",
    "  - Year, G(게임 수), Rank, W(승), L(패), IP(이닝) 등 상대적으로 불필요한 변수 제거 후, 각 데이터 별로 18개의 주요 변수 사용."
   ]
  },
  {
   "cell_type": "markdown",
   "metadata": {
    "id": "85oFAFE1AdoA"
   },
   "source": [
    "## PCA 분석을 통해 팀 승률에 가장 큰 영향을 미치는 주성분 식별\n"
   ]
  },
  {
   "cell_type": "markdown",
   "metadata": {
    "id": "bPSi1vg8JVO0"
   },
   "source": [
    "-\t독립 변수(X): 공격, 수비, 투구 관련 모든 데이터를 포함 (팀 이름과 승률 제외)  \n",
    "- 종속 변수(y): 승률(Winning Rate)  \n",
    "- Standardization을 적용하여 변수 간 단위 차이를 제거\n",
    "\n",
    "<img src=\"weekly_images/pca.png\" width=\"500\">  \n",
    "\n",
    "\n",
    "- PC2가 가장 높은 것을 확인함."
   ]
  },
  {
   "cell_type": "markdown",
   "metadata": {
    "id": "g_9DqaRjKGir"
   },
   "source": [
    "- PC2 가중치 시각화  \n",
    "  - PCA components들을 데이터 프레임으로 변환 후, PC2의 가중치를 시각화\n",
    "\n",
    "<img src=\"weekly_images/pca2_plot.png\" width=\"500\">\n",
    "<br>\n",
    "\n",
    "- PC2 상관관계 분석\n",
    "\n",
    "<div style=\"display: flex; justify-content: space-between;\">\n",
    "  <img src=\"weekly_images/pca2_value.jpg\" width=\"400\">\n",
    "  <img src=\"weekly_images/pca2_value_minus.jpg\" width=\"500\">\n",
    "</div>\n",
    "\n",
    "- 결과 해석 :\n",
    "  - PC2의 주성분 값이 양수인 변수들 중 상위 15개 변수를 확인한 결과, 공격, 수비, 투구 데이터가 고르게 포함되어 있는 것을 확인.\n",
    "  - 주요 수비 변수는 PO (Putouts, 수비 처리), Range RAA (수비 범위 기여도),총합 RAA (수비 기여도 총합), /144 등\n"
   ]
  },
  {
   "cell_type": "markdown",
   "metadata": {
    "id": "rAd4teCeKGmt"
   },
   "source": [
    "## RF를 토대로 feature importance 분석\n"
   ]
  },
  {
   "cell_type": "markdown",
   "metadata": {
    "id": "1ejvFx_LL6FR"
   },
   "source": [
    "- 독립 변수(X): 공격, 수비, 투구 관련 모든 데이터를 포함 (팀 이름과 승률 제외)\n",
    "- 종속 변수(y): 승률(Winning Rate)\n",
    "<br>\n",
    "<img src=\"weekly_images/rf.png\" width=\"400\">\n",
    "<br>\n",
    "\n",
    "<br>\n",
    "<img src=\"weekly_images/rf_value.jpg\" width=\"400\">\n",
    "<br>\n",
    "\n",
    "- 변수 중요도 결과를 토대로 상위 15개를 선정 하였고, PO, CS%, /144, Err RAA 등의 수비 관련 변수가 포함되어 있음을 확인."
   ]
  },
  {
   "cell_type": "markdown",
   "metadata": {
    "id": "K9D1pmDZMcx3"
   },
   "source": [
    "- 결론\n",
    "  - 수비 데이터의 중요성\n",
    "    - 수비는 실점을 방지하고 상대 팀의 공격을 제한하는 데 결정적인 역할을 함.\n",
    "    - 수비는 경기의 흐름을 바꾸는 결정적인 순간에 영향을 미칠 수 있음.\n",
    "    - PO (수비가 타자를 아웃시킨 횟수)가 높은 중요도를 기록하였고, 수비 횟수가 높을 수록 승률에도 영향을 미침을 알 수 있음.\n",
    "    - Range RAA(수비수의 커버 가능 범위) 또한, 수비수가 얼마나 많은 볼을 처리할 수 있는 가를 나타내며 수비수가 넓은 범위를 잘 커버할 수록, 팀의 승률에 기여함을 알 수 있음.\n",
    "    - 타구, 투구 데이터 보다도 높은 중요성을 보이는 수비 변수를 확인할 수 있었고, 따라서, 효과적인 수비는 팀의 승률을 높이는 데 중요한 역할을 한다고 볼 수 있음.\n",
    "\n",
    "  - 추가연구 가능성 :\n",
    "    - 특정 상황에서의 수비와 팀 분위기 영향 분석 : 특정 상황(만루, 동점, 득점권 상황)에서의 수비 성공이 다음 공격에서 공격력이 상승하는지 분석하여 팀의 분위기에 미치는 영향을 분석함\n",
    "    - 수비수, 타자, 투수 유형 분류를 통한 팀별 상위팀과 하위팀의 강점, 약점 분석 : 야구에서 기록되는 다양한 데이터를 활용해 수비수(포지션), 투수(투구 종류), 타자(타구 종류) 유형 분류를 통해 강팀과 약팀의 선수 유형을 파악하고 강점, 약점을 분석함"
   ]
  },
  {
   "cell_type": "markdown",
   "metadata": {
    "id": "RXqKiIuqlVT9"
   },
   "source": [
    "<br>\n"
   ]
  },
  {
   "cell_type": "markdown",
   "metadata": {
    "id": "OXwTeTC6AdsI"
   },
   "source": [
    "# Basketball"
   ]
  },
  {
   "cell_type": "markdown",
   "metadata": {
    "id": "mc-a0zPFXZVX"
   },
   "source": [
    "- 사용 데이터 :\n",
    "  - KBL 23-24시즌 정규 경기의 팀 1차 스탯 (https://kbl.or.kr/record/team)  \n",
    "  - 강중약팀(1,6,10순위)간의 경기 1차 스탯을 쿼터별로 구분하여 종합<br>\n",
    "\n",
    "  <img src=\"weekly_images/2324_팀순위.png\" width=\"400\">"
   ]
  },
  {
   "cell_type": "markdown",
   "metadata": {
    "id": "LfDVnyWLAdx5"
   },
   "source": [
    "## 상관계수를 통한 경기 흐름 파악\n",
    "\n",
    "**1. 승률과 스탯의 상관계수**\n",
    "\n",
    "- 승률과 스탯의 상관계수를 통해 경기의 전반적인 흐름을 파악하고자 함\n",
    "\n",
    "**[양의 관계]**\n",
    "\n",
    "| Variable | 변수 설명              | Value  |\n",
    "|----------|-----------------------|--------|\n",
    "| +/-      | 득실마진              | 0.839  |\n",
    "| FG%      | 야투 성공률           | 0.787  |\n",
    "| PTS      | 총득점               | 0.748  |\n",
    "| 2P%      | 2점 성공률            | 0.736  |\n",
    "| PP%      | 페인트존 득점 성공률   | 0.71   |\n",
    "\n",
    "<br>\n",
    "<img src=\"weekly_images/winrate_boxplot_(+).png\" width=\"500\"><br><br>\n",
    "\n",
    "- 득실마진, 야투, 총득점: 승률과 직접적 연관이 있기에 승률과의 강한 양의 관계는 당연한 결과로 볼 수 있음\n",
    "- 2점슛, 페인트존 득점: 이 두 변수로 인한 득점이 승리팀의 전체 득점에서 많이 차지함을 알 수 있음\n",
    "\n",
    "**[ 음의 관계 ]**\n",
    "\n",
    "| Variable | 변수 설명       | Value   |\n",
    "|----------|----------------|---------|\n",
    "| OREB     | 공격 리바운드  | -0.51   |\n",
    "| GD       | 굿디펜스       | -0.451  |\n",
    "| TO       | 턴오버         | -0.328  |\n",
    "| 2PA      | 2점 시도       | -0.25   |\n",
    "| FGA      | 야투 시도      | -0.21   |\n",
    "\n",
    "<br>\n",
    "<img src=\"weekly_images/winrate_boxplot_(-).png\" width=\"500\"><br><br>\n",
    "\n",
    "- 공격 리바운드: 공격이 계속해서 이루어지지만, 그 공격들이 득점으로 연결되지 않는 경우가 많음\n",
    "- 굿디펜스: GD가 높은건 수비팀이 잘하고 있다는 것을 의미함. 승률이 높을수록 GD가 낮음. 승률 높은 팀이 수비보다는 공격에 집중\n",
    "- 턴오버: 턴오버는 상대방에게 공을 넘기게 되는 상황. 승률이 높은 팀이 턴오버를 적게 범함.\n",
    "- 2점 시도, 야투 시도: 슛 시도가 많은 팀일수록 승률이 낮음. 단순히 많은 시도보다 슛 성공률을 높이는 훈련이 필요함<br><br>\n",
    "\n",
    "**2. 쿼터와 승률의 상관계수**\n",
    "\n",
    "- 쿼터에 따른 경기 동향을 살피기 위해 쿼터와 스탯들 간의 상관관계를 살펴봄<br>\n",
    "\n",
    "**[ 양의 관계 ]**\n",
    "\n",
    "| Variable | 변수 설명    | value  |\n",
    "|----------|-------------|-------|\n",
    "| 3PM      | 3점 성공    | 0.392 |\n",
    "| 3PA      | 3점 시도    | 0.357 |\n",
    "| 3P%      | 3점 성공률  | 0.297 |\n",
    "| FT%      | 자유투 성공률 | 0.197 |\n",
    "| FG%      | 야투 성공률  | 0.08  |\n",
    "\n",
    "<br>\n",
    "<img src=\"weekly_images/boxplot_(+).png\" width=\"500\"><br><br>\n",
    "\n",
    "\n",
    "**[ 음의 관계 ]**\n",
    "\n",
    "| Variable | 변수 설명          | value    |\n",
    "|----------|-------------------|---------|\n",
    "| 2PA      | 2점 시도          | -0.519  |\n",
    "| DREB     | 수비 리바운드    | -0.463  |\n",
    "| REB      | 리바운드          | -0.451  |\n",
    "| 2PM      | 2점 성공          | -0.439  |\n",
    "| PP       | 페인트존 성공      | -0.41   |\n",
    "\n",
    "<br>\n",
    "<img src=\"weekly_images/boxplot_(-).png\" width=\"500\"><br><br>\n",
    "\n",
    "- 경기 초반: 2점슛, 리바운드 변수가 주요 음의 관계 변수 나타남. 리바운드의 경우 선수들이 슛을 시도한 후, 공이 골대에 맞고 튕겨 나온 것을 잡는 플레이를 뜻함. 따라서 경기 초반에 슛 시도가 많아지고 리바운드 상황도 함께 증가함. 이는 경기 초반 득점을 빠르게 올리기 위해 공격 중심 전략이 강조됨을 알 수 있음.\n",
    "\n",
    "- 경기 후반: 3점슛, 자유투 성공이 많아짐. 경기 후반에 효율적으로 높은 득점을 얻기 위해 위해 3점 슛 전략이 빈번한 것으로 보임.\n",
    "\n",
    "<br>\n"
   ]
  },
  {
   "cell_type": "markdown",
   "metadata": {
    "id": "IF2QVk9wAd4a"
   },
   "source": [
    "## RF를 이용한 쿼터별 중요 변수 확인\n",
    "\n",
    "사용 데이터 : KBL 23-24시즌 정규 경기의 팀 1차 스탯\n",
    "\n",
    "- '승률'을 타겟으로 한 RF모델\n",
    "\n",
    "<img src=\"weekly_images/target_win_rate.png\" width=\"500\">\n",
    "\n",
    "- 결과 해석:\n",
    "각 쿼터에서 가장 중요한 특성들이 다르게 나타남.\n",
    "\n",
    "1쿼터: FGM (Field Goals Made)과 FG% (Field Goal Percentage), 공격 효율성\n",
    "\n",
    "2쿼터: PP (Points Per Possession), 공격 효율성을 더욱 강조\n",
    "\n",
    "3쿼터: 3P% (Three-Point Percentage), 외곽에서의 슈팅 중요성 부각\n",
    "\n",
    "4쿼터: TO (Turnovers), 경기 마지막 순간의 실수가 승패를 좌우\n",
    "\n",
    "- 'PTS'(총 득점)을 타겟으로 한 RF모델\n",
    "\n",
    "<img src=\"weekly_images/target_PTS.png\" width=\"500\">\n",
    "\n"
   ]
  },
  {
   "cell_type": "markdown",
   "metadata": {
    "id": "SJxbL-TQAeAv"
   },
   "source": [
    "## LM 이용한 쿼터별 중요 변수 확인\n",
    "\n",
    "+ 쿼터별 상위 5 주요 변수\n",
    "\n",
    "| Quarter | Estimate                 | Variable    |\n",
    "|---------|--------------------------|-------------|\n",
    "| 1       | 4.8255319                | X2PM        |\n",
    "| 1       | -4.2361702               | X2PA        |\n",
    "| 1       | 2.8574468                | PTS         |\n",
    "| 2       | 11.8794562               | X2PM        |\n",
    "| 2       | -3.4262840               | X2PA        |\n",
    "| 2       | -0.1708963               | PTS         |\n",
    "| 3       | 2.7374600                | X2PM        |\n",
    "| 3       | 1.5638207                | PTS         |\n",
    "| 3       |  -1.5184632              | X2PA        |\n",
    "| 4       | 18.5082474               | X2PM        |\n",
    "| 4       | -7.9986254               | PTS         |\n",
    "| 4       | -6.0446735               | X2PA        |\n",
    "\n",
    "+ 변수 설명\n",
    "    + X2PM : 2점슛 성공\n",
    "    + X2PA : 2점슛 시도\n",
    "    + PTS : 총 득점\n",
    "\n",
    "+ 과정\n",
    "    + Linear regression으로 모델 생성 후, Estimate값을 기준으로 쿼터별로 가장 영향력이 높은 3가지 변수를 추출\n",
    "\n",
    "+ 해석\n",
    "    + 4쿼터 모두 공통적으로 3가지 변수가 등장함\n",
    "    + 하지만, 절대값의 차이로 인해, 중요도는 차이를 보이고 있음\n",
    "        + ex. X2PM은 모든 쿼터에서 가장 높은 추정량을 보였지만, 2,4쿼터에서 그 정도가 다른 쿼터에 비해 높음\n",
    "\n",
    "+ 한계\n",
    "    + 이외에도 너무 많은 변수 사용과 높은 다중공선성으로 t-value 계산이 안됨, 통계적 유의성 보장이 안되므로, 전처리를 통해 변수를 컴펙트 있게 만들 필요가 있음\n",
    "\n",
    "+ 결론\n",
    "    + 다양한 스탯이 경기결과에 어떠한 영향을 미치는지 각각 살펴봄\n",
    "    + 쿼터와의 상관관계 분석으로 경기가 후반으로 갈 수록 음, 양의 영향을 끼치는지 확인할 수 있었음\n",
    "    + RF모델과 LM모델을 이용하여 쿼터별 중요 특성이 달라짐을 확인할 수 있었음\n",
    "        + 특히, 쿼터별 중요변수가 비슷하더라도, 그 정도의 차이가 있음을 알 수 있음\n",
    "\n",
    "+ 발전 가능성\n",
    "    + 시즌별 상위 3팀/중위권 4팀/하위 3팀 분류 후 통합하는 것으로 데이터 확보\n",
    "    + 다중공선성이 높다는 특징을 이용하여 변수간의 조합을 이용하여 유의미한 파생변수 도출 가능성"
   ]
  },
  {
   "cell_type": "markdown",
   "metadata": {
    "id": "ubFeb6Fvk3Fv"
   },
   "source": [
    "## Pending assignments or requests\n",
    "\n",
    "- 최종 연구 주제 선정 및 데이터 수집\n",
    "- 연구 주제와 관련된 방법론 탐색 및 데이터 분석 실습"
   ]
  }
 ],
 "metadata": {
  "colab": {
   "provenance": []
  },
  "kernelspec": {
   "display_name": "Python 3",
   "name": "python3"
  },
  "language_info": {
   "name": "python"
  }
 },
 "nbformat": 4,
 "nbformat_minor": 0
}
