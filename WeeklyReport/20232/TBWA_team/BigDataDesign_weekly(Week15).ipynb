{
 "cells": [
  {
   "attachments": {},
   "cell_type": "markdown",
   "metadata": {},
   "source": [
    "# Weekly Report\n",
    "- Team members: 21700086 Kim, 21900338 Bae, 22000282 Park, 22000457 Yoo\n",
    "- Meeting Date: 231204\n",
    "- Project Name: Applying an Advertising Business Model using the LLM Model: Optimizing Advertising Business Operations through Prompt Engineering\n",
    "- Project Goal: Report-Copilot (Data to Text)\n",
    "    - Generate prompts for reports on KPI changes through natural language interpretation of data"
   ]
  },
  {
   "attachments": {},
   "cell_type": "markdown",
   "metadata": {},
   "source": [
    "### Weekly plan (Fill this in)\n",
    "\n",
    "| Week    | Schedule        | Note                      |\n",
    "|---------|-----------------|---------------------------|\n",
    "| Week 9  | Background Research | 생성형 AI 모델 조사 및 Prompt Enginnering 기법 공부 |\n",
    "| Week 10 | Single Data Prompt Engineering & EDA |                           |\n",
    "| Week 11 | Single Data Prompt Engineering & EDA |                           |\n",
    "| Week 12 | Single Data Prompt Engineering & 논문 읽기 |                           |\n",
    "| Week 13 | Single Data Prompt Engineering, Dual Indicator Data Prompt Engineering(월~수) |  Single, dual 피드백 후 개선               |\n",
    "| Week 14 | Dual Indicator Data Prompt 개선, multiple Data Prompt Engineering(월~수) |  목요일 TBWA 피드백 후 최종 프롬프트 개선(목~일)  |\n",
    "| Week 15 | 캠페인 별  코멘트 표가 나오는 프롬프트 작성, 최종발표(금)       |                           |\n",
    "| Week 16 | Proposal report 작성|                           |  \n"
   ]
  },
  {
   "attachments": {},
   "cell_type": "markdown",
   "metadata": {},
   "source": [
    "### Summary of previous meeting\n",
    "- Previous discussion: Single, multi data prompt engineering\n",
    "- Comments from Professor: \n",
    "        - Proposal 계획 세우기\n",
    "- Previous plan:"
   ]
  },
  {
   "cell_type": "markdown",
   "metadata": {},
   "source": [
    "### Summary of working progress\n",
    "\n",
    "#### **전체 회사 비교**\n",
    "\n",
    "https://chat.openai.com/share/018a4d76-7775-4300-9cde-3ee755ffe555\n",
    "\n",
    "#### **daily report prompt**\n",
    "\n",
    "https://chat.openai.com/share/018a4d76-7775-4300-9cde-3ee755ffe555\n",
    "\n",
    "\n",
    "\n",
    "#### **R Shiny & Power BI & Tableau**\n",
    "\n",
    "| 특성                | R Shiny                                  | Power BI                                  | Tableau                                                 |\n",
    "|---------------------|------------------------------------------|-------------------------------------------|---------------------------------------------------------|\n",
    "| 프로그래밍 언어     | R 언어 기반                              | M 및 DAX 등 사용자 친화적인 언어          | 스크립팅 언어를 사용하지 않음                           |\n",
    "| 사용자 친화성       | R 프로그래밍에 익숙한 사용자에게 강력    | 비전문가도 쉽게 사용 가능한 UI            | 직관적이고 사용자 친화적인 UI, 드래그 앤 드롭 기능      |\n",
    "| 가격 및 라이선스    | 오픈 소스, 무료                          | 무료 버전 및 유료 버전                    | 무료 버전 및 유료 버전, 라이선스 비용 다양              |\n",
    "| 데이터 소스 및 연결 | 다양한 데이터 소스와 통합 가능           | 다양한 데이터 소스와 연결 가능            | 다양한 데이터 소스와 연결 가능, 강력한 전처리 기능      |\n",
    "| 설치 및 배포        | 오픈 소스이므로 설치 및 배포 비교적 간단 | 클라우드 기반이며 서비스를 통해 쉽게 배포 | 클라우드 또는 온프레미스 배포 가능, 서버 기반 배포 가능 |\n",
    "\n",
    "\n",
    "#### **이해 안되는 부분들**  \n",
    "1. Fine tuning을 해야 하는지.     \n",
    "     - 웹서비스 챗봇 ai를 만들려면 fine tuning이 필요할 것으로 예상됨 (ex.뤼튼)   \n",
    "       \n",
    "2. 대시보드(타블로)에 챗봇을 어떻게 연동시킬 수 있는지    \n",
    "    - 연동이 안되면 직접 챗봇을 만들어야 하는지\n",
    "        \n",
    "3. 어떤 매체로 챗봇을 만들어야 하는지     \n",
    "    - html, 카카오, ChatGPT (playground) ...    \n",
    "    - 그리고 이걸 어떻게 다른 서비스(타블로나 웹)와 접목시킬 수 있는지        \n",
    "         \n",
    "4. Fine tuning을 사용하지 않는다면, 사용자에게 우리가 짠 프롬프트를 그대로 제공하여 이걸 그대로 사용하라고 하는건지      \n",
    "\n",
    "5. 프로젝트의 정확한 목적     \n",
    "    - 최종적인 목적이 뤼튼 같은 제품?을 만드는 것인지   \n",
    "          \n",
    "6. 지금까지 우리가 한 코드 전처리는 필요가 없는 것인지        \n",
    "\n",
    "\n",
    "\n"
   ]
  },
  {
   "attachments": {},
   "cell_type": "markdown",
   "metadata": {},
   "source": [
    "### Pending assignments or requests\n",
    "- pending assingments: \n",
    "- requests: 다음학기 어떻게 할 것인지 교수님과 조금 더 구체적인 계획 세워보기"
   ]
  }
 ],
 "metadata": {
  "language_info": {
   "name": "python"
  },
  "orig_nbformat": 4
 },
 "nbformat": 4,
 "nbformat_minor": 2
}
