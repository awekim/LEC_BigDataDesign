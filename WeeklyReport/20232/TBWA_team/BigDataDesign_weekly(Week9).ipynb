{
 "cells": [
  {
   "attachments": {},
   "cell_type": "markdown",
   "metadata": {},
   "source": [
    "# Weekly Report\n",
    "- Team members: 21700086 Kim, 21900338 Bae, 22000282 Park, 22000457 Yoo\n",
    "- Meeting Date: 231030\n",
    "- Project Name: Applying an Advertising Business Model using the LLM Model: Optimizing Advertising Business Operations through Prompt Engineering\n",
    "- Project Goal: Report-Copilot (Data to Text)\n",
    "    - Generate prompts for reports on KPI changes through natural language interpretation of data"
   ]
  },
  {
   "attachments": {},
   "cell_type": "markdown",
   "metadata": {},
   "source": [
    "### Weekly plan (Fill this in)\n",
    "\n",
    "| Week    | Schedule        | Note                      |\n",
    "|---------|-----------------|---------------------------|\n",
    "| Week 9  | Background Research | 생성형 AI 모델 조사 및 Prompt Enginnering 기법 공부 |\n",
    "| Week 10 |                 |                           |\n",
    "| Week 11 |                 |                           |\n",
    "| Week 12 |                 |                           |\n",
    "| Week 13 |                 |                           |\n",
    "| Week 14 |                 |                           |\n",
    "| Week 15 |                 |                           |\n",
    "| Week 16 |                 |                           |\n",
    "\n"
   ]
  },
  {
   "attachments": {},
   "cell_type": "markdown",
   "metadata": {},
   "source": [
    "### Summary of previous meeting\n",
    "- Previous discussion: Project Overview\n",
    "- Comments from Professor: 생성형 AI 모델 비교 및 이해, Table input 방법 조사\n",
    "- Previous plan:"
   ]
  },
  {
   "attachments": {},
   "cell_type": "markdown",
   "metadata": {},
   "source": [
    "### Summary of working progress\n",
    "- Level of progress in weekly plan: 90% completed.\n",
    "- Progress 1: 생성형 AI 모델 장단점 조사 및 비교 (90%)\n",
    "\n",
    "| AI 모델       | 특징/장점                                                                                                                                                                              | 단점                                                                                                                                                                                     |\n",
    "|--------------|--------------------------------------------------------------------------------------------------------------------------------------------------------------------------------------------------------------------------------------------------------|------------------------------------------------------------------------------------------------------------------------------------------------------------------------------------------|\n",
    "| 네이버 클로바 X (하이퍼클로바X) | - 한국어에 특화되어 있어 국내 정보에 밝음. - '스킬 시스템'을 통해 네이버의 다양한 서비스와 연결되어 장소, 상품 등 최신 정보를 빠르게 얻을 수 있음. | - 민감한 질문을 회피하는 경향이 있음. - 수학, 과학 등의 영역은 챗GPT보다 떨어짐. - 비교적 창작 능력이 부족함. - 대체적으로 답변의 질이 좋지 않음. |\n",
    "| 챗GPT (GPT-3) | - 자연어 이해 능력이 뛰어나며 대용량 데이터 학습에 기반함. - 다목적 활용 가능하며 다양한 자연어 처리 작업 수행 가능. - 확장 가능성이 있음. | - 인간과의 구분이 어려워 윤리적 문제 가능성 존재. - 데이터 편향성이 있음. - 상호 작용에 한계가 있음. - 실제 이해 능력이 제한적임. - 대량의 데이터 및 컴퓨팅 리소스 필요. |\n",
    "| 구글 바드 (LaMDA, PaLM) | - 다양한 답변 보기 옵션을 제공함. - 여러 언어에 최적화되어 특히 한국어 결과물이 우수함. - 음성 질문이 가능함. - 공유 및 내보내기 기능을 통해 결과물을 다양한 형식으로 공유 가능. - 최신 정보 활용 가능. - 대규모 데이터 세트를 기반으로 포괄적이고 유용한 응답 생성. | - 창의적 콘텐츠 생성에 제한이 있음. - 유익한 방식으로 질문에 대답하기 어려울 수 있음. - 다양한 기능을 위해 큰 규모의 컴퓨팅 자원이 필요. - 개인정보 수집 가능성이 있음. - 오류와 편향이 발생하기 쉬움. |\n",
    "| Bing AI (GPT-4) | - 다양한 토픽 및 질문을 처리 가능. - 검색 엔진과 연결하여 인터넷 검색 결과를 답변에 반영 가능. - 다국어 지원. - 대화 스타일 선택으로 결과 형식을 개인화 가능. - 관련 질문 목록을 제시. - 이미지 생성이 가능. | - 질문 길이 및 사용량에 제한이 있음. - 이전 질문 결과를 참조하지만 상호 작용에 한계가 있음. - 정보 수집 및 개인정보 문제 가능성이 있음. - 오류와 편향이 발생 가능성이 있음. |\n",
    "\n",
    "- Progress 2: 여러 Prompt Engineering 기법 조사 및 적용 (90%)\n",
    "- Progress 3: 관련 논문 조사 (90%)"
   ]
  },
  {
   "attachments": {},
   "cell_type": "markdown",
   "metadata": {},
   "source": [
    "### Pending assignments or requests\n",
    "- pending assingments: 데이터 이해\n",
    "- requests: 샘플 데이터 제공 요청 "
   ]
  }
 ],
 "metadata": {
  "language_info": {
   "name": "python"
  },
  "orig_nbformat": 4
 },
 "nbformat": 4,
 "nbformat_minor": 2
}
