{
 "cells": [
  {
   "attachments": {},
   "cell_type": "markdown",
   "metadata": {},
   "source": [
    "# Random Forest Methodology"
   ]
  },
  {
   "attachments": {},
   "cell_type": "markdown",
   "metadata": {},
   "source": [
    "##### Author information\n",
    "- Name: Rubiga Kim\n",
    "- email address: \n",
    "- GitHub: "
   ]
  },
  {
   "cell_type": "markdown",
   "metadata": {},
   "source": [
    "#### Part 1. Brief background of methodology\n",
    "- Explain the situation before this methodology was introduced.\n",
    "\n",
    "Before the introduction of the Random Forest methodology, various algorithms were used for classification tasks, such as decision trees and ensemble methods like bagging and boosting. But, these methods had certain limitations. Decision trees tend to overfit the training data, leading to poor generalization on unseen data. Bagging improved the performance by combining multiple decision trees, but it still suffered from overfitting in certain cases. Boosting methods addressed the overfitting issue but were computationally expensive.\n",
    "\n",
    "- Explain why this methodology is introduced and where it can be used.\n",
    "\n",
    "Random Forest methodology was introduced as a solution to overcome these limitations. It was proposed by Leo Breiman in 2001. Random Forest combines the concepts of bagging and feature randomness to create an ensemble of decision trees. It aims to reduce overfitting, improve generalization, and provide robust predictions.\n",
    "\n",
    "Random Forest methodology is introduced to handle classification and regression tasks. It can be used in various domains such as healthcare, finance, marketing, and image recognition. It has gained popularity due to its high predictive accuracy, ability to handle high-dimensional data, and resistance to overfitting.\n",
    "\n",
    "*Relevance to my toy example (Ref \"Early Diagnosis of Breast Cancer Prediction using <u>Random Forest</u> Classifier\":  https://iopscience.iop.org/article/10.1088/1757-899X/1116/1/012187)*\n",
    "\n",
    "1. <u>Random forest</u> is utilized for prediction of breast cancer using a dataset consisting of features and corresponding labels indicating whether the cases are malignant or benign. \n",
    "2. <u>Random forest</u> have a built-in capability to measure feature importance to allow identification of most relevant features for prediction\n",
    "3. Once the <u>Random Forest</u> model is trained and evaluated, it can be used to make predictions on new, unseen data. It would be able ouput the predict class label (malignant or benign) \n",
    "\n",
    "![Alt Text](Randomforest_acc.jpg)"
   ]
  },
  {
   "cell_type": "markdown",
   "metadata": {},
   "source": [
    "#### Part 2. Key concept of methodology\n",
    "- Explain the key concept of the methodology with mathematical equations.\n",
    "\n",
    "Let **X** be the input features and **Y** be the target variable.\n",
    "\n",
    "1. Bagging (Bootstrap Aggregation): Random Forest uses the concept of bagging, which involves creating multiple subsets of the original training data by randomly sampling with replacement. Each subset is used to train a separate decision tree.<br>\n",
    "Create **B** subsets **D1, D2, ..., DB** of the training data using bootstrap sampling:\n",
    "**Di = {(xi, yi) | xi, yi ∈ X, Y}** (where **xi** is a feature vector and **yi** is the corresponding target value)\n",
    "\n",
    "2. Feature Randomness: In each decision tree of the Random Forest, feature randomness is introduced by considering only a random subset of features at each node split. This helps in reducing the correlation between trees and improving the diversity of the ensemble.<br>\n",
    "For each subset **Di**, grow a decision tree **Ti** using a random subset of features.\n",
    "At each node, select a random subset of features **Fk** from the full feature set **F**.\n",
    "\n",
    "3. Ensemble Voting: Random Forest combines the predictions of all decision trees in the ensemble to make the final prediction. In classification tasks, it uses majority voting, where the class with the most votes is selected. In regression tasks, it uses averaging to obtain the final prediction.<br>\n",
    "For <u>classification tasks</u>, predict the class label by majority voting of all decision trees:<br>\n",
    "Final prediction = mode(**T1(X), T2(X), ..., TB(X)**)<br>\n",
    "For <u>regression tasks</u>, predict the target value by averaging the predictions of all decision trees:<br>\n",
    "Final prediction = mean(**T1(X), T2(X), ..., TB(X)**)<br>\n",
    "\n",
    "- Explain the main strength of the methodology. "
   ]
  },
  {
   "cell_type": "markdown",
   "metadata": {},
   "source": [
    "#### Part 3. Example\n",
    "- Using a very simple toy data, write down a sample code.\n",
    "- You must present the result, what it means, and how it can be used."
   ]
  },
  {
   "cell_type": "code",
   "execution_count": 217,
   "metadata": {},
   "outputs": [
    {
     "name": "stdout",
     "output_type": "stream",
     "text": [
      "Accuracy: 0.9649122807017544\n"
     ]
    }
   ],
   "source": [
    "from sklearn.ensemble import RandomForestClassifier\n",
    "from sklearn.datasets import load_breast_cancer\n",
    "from sklearn.model_selection import train_test_split\n",
    "from sklearn.metrics import accuracy_score\n",
    "\n",
    "# Load the breast cancer dataset\n",
    "data = load_breast_cancer()\n",
    "X = data.data  # Features\n",
    "y = data.target  # Target variable\n",
    "\n",
    "# Split the data into training and testing sets\n",
    "X_train, X_test, y_train, y_test = train_test_split(X, y, test_size=0.2, random_state=42)\n",
    "\n",
    "# Create a Random Forest Classifier\n",
    "rf_classifier = RandomForestClassifier(n_estimators=100, random_state=42)\n",
    "\n",
    "# Train the classifier\n",
    "rf_classifier.fit(X_train, y_train)\n",
    "\n",
    "# Make predictions on the test set\n",
    "y_pred = rf_classifier.predict(X_test)\n",
    "\n",
    "# Calculate the accuracy of the model\n",
    "accuracy = accuracy_score(y_test, y_pred)\n",
    "print(\"Accuracy:\", accuracy)\n"
   ]
  },
  {
   "cell_type": "markdown",
   "metadata": {},
   "source": [
    "<u>Result</u><br>\n",
    "The code trains a Random Forest Classifier on the breast cancer dataset and makes predictions on the test set. The accuracy of the model is printed, which represents the percentage of correct predictions.\n",
    "\n",
    "<u>Usage and Interpretation</u><br>\n",
    "The accuracy score obtained indicates how well the Random Forest model predicts the breast cancer as malignant or benign. This information can be used to assess the effectiveness of the model in identifying breast cancer cases. Higher accuracy implies better performance. The trained model can be further utilized to predict the malignancy of new, unseen cases based on their features, aiding in early detection and medical decision-making."
   ]
  },
  {
   "cell_type": "markdown",
   "metadata": {},
   "source": [
    "## <u>Implementing methodology on actual data</u>\n",
    "Source: UCI Machine Learning Respository<br>\n",
    "https://archive-beta.ics.uci.edu/dataset/17/breast+cancer+wisconsin+diagnostic"
   ]
  },
  {
   "cell_type": "markdown",
   "metadata": {},
   "source": [
    "### Summary of implementation\n",
    "1. The data is explored so that we would know what data we are working with to <u>decide on a methodology<u/>.\n",
    "2. The quality of the target variables are checked to see the possibility of categorization so that it would give better accuracy for the proposed methodology.\n",
    "3. The feature variables and their quality is checked ~ possibility of dimension reduction and normalization\n",
    "4. Checked previous studies related with breast cancer and check whether the accuracy of the proposed methodology is similar to that of previous study. "
   ]
  },
  {
   "cell_type": "markdown",
   "metadata": {},
   "source": [
    "## 1. Import required packages"
   ]
  },
  {
   "cell_type": "code",
   "execution_count": 267,
   "metadata": {},
   "outputs": [],
   "source": [
    "import numpy as np\n",
    "import pandas as pd\n",
    "import seaborn as sns\n",
    "import matplotlib.pyplot as plt\n",
    "from sklearn.svm import SVC"
   ]
  },
  {
   "cell_type": "markdown",
   "metadata": {},
   "source": [
    "## 2. Load the prepared training data "
   ]
  },
  {
   "cell_type": "code",
   "execution_count": 268,
   "metadata": {},
   "outputs": [
    {
     "data": {
      "text/html": [
       "<div>\n",
       "<style scoped>\n",
       "    .dataframe tbody tr th:only-of-type {\n",
       "        vertical-align: middle;\n",
       "    }\n",
       "\n",
       "    .dataframe tbody tr th {\n",
       "        vertical-align: top;\n",
       "    }\n",
       "\n",
       "    .dataframe thead th {\n",
       "        text-align: right;\n",
       "    }\n",
       "</style>\n",
       "<table border=\"1\" class=\"dataframe\">\n",
       "  <thead>\n",
       "    <tr style=\"text-align: right;\">\n",
       "      <th></th>\n",
       "      <th>Sample code number</th>\n",
       "      <th>Clump Thickness</th>\n",
       "      <th>Uniformity of Cell Size</th>\n",
       "      <th>Uniformity of Cell Shape</th>\n",
       "      <th>Marginal Adhesion</th>\n",
       "      <th>Single Epithelial Cell Size</th>\n",
       "      <th>Bare Nuclei</th>\n",
       "      <th>Bland Chromatin</th>\n",
       "      <th>Normal Nucleoli</th>\n",
       "      <th>Mitoses</th>\n",
       "      <th>Class</th>\n",
       "    </tr>\n",
       "  </thead>\n",
       "  <tbody>\n",
       "    <tr>\n",
       "      <th>0</th>\n",
       "      <td>1000025</td>\n",
       "      <td>5</td>\n",
       "      <td>1</td>\n",
       "      <td>1</td>\n",
       "      <td>1</td>\n",
       "      <td>2</td>\n",
       "      <td>1</td>\n",
       "      <td>3</td>\n",
       "      <td>1</td>\n",
       "      <td>1</td>\n",
       "      <td>2</td>\n",
       "    </tr>\n",
       "    <tr>\n",
       "      <th>1</th>\n",
       "      <td>1002945</td>\n",
       "      <td>5</td>\n",
       "      <td>4</td>\n",
       "      <td>4</td>\n",
       "      <td>5</td>\n",
       "      <td>7</td>\n",
       "      <td>10</td>\n",
       "      <td>3</td>\n",
       "      <td>2</td>\n",
       "      <td>1</td>\n",
       "      <td>2</td>\n",
       "    </tr>\n",
       "    <tr>\n",
       "      <th>2</th>\n",
       "      <td>1015425</td>\n",
       "      <td>3</td>\n",
       "      <td>1</td>\n",
       "      <td>1</td>\n",
       "      <td>1</td>\n",
       "      <td>2</td>\n",
       "      <td>2</td>\n",
       "      <td>3</td>\n",
       "      <td>1</td>\n",
       "      <td>1</td>\n",
       "      <td>2</td>\n",
       "    </tr>\n",
       "    <tr>\n",
       "      <th>3</th>\n",
       "      <td>1016277</td>\n",
       "      <td>6</td>\n",
       "      <td>8</td>\n",
       "      <td>8</td>\n",
       "      <td>1</td>\n",
       "      <td>3</td>\n",
       "      <td>4</td>\n",
       "      <td>3</td>\n",
       "      <td>7</td>\n",
       "      <td>1</td>\n",
       "      <td>2</td>\n",
       "    </tr>\n",
       "    <tr>\n",
       "      <th>4</th>\n",
       "      <td>1017023</td>\n",
       "      <td>4</td>\n",
       "      <td>1</td>\n",
       "      <td>1</td>\n",
       "      <td>3</td>\n",
       "      <td>2</td>\n",
       "      <td>1</td>\n",
       "      <td>3</td>\n",
       "      <td>1</td>\n",
       "      <td>1</td>\n",
       "      <td>2</td>\n",
       "    </tr>\n",
       "    <tr>\n",
       "      <th>...</th>\n",
       "      <td>...</td>\n",
       "      <td>...</td>\n",
       "      <td>...</td>\n",
       "      <td>...</td>\n",
       "      <td>...</td>\n",
       "      <td>...</td>\n",
       "      <td>...</td>\n",
       "      <td>...</td>\n",
       "      <td>...</td>\n",
       "      <td>...</td>\n",
       "      <td>...</td>\n",
       "    </tr>\n",
       "    <tr>\n",
       "      <th>694</th>\n",
       "      <td>776715</td>\n",
       "      <td>3</td>\n",
       "      <td>1</td>\n",
       "      <td>1</td>\n",
       "      <td>1</td>\n",
       "      <td>3</td>\n",
       "      <td>2</td>\n",
       "      <td>1</td>\n",
       "      <td>1</td>\n",
       "      <td>1</td>\n",
       "      <td>2</td>\n",
       "    </tr>\n",
       "    <tr>\n",
       "      <th>695</th>\n",
       "      <td>841769</td>\n",
       "      <td>2</td>\n",
       "      <td>1</td>\n",
       "      <td>1</td>\n",
       "      <td>1</td>\n",
       "      <td>2</td>\n",
       "      <td>1</td>\n",
       "      <td>1</td>\n",
       "      <td>1</td>\n",
       "      <td>1</td>\n",
       "      <td>2</td>\n",
       "    </tr>\n",
       "    <tr>\n",
       "      <th>696</th>\n",
       "      <td>888820</td>\n",
       "      <td>5</td>\n",
       "      <td>10</td>\n",
       "      <td>10</td>\n",
       "      <td>3</td>\n",
       "      <td>7</td>\n",
       "      <td>3</td>\n",
       "      <td>8</td>\n",
       "      <td>10</td>\n",
       "      <td>2</td>\n",
       "      <td>4</td>\n",
       "    </tr>\n",
       "    <tr>\n",
       "      <th>697</th>\n",
       "      <td>897471</td>\n",
       "      <td>4</td>\n",
       "      <td>8</td>\n",
       "      <td>6</td>\n",
       "      <td>4</td>\n",
       "      <td>3</td>\n",
       "      <td>4</td>\n",
       "      <td>10</td>\n",
       "      <td>6</td>\n",
       "      <td>1</td>\n",
       "      <td>4</td>\n",
       "    </tr>\n",
       "    <tr>\n",
       "      <th>698</th>\n",
       "      <td>897471</td>\n",
       "      <td>4</td>\n",
       "      <td>8</td>\n",
       "      <td>8</td>\n",
       "      <td>5</td>\n",
       "      <td>4</td>\n",
       "      <td>5</td>\n",
       "      <td>10</td>\n",
       "      <td>4</td>\n",
       "      <td>1</td>\n",
       "      <td>4</td>\n",
       "    </tr>\n",
       "  </tbody>\n",
       "</table>\n",
       "<p>699 rows × 11 columns</p>\n",
       "</div>"
      ],
      "text/plain": [
       "     Sample code number  Clump Thickness  Uniformity of Cell Size  \\\n",
       "0               1000025                5                        1   \n",
       "1               1002945                5                        4   \n",
       "2               1015425                3                        1   \n",
       "3               1016277                6                        8   \n",
       "4               1017023                4                        1   \n",
       "..                  ...              ...                      ...   \n",
       "694              776715                3                        1   \n",
       "695              841769                2                        1   \n",
       "696              888820                5                       10   \n",
       "697              897471                4                        8   \n",
       "698              897471                4                        8   \n",
       "\n",
       "     Uniformity of Cell Shape   Marginal Adhesion  \\\n",
       "0                            1                  1   \n",
       "1                            4                  5   \n",
       "2                            1                  1   \n",
       "3                            8                  1   \n",
       "4                            1                  3   \n",
       "..                         ...                ...   \n",
       "694                          1                  1   \n",
       "695                          1                  1   \n",
       "696                         10                  3   \n",
       "697                          6                  4   \n",
       "698                          8                  5   \n",
       "\n",
       "     Single Epithelial Cell Size Bare Nuclei  Bland Chromatin  \\\n",
       "0                              2           1                3   \n",
       "1                              7          10                3   \n",
       "2                              2           2                3   \n",
       "3                              3           4                3   \n",
       "4                              2           1                3   \n",
       "..                           ...         ...              ...   \n",
       "694                            3           2                1   \n",
       "695                            2           1                1   \n",
       "696                            7           3                8   \n",
       "697                            3           4               10   \n",
       "698                            4           5               10   \n",
       "\n",
       "     Normal Nucleoli  Mitoses  Class  \n",
       "0                  1        1      2  \n",
       "1                  2        1      2  \n",
       "2                  1        1      2  \n",
       "3                  7        1      2  \n",
       "4                  1        1      2  \n",
       "..               ...      ...    ...  \n",
       "694                1        1      2  \n",
       "695                1        1      2  \n",
       "696               10        2      4  \n",
       "697                6        1      4  \n",
       "698                4        1      4  \n",
       "\n",
       "[699 rows x 11 columns]"
      ]
     },
     "execution_count": 268,
     "metadata": {},
     "output_type": "execute_result"
    }
   ],
   "source": [
    "#Read the data \n",
    "import pandas as pd\n",
    "df = pd.read_csv('breast-cancer-wisconsin.csv')\n",
    "df    "
   ]
  },
  {
   "cell_type": "code",
   "execution_count": 269,
   "metadata": {},
   "outputs": [
    {
     "data": {
      "text/plain": [
       "Sample code number             0\n",
       "Clump Thickness                0\n",
       "Uniformity of Cell Size        0\n",
       "Uniformity of Cell Shape       0\n",
       "Marginal Adhesion              0\n",
       "Single Epithelial Cell Size    0\n",
       "Bare Nuclei                    0\n",
       "Bland Chromatin                0\n",
       "Normal Nucleoli                0\n",
       "Mitoses                        0\n",
       "Class                          0\n",
       "dtype: int64"
      ]
     },
     "execution_count": 269,
     "metadata": {},
     "output_type": "execute_result"
    }
   ],
   "source": [
    "df.isna().sum()"
   ]
  },
  {
   "cell_type": "markdown",
   "metadata": {},
   "source": [
    "## 3. Explore the Data"
   ]
  },
  {
   "cell_type": "code",
   "execution_count": 270,
   "metadata": {},
   "outputs": [
    {
     "name": "stdout",
     "output_type": "stream",
     "text": [
      "<class 'pandas.core.frame.DataFrame'>\n",
      "RangeIndex: 699 entries, 0 to 698\n",
      "Data columns (total 11 columns):\n",
      " #   Column                       Non-Null Count  Dtype \n",
      "---  ------                       --------------  ----- \n",
      " 0   Sample code number           699 non-null    int64 \n",
      " 1   Clump Thickness              699 non-null    int64 \n",
      " 2   Uniformity of Cell Size      699 non-null    int64 \n",
      " 3   Uniformity of Cell Shape     699 non-null    int64 \n",
      " 4   Marginal Adhesion            699 non-null    int64 \n",
      " 5   Single Epithelial Cell Size  699 non-null    int64 \n",
      " 6   Bare Nuclei                  699 non-null    object\n",
      " 7   Bland Chromatin              699 non-null    int64 \n",
      " 8   Normal Nucleoli              699 non-null    int64 \n",
      " 9   Mitoses                      699 non-null    int64 \n",
      " 10  Class                        699 non-null    int64 \n",
      "dtypes: int64(10), object(1)\n",
      "memory usage: 60.2+ KB\n"
     ]
    }
   ],
   "source": [
    "df.info()"
   ]
  },
  {
   "cell_type": "code",
   "execution_count": 271,
   "metadata": {},
   "outputs": [],
   "source": [
    "df = df.replace('?', np.nan)"
   ]
  },
  {
   "cell_type": "code",
   "execution_count": 272,
   "metadata": {},
   "outputs": [
    {
     "data": {
      "text/html": [
       "<div>\n",
       "<style scoped>\n",
       "    .dataframe tbody tr th:only-of-type {\n",
       "        vertical-align: middle;\n",
       "    }\n",
       "\n",
       "    .dataframe tbody tr th {\n",
       "        vertical-align: top;\n",
       "    }\n",
       "\n",
       "    .dataframe thead th {\n",
       "        text-align: right;\n",
       "    }\n",
       "</style>\n",
       "<table border=\"1\" class=\"dataframe\">\n",
       "  <thead>\n",
       "    <tr style=\"text-align: right;\">\n",
       "      <th></th>\n",
       "      <th>Sample code number</th>\n",
       "      <th>Clump Thickness</th>\n",
       "      <th>Uniformity of Cell Size</th>\n",
       "      <th>Uniformity of Cell Shape</th>\n",
       "      <th>Marginal Adhesion</th>\n",
       "      <th>Single Epithelial Cell Size</th>\n",
       "      <th>Bare Nuclei</th>\n",
       "      <th>Bland Chromatin</th>\n",
       "      <th>Normal Nucleoli</th>\n",
       "      <th>Mitoses</th>\n",
       "      <th>Class</th>\n",
       "    </tr>\n",
       "  </thead>\n",
       "  <tbody>\n",
       "    <tr>\n",
       "      <th>0</th>\n",
       "      <td>1000025.0</td>\n",
       "      <td>5.0</td>\n",
       "      <td>1.0</td>\n",
       "      <td>1.0</td>\n",
       "      <td>1.0</td>\n",
       "      <td>2.0</td>\n",
       "      <td>1.0</td>\n",
       "      <td>3.0</td>\n",
       "      <td>1.0</td>\n",
       "      <td>1.0</td>\n",
       "      <td>2.0</td>\n",
       "    </tr>\n",
       "    <tr>\n",
       "      <th>1</th>\n",
       "      <td>1002945.0</td>\n",
       "      <td>5.0</td>\n",
       "      <td>4.0</td>\n",
       "      <td>4.0</td>\n",
       "      <td>5.0</td>\n",
       "      <td>7.0</td>\n",
       "      <td>10.0</td>\n",
       "      <td>3.0</td>\n",
       "      <td>2.0</td>\n",
       "      <td>1.0</td>\n",
       "      <td>2.0</td>\n",
       "    </tr>\n",
       "    <tr>\n",
       "      <th>2</th>\n",
       "      <td>1015425.0</td>\n",
       "      <td>3.0</td>\n",
       "      <td>1.0</td>\n",
       "      <td>1.0</td>\n",
       "      <td>1.0</td>\n",
       "      <td>2.0</td>\n",
       "      <td>2.0</td>\n",
       "      <td>3.0</td>\n",
       "      <td>1.0</td>\n",
       "      <td>1.0</td>\n",
       "      <td>2.0</td>\n",
       "    </tr>\n",
       "    <tr>\n",
       "      <th>3</th>\n",
       "      <td>1016277.0</td>\n",
       "      <td>6.0</td>\n",
       "      <td>8.0</td>\n",
       "      <td>8.0</td>\n",
       "      <td>1.0</td>\n",
       "      <td>3.0</td>\n",
       "      <td>4.0</td>\n",
       "      <td>3.0</td>\n",
       "      <td>7.0</td>\n",
       "      <td>1.0</td>\n",
       "      <td>2.0</td>\n",
       "    </tr>\n",
       "    <tr>\n",
       "      <th>4</th>\n",
       "      <td>1017023.0</td>\n",
       "      <td>4.0</td>\n",
       "      <td>1.0</td>\n",
       "      <td>1.0</td>\n",
       "      <td>3.0</td>\n",
       "      <td>2.0</td>\n",
       "      <td>1.0</td>\n",
       "      <td>3.0</td>\n",
       "      <td>1.0</td>\n",
       "      <td>1.0</td>\n",
       "      <td>2.0</td>\n",
       "    </tr>\n",
       "    <tr>\n",
       "      <th>...</th>\n",
       "      <td>...</td>\n",
       "      <td>...</td>\n",
       "      <td>...</td>\n",
       "      <td>...</td>\n",
       "      <td>...</td>\n",
       "      <td>...</td>\n",
       "      <td>...</td>\n",
       "      <td>...</td>\n",
       "      <td>...</td>\n",
       "      <td>...</td>\n",
       "      <td>...</td>\n",
       "    </tr>\n",
       "    <tr>\n",
       "      <th>694</th>\n",
       "      <td>776715.0</td>\n",
       "      <td>3.0</td>\n",
       "      <td>1.0</td>\n",
       "      <td>1.0</td>\n",
       "      <td>1.0</td>\n",
       "      <td>3.0</td>\n",
       "      <td>2.0</td>\n",
       "      <td>1.0</td>\n",
       "      <td>1.0</td>\n",
       "      <td>1.0</td>\n",
       "      <td>2.0</td>\n",
       "    </tr>\n",
       "    <tr>\n",
       "      <th>695</th>\n",
       "      <td>841769.0</td>\n",
       "      <td>2.0</td>\n",
       "      <td>1.0</td>\n",
       "      <td>1.0</td>\n",
       "      <td>1.0</td>\n",
       "      <td>2.0</td>\n",
       "      <td>1.0</td>\n",
       "      <td>1.0</td>\n",
       "      <td>1.0</td>\n",
       "      <td>1.0</td>\n",
       "      <td>2.0</td>\n",
       "    </tr>\n",
       "    <tr>\n",
       "      <th>696</th>\n",
       "      <td>888820.0</td>\n",
       "      <td>5.0</td>\n",
       "      <td>10.0</td>\n",
       "      <td>10.0</td>\n",
       "      <td>3.0</td>\n",
       "      <td>7.0</td>\n",
       "      <td>3.0</td>\n",
       "      <td>8.0</td>\n",
       "      <td>10.0</td>\n",
       "      <td>2.0</td>\n",
       "      <td>4.0</td>\n",
       "    </tr>\n",
       "    <tr>\n",
       "      <th>697</th>\n",
       "      <td>897471.0</td>\n",
       "      <td>4.0</td>\n",
       "      <td>8.0</td>\n",
       "      <td>6.0</td>\n",
       "      <td>4.0</td>\n",
       "      <td>3.0</td>\n",
       "      <td>4.0</td>\n",
       "      <td>10.0</td>\n",
       "      <td>6.0</td>\n",
       "      <td>1.0</td>\n",
       "      <td>4.0</td>\n",
       "    </tr>\n",
       "    <tr>\n",
       "      <th>698</th>\n",
       "      <td>897471.0</td>\n",
       "      <td>4.0</td>\n",
       "      <td>8.0</td>\n",
       "      <td>8.0</td>\n",
       "      <td>5.0</td>\n",
       "      <td>4.0</td>\n",
       "      <td>5.0</td>\n",
       "      <td>10.0</td>\n",
       "      <td>4.0</td>\n",
       "      <td>1.0</td>\n",
       "      <td>4.0</td>\n",
       "    </tr>\n",
       "  </tbody>\n",
       "</table>\n",
       "<p>699 rows × 11 columns</p>\n",
       "</div>"
      ],
      "text/plain": [
       "     Sample code number  Clump Thickness  Uniformity of Cell Size  \\\n",
       "0             1000025.0              5.0                      1.0   \n",
       "1             1002945.0              5.0                      4.0   \n",
       "2             1015425.0              3.0                      1.0   \n",
       "3             1016277.0              6.0                      8.0   \n",
       "4             1017023.0              4.0                      1.0   \n",
       "..                  ...              ...                      ...   \n",
       "694            776715.0              3.0                      1.0   \n",
       "695            841769.0              2.0                      1.0   \n",
       "696            888820.0              5.0                     10.0   \n",
       "697            897471.0              4.0                      8.0   \n",
       "698            897471.0              4.0                      8.0   \n",
       "\n",
       "     Uniformity of Cell Shape   Marginal Adhesion  \\\n",
       "0                          1.0                1.0   \n",
       "1                          4.0                5.0   \n",
       "2                          1.0                1.0   \n",
       "3                          8.0                1.0   \n",
       "4                          1.0                3.0   \n",
       "..                         ...                ...   \n",
       "694                        1.0                1.0   \n",
       "695                        1.0                1.0   \n",
       "696                       10.0                3.0   \n",
       "697                        6.0                4.0   \n",
       "698                        8.0                5.0   \n",
       "\n",
       "     Single Epithelial Cell Size  Bare Nuclei  Bland Chromatin  \\\n",
       "0                            2.0          1.0              3.0   \n",
       "1                            7.0         10.0              3.0   \n",
       "2                            2.0          2.0              3.0   \n",
       "3                            3.0          4.0              3.0   \n",
       "4                            2.0          1.0              3.0   \n",
       "..                           ...          ...              ...   \n",
       "694                          3.0          2.0              1.0   \n",
       "695                          2.0          1.0              1.0   \n",
       "696                          7.0          3.0              8.0   \n",
       "697                          3.0          4.0             10.0   \n",
       "698                          4.0          5.0             10.0   \n",
       "\n",
       "     Normal Nucleoli  Mitoses  Class  \n",
       "0                1.0      1.0    2.0  \n",
       "1                2.0      1.0    2.0  \n",
       "2                1.0      1.0    2.0  \n",
       "3                7.0      1.0    2.0  \n",
       "4                1.0      1.0    2.0  \n",
       "..               ...      ...    ...  \n",
       "694              1.0      1.0    2.0  \n",
       "695              1.0      1.0    2.0  \n",
       "696             10.0      2.0    4.0  \n",
       "697              6.0      1.0    4.0  \n",
       "698              4.0      1.0    4.0  \n",
       "\n",
       "[699 rows x 11 columns]"
      ]
     },
     "execution_count": 272,
     "metadata": {},
     "output_type": "execute_result"
    }
   ],
   "source": [
    "#As there are missing values, this technique inputs the missing values with appropriate values\n",
    "from sklearn.impute import SimpleImputer\n",
    "\n",
    "# Create an imputer object\n",
    "imputer = SimpleImputer(strategy='mean')\n",
    "\n",
    "# Impute missing values\n",
    "df = pd.DataFrame(imputer.fit_transform(df), columns=df.columns)\n",
    "df"
   ]
  },
  {
   "cell_type": "code",
   "execution_count": 273,
   "metadata": {},
   "outputs": [
    {
     "data": {
      "text/html": [
       "<div>\n",
       "<style scoped>\n",
       "    .dataframe tbody tr th:only-of-type {\n",
       "        vertical-align: middle;\n",
       "    }\n",
       "\n",
       "    .dataframe tbody tr th {\n",
       "        vertical-align: top;\n",
       "    }\n",
       "\n",
       "    .dataframe thead th {\n",
       "        text-align: right;\n",
       "    }\n",
       "</style>\n",
       "<table border=\"1\" class=\"dataframe\">\n",
       "  <thead>\n",
       "    <tr style=\"text-align: right;\">\n",
       "      <th></th>\n",
       "      <th>Clump Thickness</th>\n",
       "      <th>Uniformity of Cell Size</th>\n",
       "      <th>Uniformity of Cell Shape</th>\n",
       "      <th>Marginal Adhesion</th>\n",
       "      <th>Single Epithelial Cell Size</th>\n",
       "      <th>Bare Nuclei</th>\n",
       "      <th>Bland Chromatin</th>\n",
       "      <th>Normal Nucleoli</th>\n",
       "      <th>Mitoses</th>\n",
       "      <th>Class</th>\n",
       "    </tr>\n",
       "  </thead>\n",
       "  <tbody>\n",
       "    <tr>\n",
       "      <th>0</th>\n",
       "      <td>5.0</td>\n",
       "      <td>1.0</td>\n",
       "      <td>1.0</td>\n",
       "      <td>1.0</td>\n",
       "      <td>2.0</td>\n",
       "      <td>1.0</td>\n",
       "      <td>3.0</td>\n",
       "      <td>1.0</td>\n",
       "      <td>1.0</td>\n",
       "      <td>2.0</td>\n",
       "    </tr>\n",
       "    <tr>\n",
       "      <th>1</th>\n",
       "      <td>5.0</td>\n",
       "      <td>4.0</td>\n",
       "      <td>4.0</td>\n",
       "      <td>5.0</td>\n",
       "      <td>7.0</td>\n",
       "      <td>10.0</td>\n",
       "      <td>3.0</td>\n",
       "      <td>2.0</td>\n",
       "      <td>1.0</td>\n",
       "      <td>2.0</td>\n",
       "    </tr>\n",
       "    <tr>\n",
       "      <th>2</th>\n",
       "      <td>3.0</td>\n",
       "      <td>1.0</td>\n",
       "      <td>1.0</td>\n",
       "      <td>1.0</td>\n",
       "      <td>2.0</td>\n",
       "      <td>2.0</td>\n",
       "      <td>3.0</td>\n",
       "      <td>1.0</td>\n",
       "      <td>1.0</td>\n",
       "      <td>2.0</td>\n",
       "    </tr>\n",
       "    <tr>\n",
       "      <th>3</th>\n",
       "      <td>6.0</td>\n",
       "      <td>8.0</td>\n",
       "      <td>8.0</td>\n",
       "      <td>1.0</td>\n",
       "      <td>3.0</td>\n",
       "      <td>4.0</td>\n",
       "      <td>3.0</td>\n",
       "      <td>7.0</td>\n",
       "      <td>1.0</td>\n",
       "      <td>2.0</td>\n",
       "    </tr>\n",
       "    <tr>\n",
       "      <th>4</th>\n",
       "      <td>4.0</td>\n",
       "      <td>1.0</td>\n",
       "      <td>1.0</td>\n",
       "      <td>3.0</td>\n",
       "      <td>2.0</td>\n",
       "      <td>1.0</td>\n",
       "      <td>3.0</td>\n",
       "      <td>1.0</td>\n",
       "      <td>1.0</td>\n",
       "      <td>2.0</td>\n",
       "    </tr>\n",
       "    <tr>\n",
       "      <th>...</th>\n",
       "      <td>...</td>\n",
       "      <td>...</td>\n",
       "      <td>...</td>\n",
       "      <td>...</td>\n",
       "      <td>...</td>\n",
       "      <td>...</td>\n",
       "      <td>...</td>\n",
       "      <td>...</td>\n",
       "      <td>...</td>\n",
       "      <td>...</td>\n",
       "    </tr>\n",
       "    <tr>\n",
       "      <th>694</th>\n",
       "      <td>3.0</td>\n",
       "      <td>1.0</td>\n",
       "      <td>1.0</td>\n",
       "      <td>1.0</td>\n",
       "      <td>3.0</td>\n",
       "      <td>2.0</td>\n",
       "      <td>1.0</td>\n",
       "      <td>1.0</td>\n",
       "      <td>1.0</td>\n",
       "      <td>2.0</td>\n",
       "    </tr>\n",
       "    <tr>\n",
       "      <th>695</th>\n",
       "      <td>2.0</td>\n",
       "      <td>1.0</td>\n",
       "      <td>1.0</td>\n",
       "      <td>1.0</td>\n",
       "      <td>2.0</td>\n",
       "      <td>1.0</td>\n",
       "      <td>1.0</td>\n",
       "      <td>1.0</td>\n",
       "      <td>1.0</td>\n",
       "      <td>2.0</td>\n",
       "    </tr>\n",
       "    <tr>\n",
       "      <th>696</th>\n",
       "      <td>5.0</td>\n",
       "      <td>10.0</td>\n",
       "      <td>10.0</td>\n",
       "      <td>3.0</td>\n",
       "      <td>7.0</td>\n",
       "      <td>3.0</td>\n",
       "      <td>8.0</td>\n",
       "      <td>10.0</td>\n",
       "      <td>2.0</td>\n",
       "      <td>4.0</td>\n",
       "    </tr>\n",
       "    <tr>\n",
       "      <th>697</th>\n",
       "      <td>4.0</td>\n",
       "      <td>8.0</td>\n",
       "      <td>6.0</td>\n",
       "      <td>4.0</td>\n",
       "      <td>3.0</td>\n",
       "      <td>4.0</td>\n",
       "      <td>10.0</td>\n",
       "      <td>6.0</td>\n",
       "      <td>1.0</td>\n",
       "      <td>4.0</td>\n",
       "    </tr>\n",
       "    <tr>\n",
       "      <th>698</th>\n",
       "      <td>4.0</td>\n",
       "      <td>8.0</td>\n",
       "      <td>8.0</td>\n",
       "      <td>5.0</td>\n",
       "      <td>4.0</td>\n",
       "      <td>5.0</td>\n",
       "      <td>10.0</td>\n",
       "      <td>4.0</td>\n",
       "      <td>1.0</td>\n",
       "      <td>4.0</td>\n",
       "    </tr>\n",
       "  </tbody>\n",
       "</table>\n",
       "<p>699 rows × 10 columns</p>\n",
       "</div>"
      ],
      "text/plain": [
       "     Clump Thickness  Uniformity of Cell Size  Uniformity of Cell Shape   \\\n",
       "0                5.0                      1.0                        1.0   \n",
       "1                5.0                      4.0                        4.0   \n",
       "2                3.0                      1.0                        1.0   \n",
       "3                6.0                      8.0                        8.0   \n",
       "4                4.0                      1.0                        1.0   \n",
       "..               ...                      ...                        ...   \n",
       "694              3.0                      1.0                        1.0   \n",
       "695              2.0                      1.0                        1.0   \n",
       "696              5.0                     10.0                       10.0   \n",
       "697              4.0                      8.0                        6.0   \n",
       "698              4.0                      8.0                        8.0   \n",
       "\n",
       "     Marginal Adhesion  Single Epithelial Cell Size  Bare Nuclei  \\\n",
       "0                  1.0                          2.0          1.0   \n",
       "1                  5.0                          7.0         10.0   \n",
       "2                  1.0                          2.0          2.0   \n",
       "3                  1.0                          3.0          4.0   \n",
       "4                  3.0                          2.0          1.0   \n",
       "..                 ...                          ...          ...   \n",
       "694                1.0                          3.0          2.0   \n",
       "695                1.0                          2.0          1.0   \n",
       "696                3.0                          7.0          3.0   \n",
       "697                4.0                          3.0          4.0   \n",
       "698                5.0                          4.0          5.0   \n",
       "\n",
       "     Bland Chromatin  Normal Nucleoli  Mitoses  Class  \n",
       "0                3.0              1.0      1.0    2.0  \n",
       "1                3.0              2.0      1.0    2.0  \n",
       "2                3.0              1.0      1.0    2.0  \n",
       "3                3.0              7.0      1.0    2.0  \n",
       "4                3.0              1.0      1.0    2.0  \n",
       "..               ...              ...      ...    ...  \n",
       "694              1.0              1.0      1.0    2.0  \n",
       "695              1.0              1.0      1.0    2.0  \n",
       "696              8.0             10.0      2.0    4.0  \n",
       "697             10.0              6.0      1.0    4.0  \n",
       "698             10.0              4.0      1.0    4.0  \n",
       "\n",
       "[699 rows x 10 columns]"
      ]
     },
     "execution_count": 273,
     "metadata": {},
     "output_type": "execute_result"
    }
   ],
   "source": [
    "x_train = df.drop(['Sample code number'], axis = 1)\n",
    "x_train"
   ]
  },
  {
   "cell_type": "code",
   "execution_count": 274,
   "metadata": {},
   "outputs": [],
   "source": [
    "# Separate feature columns (x_train) and target column (y_train)\n",
    "x_train = x_train.drop('Class', axis=1) \n",
    "y_train = df.Class\n",
    "\n",
    "# Save x_train and y_train as separate CSV files\n",
    "#x_train.to_csv('x_train.csv', index=False)\n",
    "#y_train.to_csv('y_train.csv', index=False)"
   ]
  },
  {
   "cell_type": "code",
   "execution_count": 275,
   "metadata": {},
   "outputs": [
    {
     "data": {
      "text/plain": [
       "0      2.0\n",
       "1      2.0\n",
       "2      2.0\n",
       "3      2.0\n",
       "4      2.0\n",
       "      ... \n",
       "694    2.0\n",
       "695    2.0\n",
       "696    4.0\n",
       "697    4.0\n",
       "698    4.0\n",
       "Name: Class, Length: 699, dtype: float64"
      ]
     },
     "execution_count": 275,
     "metadata": {},
     "output_type": "execute_result"
    }
   ],
   "source": [
    "y_train"
   ]
  },
  {
   "cell_type": "code",
   "execution_count": 276,
   "metadata": {},
   "outputs": [
    {
     "data": {
      "text/html": [
       "<div>\n",
       "<style scoped>\n",
       "    .dataframe tbody tr th:only-of-type {\n",
       "        vertical-align: middle;\n",
       "    }\n",
       "\n",
       "    .dataframe tbody tr th {\n",
       "        vertical-align: top;\n",
       "    }\n",
       "\n",
       "    .dataframe thead th {\n",
       "        text-align: right;\n",
       "    }\n",
       "</style>\n",
       "<table border=\"1\" class=\"dataframe\">\n",
       "  <thead>\n",
       "    <tr style=\"text-align: right;\">\n",
       "      <th></th>\n",
       "      <th>Class</th>\n",
       "    </tr>\n",
       "  </thead>\n",
       "  <tbody>\n",
       "    <tr>\n",
       "      <th>0</th>\n",
       "      <td>B</td>\n",
       "    </tr>\n",
       "    <tr>\n",
       "      <th>1</th>\n",
       "      <td>B</td>\n",
       "    </tr>\n",
       "    <tr>\n",
       "      <th>2</th>\n",
       "      <td>B</td>\n",
       "    </tr>\n",
       "    <tr>\n",
       "      <th>3</th>\n",
       "      <td>B</td>\n",
       "    </tr>\n",
       "    <tr>\n",
       "      <th>4</th>\n",
       "      <td>B</td>\n",
       "    </tr>\n",
       "    <tr>\n",
       "      <th>...</th>\n",
       "      <td>...</td>\n",
       "    </tr>\n",
       "    <tr>\n",
       "      <th>694</th>\n",
       "      <td>B</td>\n",
       "    </tr>\n",
       "    <tr>\n",
       "      <th>695</th>\n",
       "      <td>B</td>\n",
       "    </tr>\n",
       "    <tr>\n",
       "      <th>696</th>\n",
       "      <td>M</td>\n",
       "    </tr>\n",
       "    <tr>\n",
       "      <th>697</th>\n",
       "      <td>M</td>\n",
       "    </tr>\n",
       "    <tr>\n",
       "      <th>698</th>\n",
       "      <td>M</td>\n",
       "    </tr>\n",
       "  </tbody>\n",
       "</table>\n",
       "<p>699 rows × 1 columns</p>\n",
       "</div>"
      ],
      "text/plain": [
       "    Class\n",
       "0       B\n",
       "1       B\n",
       "2       B\n",
       "3       B\n",
       "4       B\n",
       "..    ...\n",
       "694     B\n",
       "695     B\n",
       "696     M\n",
       "697     M\n",
       "698     M\n",
       "\n",
       "[699 rows x 1 columns]"
      ]
     },
     "execution_count": 276,
     "metadata": {},
     "output_type": "execute_result"
    }
   ],
   "source": [
    "# According to the reference file -> 2 for Benign, 4 for Malignant\n",
    "y_train = y_train.replace({2.0: 'B', 4.0: 'M'})\n",
    "y_train = y_train.to_frame(name='Class')\n",
    "y_train"
   ]
  },
  {
   "cell_type": "code",
   "execution_count": 277,
   "metadata": {},
   "outputs": [
    {
     "name": "stdout",
     "output_type": "stream",
     "text": [
      "B    458\n",
      "M    241\n",
      "Name: Class, dtype: int64\n"
     ]
    },
    {
     "data": {
      "image/png": "[encoded data removed]",
      "text/plain": [
       "<Figure size 640x480 with 1 Axes>"
      ]
     },
     "metadata": {},
     "output_type": "display_data"
    }
   ],
   "source": [
    "# Count the occurrences of each value in 'y_train' column\n",
    "value_counts = y_train['Class'].value_counts()\n",
    "\n",
    "# Plot the count using seaborn\n",
    "sns.countplot(data=y_train, x='Class')\n",
    "\n",
    "# Display the count\n",
    "print(value_counts)"
   ]
  },
  {
   "cell_type": "code",
   "execution_count": 278,
   "metadata": {},
   "outputs": [
    {
     "data": {
      "text/html": [
       "<div>\n",
       "<style scoped>\n",
       "    .dataframe tbody tr th:only-of-type {\n",
       "        vertical-align: middle;\n",
       "    }\n",
       "\n",
       "    .dataframe tbody tr th {\n",
       "        vertical-align: top;\n",
       "    }\n",
       "\n",
       "    .dataframe thead th {\n",
       "        text-align: right;\n",
       "    }\n",
       "</style>\n",
       "<table border=\"1\" class=\"dataframe\">\n",
       "  <thead>\n",
       "    <tr style=\"text-align: right;\">\n",
       "      <th></th>\n",
       "      <th>Clump Thickness</th>\n",
       "      <th>Uniformity of Cell Size</th>\n",
       "      <th>Uniformity of Cell Shape</th>\n",
       "      <th>Marginal Adhesion</th>\n",
       "      <th>Single Epithelial Cell Size</th>\n",
       "      <th>Bare Nuclei</th>\n",
       "      <th>Bland Chromatin</th>\n",
       "      <th>Normal Nucleoli</th>\n",
       "      <th>Mitoses</th>\n",
       "    </tr>\n",
       "  </thead>\n",
       "  <tbody>\n",
       "    <tr>\n",
       "      <th>count</th>\n",
       "      <td>699.000000</td>\n",
       "      <td>699.000000</td>\n",
       "      <td>699.000000</td>\n",
       "      <td>699.000000</td>\n",
       "      <td>699.000000</td>\n",
       "      <td>699.000000</td>\n",
       "      <td>699.000000</td>\n",
       "      <td>699.000000</td>\n",
       "      <td>699.000000</td>\n",
       "    </tr>\n",
       "    <tr>\n",
       "      <th>mean</th>\n",
       "      <td>4.417740</td>\n",
       "      <td>3.134478</td>\n",
       "      <td>3.207439</td>\n",
       "      <td>2.806867</td>\n",
       "      <td>3.216023</td>\n",
       "      <td>3.544656</td>\n",
       "      <td>3.437768</td>\n",
       "      <td>2.866953</td>\n",
       "      <td>1.589413</td>\n",
       "    </tr>\n",
       "    <tr>\n",
       "      <th>std</th>\n",
       "      <td>2.815741</td>\n",
       "      <td>3.051459</td>\n",
       "      <td>2.971913</td>\n",
       "      <td>2.855379</td>\n",
       "      <td>2.214300</td>\n",
       "      <td>3.601852</td>\n",
       "      <td>2.438364</td>\n",
       "      <td>3.053634</td>\n",
       "      <td>1.715078</td>\n",
       "    </tr>\n",
       "    <tr>\n",
       "      <th>min</th>\n",
       "      <td>1.000000</td>\n",
       "      <td>1.000000</td>\n",
       "      <td>1.000000</td>\n",
       "      <td>1.000000</td>\n",
       "      <td>1.000000</td>\n",
       "      <td>1.000000</td>\n",
       "      <td>1.000000</td>\n",
       "      <td>1.000000</td>\n",
       "      <td>1.000000</td>\n",
       "    </tr>\n",
       "    <tr>\n",
       "      <th>25%</th>\n",
       "      <td>2.000000</td>\n",
       "      <td>1.000000</td>\n",
       "      <td>1.000000</td>\n",
       "      <td>1.000000</td>\n",
       "      <td>2.000000</td>\n",
       "      <td>1.000000</td>\n",
       "      <td>2.000000</td>\n",
       "      <td>1.000000</td>\n",
       "      <td>1.000000</td>\n",
       "    </tr>\n",
       "    <tr>\n",
       "      <th>50%</th>\n",
       "      <td>4.000000</td>\n",
       "      <td>1.000000</td>\n",
       "      <td>1.000000</td>\n",
       "      <td>1.000000</td>\n",
       "      <td>2.000000</td>\n",
       "      <td>1.000000</td>\n",
       "      <td>3.000000</td>\n",
       "      <td>1.000000</td>\n",
       "      <td>1.000000</td>\n",
       "    </tr>\n",
       "    <tr>\n",
       "      <th>75%</th>\n",
       "      <td>6.000000</td>\n",
       "      <td>5.000000</td>\n",
       "      <td>5.000000</td>\n",
       "      <td>4.000000</td>\n",
       "      <td>4.000000</td>\n",
       "      <td>5.000000</td>\n",
       "      <td>5.000000</td>\n",
       "      <td>4.000000</td>\n",
       "      <td>1.000000</td>\n",
       "    </tr>\n",
       "    <tr>\n",
       "      <th>max</th>\n",
       "      <td>10.000000</td>\n",
       "      <td>10.000000</td>\n",
       "      <td>10.000000</td>\n",
       "      <td>10.000000</td>\n",
       "      <td>10.000000</td>\n",
       "      <td>10.000000</td>\n",
       "      <td>10.000000</td>\n",
       "      <td>10.000000</td>\n",
       "      <td>10.000000</td>\n",
       "    </tr>\n",
       "  </tbody>\n",
       "</table>\n",
       "</div>"
      ],
      "text/plain": [
       "       Clump Thickness  Uniformity of Cell Size  Uniformity of Cell Shape   \\\n",
       "count       699.000000               699.000000                 699.000000   \n",
       "mean          4.417740                 3.134478                   3.207439   \n",
       "std           2.815741                 3.051459                   2.971913   \n",
       "min           1.000000                 1.000000                   1.000000   \n",
       "25%           2.000000                 1.000000                   1.000000   \n",
       "50%           4.000000                 1.000000                   1.000000   \n",
       "75%           6.000000                 5.000000                   5.000000   \n",
       "max          10.000000                10.000000                  10.000000   \n",
       "\n",
       "       Marginal Adhesion  Single Epithelial Cell Size  Bare Nuclei  \\\n",
       "count         699.000000                   699.000000   699.000000   \n",
       "mean            2.806867                     3.216023     3.544656   \n",
       "std             2.855379                     2.214300     3.601852   \n",
       "min             1.000000                     1.000000     1.000000   \n",
       "25%             1.000000                     2.000000     1.000000   \n",
       "50%             1.000000                     2.000000     1.000000   \n",
       "75%             4.000000                     4.000000     5.000000   \n",
       "max            10.000000                    10.000000    10.000000   \n",
       "\n",
       "       Bland Chromatin  Normal Nucleoli     Mitoses  \n",
       "count       699.000000       699.000000  699.000000  \n",
       "mean          3.437768         2.866953    1.589413  \n",
       "std           2.438364         3.053634    1.715078  \n",
       "min           1.000000         1.000000    1.000000  \n",
       "25%           2.000000         1.000000    1.000000  \n",
       "50%           3.000000         1.000000    1.000000  \n",
       "75%           5.000000         4.000000    1.000000  \n",
       "max          10.000000        10.000000   10.000000  "
      ]
     },
     "execution_count": 278,
     "metadata": {},
     "output_type": "execute_result"
    }
   ],
   "source": [
    "x_train.describe()"
   ]
  },
  {
   "cell_type": "markdown",
   "metadata": {},
   "source": [
    "## 4. Visualization"
   ]
  },
  {
   "cell_type": "code",
   "execution_count": 279,
   "metadata": {},
   "outputs": [
    {
     "data": {
      "text/plain": [
       "(array([0, 1, 2, 3, 4, 5, 6, 7]),\n",
       " [Text(0, 0, 'Clump Thickness'),\n",
       "  Text(1, 0, 'Uniformity of Cell Size'),\n",
       "  Text(2, 0, 'Uniformity of Cell Shape '),\n",
       "  Text(3, 0, 'Marginal Adhesion'),\n",
       "  Text(4, 0, 'Single Epithelial Cell Size'),\n",
       "  Text(5, 0, 'Bare Nuclei'),\n",
       "  Text(6, 0, 'Bland Chromatin'),\n",
       "  Text(7, 0, 'Normal Nucleoli')])"
      ]
     },
     "execution_count": 279,
     "metadata": {},
     "output_type": "execute_result"
    },
    {
     "data": {
      "image/png": "[encoded data removed]",
      "text/plain": [
       "<Figure size 1000x1000 with 1 Axes>"
      ]
     },
     "metadata": {},
     "output_type": "display_data"
    }
   ],
   "source": [
    "#Before visualization we need to normalize or standardize the data. \n",
    "data_dia = y_train\n",
    "data = x_train\n",
    "data_n_2 = (data - data.mean()) / (data.std())              # standardization\n",
    "data = pd.concat([y_train,data_n_2.iloc[:,0:8]],axis=1)\n",
    "data = pd.melt(data,id_vars=\"Class\",\n",
    "                    var_name=\"features\",\n",
    "                    value_name='value')\n",
    "data['value'] = pd.to_numeric(data['value'], errors='coerce')\n",
    "plt.figure(figsize=(10,10))\n",
    "sns.violinplot(x=\"features\", y=\"value\", hue=\"Class\", data=data,split=True, inner=\"quart\")\n",
    "plt.xticks(rotation=90)"
   ]
  },
  {
   "cell_type": "markdown",
   "metadata": {},
   "source": [
    "* We could observe imbalance of data from above for 'Marginal Adhesion', 'Mitoses', 'Normal Nucleoli', 'Single Epithelial Cell Size', and 'Uniformity of Cell shape' "
   ]
  },
  {
   "cell_type": "markdown",
   "metadata": {},
   "source": [
    "* We could observe data imbalance "
   ]
  },
  {
   "cell_type": "code",
   "execution_count": 280,
   "metadata": {},
   "outputs": [],
   "source": [
    "#By oversampling the minority class, we could balance the data\n",
    "from imblearn.over_sampling import SMOTE\n",
    "\n",
    "# X: feature matrix, y: target variable\n",
    "# Assuming X contains your feature data and y contains the corresponding class labels\n",
    "\n",
    "# Instantiate SMOTE\n",
    "smote = SMOTE()\n",
    "\n",
    "# Apply SMOTE to oversample the minority class\n",
    "X_resampled, y_resampled = smote.fit_resample(x_train, y_train)\n"
   ]
  },
  {
   "cell_type": "markdown",
   "metadata": {},
   "source": [
    "## 5. Correlation of Variables (EDA) for feature importance selection\n",
    "\n",
    "- Features with high correlations with other features may contain redunant or duplicated information. \n",
    "- By removing such highly correlated features, the code aims to reduce multicollinearity that could negatively affect the proposed methodology's performance and interpretability"
   ]
  },
  {
   "cell_type": "code",
   "execution_count": 281,
   "metadata": {},
   "outputs": [
    {
     "data": {
      "text/plain": [
       "<Axes: >"
      ]
     },
     "execution_count": 281,
     "metadata": {},
     "output_type": "execute_result"
    },
    {
     "data": {
      "image/png": "[encoded data removed]",
      "text/plain": [
       "<Figure size 1800x1800 with 2 Axes>"
      ]
     },
     "metadata": {},
     "output_type": "display_data"
    }
   ],
   "source": [
    "#correlation map\n",
    "f,ax = plt.subplots(figsize=(18, 18))\n",
    "sns.heatmap(X_resampled.corr(), annot=True, linewidths=.5, fmt= '.1f',ax=ax)"
   ]
  },
  {
   "cell_type": "code",
   "execution_count": 282,
   "metadata": {},
   "outputs": [
    {
     "data": {
      "text/html": [
       "<div>\n",
       "<style scoped>\n",
       "    .dataframe tbody tr th:only-of-type {\n",
       "        vertical-align: middle;\n",
       "    }\n",
       "\n",
       "    .dataframe tbody tr th {\n",
       "        vertical-align: top;\n",
       "    }\n",
       "\n",
       "    .dataframe thead th {\n",
       "        text-align: right;\n",
       "    }\n",
       "</style>\n",
       "<table border=\"1\" class=\"dataframe\">\n",
       "  <thead>\n",
       "    <tr style=\"text-align: right;\">\n",
       "      <th></th>\n",
       "      <th>Clump Thickness</th>\n",
       "      <th>Uniformity of Cell Size</th>\n",
       "      <th>Uniformity of Cell Shape</th>\n",
       "      <th>Marginal Adhesion</th>\n",
       "      <th>Single Epithelial Cell Size</th>\n",
       "      <th>Bare Nuclei</th>\n",
       "      <th>Bland Chromatin</th>\n",
       "      <th>Normal Nucleoli</th>\n",
       "      <th>Mitoses</th>\n",
       "    </tr>\n",
       "  </thead>\n",
       "  <tbody>\n",
       "    <tr>\n",
       "      <th>Clump Thickness</th>\n",
       "      <td>1.000000</td>\n",
       "      <td>0.633105</td>\n",
       "      <td>0.635802</td>\n",
       "      <td>0.450766</td>\n",
       "      <td>0.491944</td>\n",
       "      <td>0.586047</td>\n",
       "      <td>0.551092</td>\n",
       "      <td>0.522289</td>\n",
       "      <td>0.334832</td>\n",
       "    </tr>\n",
       "    <tr>\n",
       "      <th>Uniformity of Cell Size</th>\n",
       "      <td>0.633105</td>\n",
       "      <td>1.000000</td>\n",
       "      <td>0.912075</td>\n",
       "      <td>0.685677</td>\n",
       "      <td>0.743893</td>\n",
       "      <td>0.661998</td>\n",
       "      <td>0.749121</td>\n",
       "      <td>0.696224</td>\n",
       "      <td>0.444553</td>\n",
       "    </tr>\n",
       "    <tr>\n",
       "      <th>Uniformity of Cell Shape</th>\n",
       "      <td>0.635802</td>\n",
       "      <td>0.912075</td>\n",
       "      <td>1.000000</td>\n",
       "      <td>0.669711</td>\n",
       "      <td>0.708547</td>\n",
       "      <td>0.688046</td>\n",
       "      <td>0.728622</td>\n",
       "      <td>0.703462</td>\n",
       "      <td>0.427794</td>\n",
       "    </tr>\n",
       "    <tr>\n",
       "      <th>Marginal Adhesion</th>\n",
       "      <td>0.450766</td>\n",
       "      <td>0.685677</td>\n",
       "      <td>0.669711</td>\n",
       "      <td>1.000000</td>\n",
       "      <td>0.574332</td>\n",
       "      <td>0.647946</td>\n",
       "      <td>0.652692</td>\n",
       "      <td>0.580115</td>\n",
       "      <td>0.413773</td>\n",
       "    </tr>\n",
       "    <tr>\n",
       "      <th>Single Epithelial Cell Size</th>\n",
       "      <td>0.491944</td>\n",
       "      <td>0.743893</td>\n",
       "      <td>0.708547</td>\n",
       "      <td>0.574332</td>\n",
       "      <td>1.000000</td>\n",
       "      <td>0.539372</td>\n",
       "      <td>0.596676</td>\n",
       "      <td>0.608005</td>\n",
       "      <td>0.508242</td>\n",
       "    </tr>\n",
       "  </tbody>\n",
       "</table>\n",
       "</div>"
      ],
      "text/plain": [
       "                             Clump Thickness  Uniformity of Cell Size  \\\n",
       "Clump Thickness                     1.000000                 0.633105   \n",
       "Uniformity of Cell Size             0.633105                 1.000000   \n",
       "Uniformity of Cell Shape            0.635802                 0.912075   \n",
       "Marginal Adhesion                   0.450766                 0.685677   \n",
       "Single Epithelial Cell Size         0.491944                 0.743893   \n",
       "\n",
       "                             Uniformity of Cell Shape   Marginal Adhesion  \\\n",
       "Clump Thickness                               0.635802           0.450766   \n",
       "Uniformity of Cell Size                       0.912075           0.685677   \n",
       "Uniformity of Cell Shape                      1.000000           0.669711   \n",
       "Marginal Adhesion                             0.669711           1.000000   \n",
       "Single Epithelial Cell Size                   0.708547           0.574332   \n",
       "\n",
       "                             Single Epithelial Cell Size  Bare Nuclei  \\\n",
       "Clump Thickness                                 0.491944     0.586047   \n",
       "Uniformity of Cell Size                         0.743893     0.661998   \n",
       "Uniformity of Cell Shape                        0.708547     0.688046   \n",
       "Marginal Adhesion                               0.574332     0.647946   \n",
       "Single Epithelial Cell Size                     1.000000     0.539372   \n",
       "\n",
       "                             Bland Chromatin  Normal Nucleoli   Mitoses  \n",
       "Clump Thickness                     0.551092         0.522289  0.334832  \n",
       "Uniformity of Cell Size             0.749121         0.696224  0.444553  \n",
       "Uniformity of Cell Shape            0.728622         0.703462  0.427794  \n",
       "Marginal Adhesion                   0.652692         0.580115  0.413773  \n",
       "Single Epithelial Cell Size         0.596676         0.608005  0.508242  "
      ]
     },
     "execution_count": 282,
     "metadata": {},
     "output_type": "execute_result"
    }
   ],
   "source": [
    "# Define threshold\n",
    "threshold = 0.9  \n",
    "# Absolute value correlation matrix \n",
    "corr_matrix = X_resampled.corr().abs() \n",
    "corr_matrix.head()"
   ]
  },
  {
   "cell_type": "code",
   "execution_count": 283,
   "metadata": {},
   "outputs": [
    {
     "name": "stderr",
     "output_type": "stream",
     "text": [
      "/var/folders/bm/jj50yh0n3nz9zqlp793791tc0000gn/T/ipykernel_2186/1583250573.py:2: DeprecationWarning: `np.bool` is a deprecated alias for the builtin `bool`. To silence this warning, use `bool` by itself. Doing this will not modify any behavior and is safe. If you specifically wanted the numpy scalar type, use `np.bool_` here.\n",
      "Deprecated in NumPy 1.20; for more details and guidance: https://numpy.org/devdocs/release/1.20.0-notes.html#deprecations\n",
      "  upper = corr_matrix.where(np.triu(np.ones(corr_matrix.shape), k=1).astype(np.bool))\n"
     ]
    },
    {
     "data": {
      "text/html": [
       "<div>\n",
       "<style scoped>\n",
       "    .dataframe tbody tr th:only-of-type {\n",
       "        vertical-align: middle;\n",
       "    }\n",
       "\n",
       "    .dataframe tbody tr th {\n",
       "        vertical-align: top;\n",
       "    }\n",
       "\n",
       "    .dataframe thead th {\n",
       "        text-align: right;\n",
       "    }\n",
       "</style>\n",
       "<table border=\"1\" class=\"dataframe\">\n",
       "  <thead>\n",
       "    <tr style=\"text-align: right;\">\n",
       "      <th></th>\n",
       "      <th>Clump Thickness</th>\n",
       "      <th>Uniformity of Cell Size</th>\n",
       "      <th>Uniformity of Cell Shape</th>\n",
       "      <th>Marginal Adhesion</th>\n",
       "      <th>Single Epithelial Cell Size</th>\n",
       "      <th>Bare Nuclei</th>\n",
       "      <th>Bland Chromatin</th>\n",
       "      <th>Normal Nucleoli</th>\n",
       "      <th>Mitoses</th>\n",
       "    </tr>\n",
       "  </thead>\n",
       "  <tbody>\n",
       "    <tr>\n",
       "      <th>Clump Thickness</th>\n",
       "      <td>NaN</td>\n",
       "      <td>0.633105</td>\n",
       "      <td>0.635802</td>\n",
       "      <td>0.450766</td>\n",
       "      <td>0.491944</td>\n",
       "      <td>0.586047</td>\n",
       "      <td>0.551092</td>\n",
       "      <td>0.522289</td>\n",
       "      <td>0.334832</td>\n",
       "    </tr>\n",
       "    <tr>\n",
       "      <th>Uniformity of Cell Size</th>\n",
       "      <td>NaN</td>\n",
       "      <td>NaN</td>\n",
       "      <td>0.912075</td>\n",
       "      <td>0.685677</td>\n",
       "      <td>0.743893</td>\n",
       "      <td>0.661998</td>\n",
       "      <td>0.749121</td>\n",
       "      <td>0.696224</td>\n",
       "      <td>0.444553</td>\n",
       "    </tr>\n",
       "    <tr>\n",
       "      <th>Uniformity of Cell Shape</th>\n",
       "      <td>NaN</td>\n",
       "      <td>NaN</td>\n",
       "      <td>NaN</td>\n",
       "      <td>0.669711</td>\n",
       "      <td>0.708547</td>\n",
       "      <td>0.688046</td>\n",
       "      <td>0.728622</td>\n",
       "      <td>0.703462</td>\n",
       "      <td>0.427794</td>\n",
       "    </tr>\n",
       "    <tr>\n",
       "      <th>Marginal Adhesion</th>\n",
       "      <td>NaN</td>\n",
       "      <td>NaN</td>\n",
       "      <td>NaN</td>\n",
       "      <td>NaN</td>\n",
       "      <td>0.574332</td>\n",
       "      <td>0.647946</td>\n",
       "      <td>0.652692</td>\n",
       "      <td>0.580115</td>\n",
       "      <td>0.413773</td>\n",
       "    </tr>\n",
       "    <tr>\n",
       "      <th>Single Epithelial Cell Size</th>\n",
       "      <td>NaN</td>\n",
       "      <td>NaN</td>\n",
       "      <td>NaN</td>\n",
       "      <td>NaN</td>\n",
       "      <td>NaN</td>\n",
       "      <td>0.539372</td>\n",
       "      <td>0.596676</td>\n",
       "      <td>0.608005</td>\n",
       "      <td>0.508242</td>\n",
       "    </tr>\n",
       "  </tbody>\n",
       "</table>\n",
       "</div>"
      ],
      "text/plain": [
       "                             Clump Thickness  Uniformity of Cell Size  \\\n",
       "Clump Thickness                          NaN                 0.633105   \n",
       "Uniformity of Cell Size                  NaN                      NaN   \n",
       "Uniformity of Cell Shape                 NaN                      NaN   \n",
       "Marginal Adhesion                        NaN                      NaN   \n",
       "Single Epithelial Cell Size              NaN                      NaN   \n",
       "\n",
       "                             Uniformity of Cell Shape   Marginal Adhesion  \\\n",
       "Clump Thickness                               0.635802           0.450766   \n",
       "Uniformity of Cell Size                       0.912075           0.685677   \n",
       "Uniformity of Cell Shape                           NaN           0.669711   \n",
       "Marginal Adhesion                                  NaN                NaN   \n",
       "Single Epithelial Cell Size                        NaN                NaN   \n",
       "\n",
       "                             Single Epithelial Cell Size  Bare Nuclei  \\\n",
       "Clump Thickness                                 0.491944     0.586047   \n",
       "Uniformity of Cell Size                         0.743893     0.661998   \n",
       "Uniformity of Cell Shape                        0.708547     0.688046   \n",
       "Marginal Adhesion                               0.574332     0.647946   \n",
       "Single Epithelial Cell Size                          NaN     0.539372   \n",
       "\n",
       "                             Bland Chromatin  Normal Nucleoli   Mitoses  \n",
       "Clump Thickness                     0.551092         0.522289  0.334832  \n",
       "Uniformity of Cell Size             0.749121         0.696224  0.444553  \n",
       "Uniformity of Cell Shape            0.728622         0.703462  0.427794  \n",
       "Marginal Adhesion                   0.652692         0.580115  0.413773  \n",
       "Single Epithelial Cell Size         0.596676         0.608005  0.508242  "
      ]
     },
     "execution_count": 283,
     "metadata": {},
     "output_type": "execute_result"
    }
   ],
   "source": [
    "# Upper triangle of correlations \n",
    "upper = corr_matrix.where(np.triu(np.ones(corr_matrix.shape), k=1).astype(np.bool)) \n",
    "upper.head()"
   ]
  },
  {
   "cell_type": "code",
   "execution_count": 284,
   "metadata": {},
   "outputs": [
    {
     "name": "stdout",
     "output_type": "stream",
     "text": [
      "There are 1 columns to remove.\n"
     ]
    }
   ],
   "source": [
    "# Select columns with correlations above threshold\n",
    "to_drop = [column for column in upper.columns if any(upper[column] > threshold)]\n",
    "\n",
    "print('There are %d columns to remove.' % (len(to_drop)))"
   ]
  },
  {
   "cell_type": "code",
   "execution_count": 285,
   "metadata": {},
   "outputs": [
    {
     "data": {
      "text/html": [
       "<div>\n",
       "<style scoped>\n",
       "    .dataframe tbody tr th:only-of-type {\n",
       "        vertical-align: middle;\n",
       "    }\n",
       "\n",
       "    .dataframe tbody tr th {\n",
       "        vertical-align: top;\n",
       "    }\n",
       "\n",
       "    .dataframe thead th {\n",
       "        text-align: right;\n",
       "    }\n",
       "</style>\n",
       "<table border=\"1\" class=\"dataframe\">\n",
       "  <thead>\n",
       "    <tr style=\"text-align: right;\">\n",
       "      <th></th>\n",
       "      <th>Clump Thickness</th>\n",
       "      <th>Uniformity of Cell Size</th>\n",
       "      <th>Uniformity of Cell Shape</th>\n",
       "      <th>Marginal Adhesion</th>\n",
       "      <th>Single Epithelial Cell Size</th>\n",
       "      <th>Bare Nuclei</th>\n",
       "      <th>Bland Chromatin</th>\n",
       "      <th>Normal Nucleoli</th>\n",
       "      <th>Mitoses</th>\n",
       "    </tr>\n",
       "  </thead>\n",
       "  <tbody>\n",
       "    <tr>\n",
       "      <th>0</th>\n",
       "      <td>5.0</td>\n",
       "      <td>1.0</td>\n",
       "      <td>1.0</td>\n",
       "      <td>1.0</td>\n",
       "      <td>2.0</td>\n",
       "      <td>1.0</td>\n",
       "      <td>3.0</td>\n",
       "      <td>1.0</td>\n",
       "      <td>1.0</td>\n",
       "    </tr>\n",
       "    <tr>\n",
       "      <th>1</th>\n",
       "      <td>5.0</td>\n",
       "      <td>4.0</td>\n",
       "      <td>4.0</td>\n",
       "      <td>5.0</td>\n",
       "      <td>7.0</td>\n",
       "      <td>10.0</td>\n",
       "      <td>3.0</td>\n",
       "      <td>2.0</td>\n",
       "      <td>1.0</td>\n",
       "    </tr>\n",
       "    <tr>\n",
       "      <th>2</th>\n",
       "      <td>3.0</td>\n",
       "      <td>1.0</td>\n",
       "      <td>1.0</td>\n",
       "      <td>1.0</td>\n",
       "      <td>2.0</td>\n",
       "      <td>2.0</td>\n",
       "      <td>3.0</td>\n",
       "      <td>1.0</td>\n",
       "      <td>1.0</td>\n",
       "    </tr>\n",
       "    <tr>\n",
       "      <th>3</th>\n",
       "      <td>6.0</td>\n",
       "      <td>8.0</td>\n",
       "      <td>8.0</td>\n",
       "      <td>1.0</td>\n",
       "      <td>3.0</td>\n",
       "      <td>4.0</td>\n",
       "      <td>3.0</td>\n",
       "      <td>7.0</td>\n",
       "      <td>1.0</td>\n",
       "    </tr>\n",
       "    <tr>\n",
       "      <th>4</th>\n",
       "      <td>4.0</td>\n",
       "      <td>1.0</td>\n",
       "      <td>1.0</td>\n",
       "      <td>3.0</td>\n",
       "      <td>2.0</td>\n",
       "      <td>1.0</td>\n",
       "      <td>3.0</td>\n",
       "      <td>1.0</td>\n",
       "      <td>1.0</td>\n",
       "    </tr>\n",
       "  </tbody>\n",
       "</table>\n",
       "</div>"
      ],
      "text/plain": [
       "   Clump Thickness  Uniformity of Cell Size  Uniformity of Cell Shape   \\\n",
       "0              5.0                      1.0                        1.0   \n",
       "1              5.0                      4.0                        4.0   \n",
       "2              3.0                      1.0                        1.0   \n",
       "3              6.0                      8.0                        8.0   \n",
       "4              4.0                      1.0                        1.0   \n",
       "\n",
       "   Marginal Adhesion  Single Epithelial Cell Size  Bare Nuclei  \\\n",
       "0                1.0                          2.0          1.0   \n",
       "1                5.0                          7.0         10.0   \n",
       "2                1.0                          2.0          2.0   \n",
       "3                1.0                          3.0          4.0   \n",
       "4                3.0                          2.0          1.0   \n",
       "\n",
       "   Bland Chromatin  Normal Nucleoli  Mitoses  \n",
       "0              3.0              1.0      1.0  \n",
       "1              3.0              2.0      1.0  \n",
       "2              3.0              1.0      1.0  \n",
       "3              3.0              7.0      1.0  \n",
       "4              3.0              1.0      1.0  "
      ]
     },
     "execution_count": 285,
     "metadata": {},
     "output_type": "execute_result"
    }
   ],
   "source": [
    "X_resampled.head()"
   ]
  },
  {
   "cell_type": "code",
   "execution_count": 286,
   "metadata": {},
   "outputs": [
    {
     "data": {
      "text/plain": [
       "['Uniformity of Cell Shape ']"
      ]
     },
     "execution_count": 286,
     "metadata": {},
     "output_type": "execute_result"
    }
   ],
   "source": [
    "# Select columns with correlations above threshold\n",
    "to_drop = [column for column in upper.columns if any(upper[column] > threshold)]\n",
    "to_drop"
   ]
  },
  {
   "cell_type": "code",
   "execution_count": 287,
   "metadata": {},
   "outputs": [],
   "source": [
    "X_resampled = X_resampled.drop(columns = to_drop)"
   ]
  },
  {
   "cell_type": "code",
   "execution_count": 288,
   "metadata": {},
   "outputs": [
    {
     "name": "stdout",
     "output_type": "stream",
     "text": [
      "Training shape:  (916, 8)\n",
      "Testing shape:  (916, 1)\n"
     ]
    }
   ],
   "source": [
    "print('Training shape: ', X_resampled.shape)\n",
    "print('Testing shape: ', y_resampled.shape)"
   ]
  },
  {
   "cell_type": "markdown",
   "metadata": {},
   "source": [
    "## 6. Methodology selection \n",
    "\n",
    "- The following random forest methodology is implemented\n",
    "- The variables that are used in the methodology will determine it's accuracy, and as there is no simple perfect answer on which variables are to be used, I've used different ways for feature selection and compared the accuracy of the proposed random forest methodology"
   ]
  },
  {
   "cell_type": "markdown",
   "metadata": {},
   "source": [
    "* Random forest is used to find the accuracy according to the chosen features"
   ]
  },
  {
   "cell_type": "code",
   "execution_count": 289,
   "metadata": {},
   "outputs": [
    {
     "name": "stdout",
     "output_type": "stream",
     "text": [
      "Accuracy is:  0.9745454545454545\n"
     ]
    },
    {
     "name": "stderr",
     "output_type": "stream",
     "text": [
      "/var/folders/bm/jj50yh0n3nz9zqlp793791tc0000gn/T/ipykernel_2186/2322080940.py:11: DataConversionWarning: A column-vector y was passed when a 1d array was expected. Please change the shape of y to (n_samples,), for example using ravel().\n",
      "  clr_rf = clf_rf.fit(x_train,y_train)\n"
     ]
    },
    {
     "data": {
      "text/plain": [
       "<Axes: >"
      ]
     },
     "execution_count": 289,
     "metadata": {},
     "output_type": "execute_result"
    },
    {
     "data": {
      "image/png": "[encoded data removed]",
      "text/plain": [
       "<Figure size 640x480 with 2 Axes>"
      ]
     },
     "metadata": {},
     "output_type": "display_data"
    }
   ],
   "source": [
    "from sklearn.model_selection import train_test_split\n",
    "from sklearn.ensemble import RandomForestClassifier\n",
    "from sklearn.metrics import f1_score,confusion_matrix\n",
    "from sklearn.metrics import accuracy_score\n",
    "\n",
    "# split data train 70 % and test 30 %\n",
    "x_train, x_test, y_train, y_test = train_test_split(X_resampled, y_resampled, test_size=0.3, random_state=42)\n",
    "\n",
    "#random forest classifier with n_estimators=10 (default)\n",
    "clf_rf = RandomForestClassifier(random_state=43)      \n",
    "clr_rf = clf_rf.fit(x_train,y_train)\n",
    "\n",
    "ac = accuracy_score(y_test,clf_rf.predict(x_test))\n",
    "print('Accuracy is: ',ac)\n",
    "cm = confusion_matrix(y_test,clf_rf.predict(x_test))\n",
    "sns.heatmap(cm,annot=True,fmt=\"d\")"
   ]
  },
  {
   "cell_type": "markdown",
   "metadata": {},
   "source": [
    "* Accuracy is almost 97%, and from the confusion matrix we can see that there are few wrong predictions"
   ]
  },
  {
   "cell_type": "markdown",
   "metadata": {},
   "source": [
    "### 6.1 Further feature selection with SelectKBest - Accuracy 97%"
   ]
  },
  {
   "cell_type": "code",
   "execution_count": 290,
   "metadata": {},
   "outputs": [],
   "source": [
    "from sklearn.feature_selection import SelectKBest\n",
    "from sklearn.feature_selection import chi2\n",
    "# find best scored 5 features\n",
    "select_feature = SelectKBest(chi2, k=5).fit(x_train, y_train)"
   ]
  },
  {
   "cell_type": "code",
   "execution_count": 291,
   "metadata": {},
   "outputs": [
    {
     "name": "stdout",
     "output_type": "stream",
     "text": [
      "Score list: [ 571.56177634 1136.73010093  829.33995655  437.95003749 1386.5002295\n",
      "  585.67426283  915.30114207  206.53369836]\n",
      "Feature list: Index(['Clump Thickness', 'Uniformity of Cell Size', 'Marginal Adhesion',\n",
      "       'Single Epithelial Cell Size', 'Bare Nuclei', 'Bland Chromatin',\n",
      "       'Normal Nucleoli', 'Mitoses'],\n",
      "      dtype='object')\n"
     ]
    }
   ],
   "source": [
    "print('Score list:', select_feature.scores_)\n",
    "print('Feature list:', x_train.columns)"
   ]
  },
  {
   "cell_type": "code",
   "execution_count": 292,
   "metadata": {},
   "outputs": [
    {
     "name": "stdout",
     "output_type": "stream",
     "text": [
      "Accuracy is:  0.9709090909090909\n"
     ]
    },
    {
     "name": "stderr",
     "output_type": "stream",
     "text": [
      "/var/folders/bm/jj50yh0n3nz9zqlp793791tc0000gn/T/ipykernel_2186/2807757326.py:5: DataConversionWarning: A column-vector y was passed when a 1d array was expected. Please change the shape of y to (n_samples,), for example using ravel().\n",
      "  clr_rf_2 = clf_rf_2.fit(x_train_2,y_train)\n"
     ]
    },
    {
     "data": {
      "text/plain": [
       "<Axes: >"
      ]
     },
     "execution_count": 292,
     "metadata": {},
     "output_type": "execute_result"
    },
    {
     "data": {
      "image/png": "[encoded data removed]",
      "text/plain": [
       "<Figure size 640x480 with 2 Axes>"
      ]
     },
     "metadata": {},
     "output_type": "display_data"
    }
   ],
   "source": [
    "x_train_2 = select_feature.transform(x_train)\n",
    "x_test_2 = select_feature.transform(x_test)\n",
    "#random forest classifier with n_estimators=10 (default)\n",
    "clf_rf_2 = RandomForestClassifier()      \n",
    "clr_rf_2 = clf_rf_2.fit(x_train_2,y_train)\n",
    "ac_2 = accuracy_score(y_test,clf_rf_2.predict(x_test_2))\n",
    "print('Accuracy is: ',ac_2)\n",
    "cm_2 = confusion_matrix(y_test,clf_rf_2.predict(x_test_2))\n",
    "sns.heatmap(cm_2,annot=True,fmt=\"d\")"
   ]
  },
  {
   "cell_type": "markdown",
   "metadata": {},
   "source": [
    "### 6.2 Recursive feature elimination with Random forest - Accuracy 97%"
   ]
  },
  {
   "cell_type": "code",
   "execution_count": 293,
   "metadata": {},
   "outputs": [
    {
     "name": "stderr",
     "output_type": "stream",
     "text": [
      "/Users/kruby/anaconda3/lib/python3.10/site-packages/sklearn/feature_selection/_rfe.py:299: DataConversionWarning: A column-vector y was passed when a 1d array was expected. Please change the shape of y to (n_samples,), for example using ravel().\n",
      "  estimator.fit(X[:, features], y, **fit_params)\n",
      "/Users/kruby/anaconda3/lib/python3.10/site-packages/sklearn/feature_selection/_rfe.py:299: DataConversionWarning: A column-vector y was passed when a 1d array was expected. Please change the shape of y to (n_samples,), for example using ravel().\n",
      "  estimator.fit(X[:, features], y, **fit_params)\n",
      "/Users/kruby/anaconda3/lib/python3.10/site-packages/sklearn/feature_selection/_rfe.py:299: DataConversionWarning: A column-vector y was passed when a 1d array was expected. Please change the shape of y to (n_samples,), for example using ravel().\n",
      "  estimator.fit(X[:, features], y, **fit_params)\n",
      "/Users/kruby/anaconda3/lib/python3.10/site-packages/sklearn/feature_selection/_rfe.py:326: DataConversionWarning: A column-vector y was passed when a 1d array was expected. Please change the shape of y to (n_samples,), for example using ravel().\n",
      "  self.estimator_.fit(X[:, features], y, **fit_params)\n"
     ]
    }
   ],
   "source": [
    "from sklearn.feature_selection import RFE\n",
    "# Create the RFE object and rank each pixel\n",
    "clf_rf_3 = RandomForestClassifier()      \n",
    "rfe = RFE(estimator=clf_rf_3, n_features_to_select=5, step=1)\n",
    "rfe = rfe.fit(x_train, y_train)"
   ]
  },
  {
   "cell_type": "code",
   "execution_count": 294,
   "metadata": {},
   "outputs": [
    {
     "name": "stdout",
     "output_type": "stream",
     "text": [
      "Chosen best 5 feature by rfe: Index(['Uniformity of Cell Size', 'Single Epithelial Cell Size', 'Bare Nuclei',\n",
      "       'Bland Chromatin', 'Normal Nucleoli'],\n",
      "      dtype='object')\n"
     ]
    }
   ],
   "source": [
    "print('Chosen best 5 feature by rfe:',x_train.columns[rfe.support_])"
   ]
  },
  {
   "cell_type": "code",
   "execution_count": 295,
   "metadata": {},
   "outputs": [
    {
     "name": "stdout",
     "output_type": "stream",
     "text": [
      "Accuracy is:  0.9672727272727273\n"
     ]
    },
    {
     "name": "stderr",
     "output_type": "stream",
     "text": [
      "/var/folders/bm/jj50yh0n3nz9zqlp793791tc0000gn/T/ipykernel_2186/2807757326.py:5: DataConversionWarning: A column-vector y was passed when a 1d array was expected. Please change the shape of y to (n_samples,), for example using ravel().\n",
      "  clr_rf_2 = clf_rf_2.fit(x_train_2,y_train)\n"
     ]
    },
    {
     "data": {
      "text/plain": [
       "<Axes: >"
      ]
     },
     "execution_count": 295,
     "metadata": {},
     "output_type": "execute_result"
    },
    {
     "data": {
      "image/png": "[encoded data removed]",
      "text/plain": [
       "<Figure size 640x480 with 2 Axes>"
      ]
     },
     "metadata": {},
     "output_type": "display_data"
    }
   ],
   "source": [
    "x_train_2 = select_feature.transform(x_train)\n",
    "x_test_2 = select_feature.transform(x_test)\n",
    "#random forest classifier with n_estimators=10 (default)\n",
    "clf_rf_2 = RandomForestClassifier()      \n",
    "clr_rf_2 = clf_rf_2.fit(x_train_2,y_train)\n",
    "ac_2 = accuracy_score(y_test,clf_rf_2.predict(x_test_2))\n",
    "print('Accuracy is: ',ac_2)\n",
    "cm_2 = confusion_matrix(y_test,clf_rf_2.predict(x_test_2))\n",
    "sns.heatmap(cm_2,annot=True,fmt=\"d\")"
   ]
  },
  {
   "cell_type": "markdown",
   "metadata": {},
   "source": [
    "### 6.3 Random Forest Classification and Tree based feature selection - Accuracy 97%"
   ]
  },
  {
   "cell_type": "markdown",
   "metadata": {},
   "source": [
    "- ref: http://scikit-learn.org/stable/modules/generated/sklearn.ensemble.RandomForestClassifier.html \n"
   ]
  },
  {
   "cell_type": "code",
   "execution_count": 297,
   "metadata": {},
   "outputs": [
    {
     "name": "stdout",
     "output_type": "stream",
     "text": [
      "Feature ranking:\n",
      "1. feature 1 (0.295782)\n",
      "2. feature 4 (0.203849)\n",
      "3. feature 5 (0.139072)\n",
      "4. feature 3 (0.117501)\n",
      "5. feature 0 (0.093047)\n",
      "6. feature 6 (0.073750)\n",
      "7. feature 2 (0.068263)\n",
      "8. feature 7 (0.008736)\n"
     ]
    },
    {
     "name": "stderr",
     "output_type": "stream",
     "text": [
      "/var/folders/bm/jj50yh0n3nz9zqlp793791tc0000gn/T/ipykernel_2186/3429463734.py:2: DataConversionWarning: A column-vector y was passed when a 1d array was expected. Please change the shape of y to (n_samples,), for example using ravel().\n",
      "  clr_rf_5 = clf_rf_5.fit(x_train,y_train)\n"
     ]
    },
    {
     "data": {
      "image/png": "[encoded data removed]",
      "text/plain": [
       "<Figure size 1400x1300 with 1 Axes>"
      ]
     },
     "metadata": {},
     "output_type": "display_data"
    }
   ],
   "source": [
    "clf_rf_5 = RandomForestClassifier()      \n",
    "clr_rf_5 = clf_rf_5.fit(x_train,y_train)\n",
    "importances = clr_rf_5.feature_importances_\n",
    "std = np.std([tree.feature_importances_ for tree in clf_rf.estimators_],\n",
    "             axis=0)\n",
    "indices = np.argsort(importances)[::-1]\n",
    "\n",
    "# Print the feature ranking\n",
    "print(\"Feature ranking:\")\n",
    "\n",
    "for f in range(x_train.shape[1]):\n",
    "    print(\"%d. feature %d (%f)\" % (f + 1, indices[f], importances[indices[f]]))\n",
    "\n",
    "# Plot the feature importances of the forest\n",
    "\n",
    "plt.figure(1, figsize=(14, 13))\n",
    "plt.title(\"Feature importances\")\n",
    "plt.bar(range(x_train.shape[1]), importances[indices],\n",
    "       color=\"g\", yerr=std[indices], align=\"center\")\n",
    "plt.xticks(range(x_train.shape[1]), x_train.columns[indices],rotation=90)\n",
    "plt.xlim([-1, x_train.shape[1]])\n",
    "plt.show()"
   ]
  },
  {
   "cell_type": "code",
   "execution_count": 298,
   "metadata": {},
   "outputs": [
    {
     "name": "stdout",
     "output_type": "stream",
     "text": [
      "Accuracy score: 0.9745454545454545\n"
     ]
    }
   ],
   "source": [
    "# Make predictions on the test set\n",
    "y_pred = clr_rf_5.predict(x_test)\n",
    "\n",
    "# Calculate the accuracy score\n",
    "accuracy = accuracy_score(y_test, y_pred)\n",
    "\n",
    "# Print the accuracy score\n",
    "print(\"Accuracy score:\", accuracy)"
   ]
  }
 ],
 "metadata": {
  "kernelspec": {
   "display_name": "gpuenv",
   "language": "python",
   "name": "gpuenv"
  },
  "language_info": {
   "codemirror_mode": {
    "name": "ipython",
    "version": 3
   },
   "file_extension": ".py",
   "mimetype": "text/x-python",
   "name": "python",
   "nbconvert_exporter": "python",
   "pygments_lexer": "ipython3",
   "version": "3.9.16 (main, Jan 11 2023, 16:16:36) [MSC v.1916 64 bit (AMD64)]"
  },
  "vscode": {
   "interpreter": {
    "hash": "d288b0b05eff9a885f46bca58a1e22eaa20d9eeebab83492fa79239d8adcb3ac"
   }
  }
 },
 "nbformat": 4,
 "nbformat_minor": 4
}
