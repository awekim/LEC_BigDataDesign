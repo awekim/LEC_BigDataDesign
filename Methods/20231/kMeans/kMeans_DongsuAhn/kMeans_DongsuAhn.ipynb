{
  "cells": [
    {
      "attachments": {},
      "cell_type": "markdown",
      "metadata": {
        "id": "tPV-STjkjUCJ"
      },
      "source": [
        "# k-Means Methodology"
      ]
    },
    {
      "attachments": {},
      "cell_type": "markdown",
      "metadata": {
        "id": "8hPLben0jUCL"
      },
      "source": [
        "##### Author information\n",
        "- Name: Dongsu Ahn\n",
        "- email address: 21700411@handong.ac.kr\n",
        "- GitHub: https://github.com/Ahndongsoo"
      ]
    },
    {
      "attachments": {},
      "cell_type": "markdown",
      "metadata": {
        "id": "JhXwXG-CjUCL"
      },
      "source": [
        "#### Part 1. Brief background of methodology <br>\n",
        "- Explain the situation before this methodology was introduced.<br>\n",
        "Traditional clustering techniques typically use hierarchical methods or partitioning-based algorithms to group data. However, these techniques suffer from several limitations.<br>\n",
        "First, while hierarchical techniques were relatively simple and intuitive, they were computationally complex and inefficient for large datasets. Hierarchical clustering required computing the distance between every pair of data, which caused computation time to increase dramatically as the size of the dataset increased.<br>\n",
        "Second, algorithms based on partitioning were typically k-medoids, an algorithm used before k-means. This algorithm worked by selecting data points that represented the centers of a cluster, and assigning each data point to the closest center. However, k-medoids required computing a cost function for all possible combinations of center points, which was computationally expensive and time-consuming. <br>\n",
        "Thus, prior to the introduction of the k-means algorithm, efficient methods for clustering large amounts of data were lacking, relying on multiple assumptions or constraints, or being computationally expensive. <br><br>\n",
        "\n",
        "- Explain why this methodology is introduced <br><br>\n",
        "k-Means was introduced because it has characteristics that can compensate for the shortcomings of previous algorithms (hierarchical clustering, partitioning methods) to some extent. \n",
        "There are three main characteristics.<br>\n",
        "First, it is computationally efficient, meaning it works relatively quickly even for large datasets. The k-means algorithm provides efficient clustering by minimizing the computational cost of calculating the distance between data points, which is the main computational cost.<br> Second, it scales very well. k-Means algorithm is applicable to categorical data as well as numerical data. This characteristic allows k-Means to be utilized in a wide variety of fields. For example, the k-means algorithm can be applied to a variety of problems, including customer segmentation, image classification, natural language processing, and genetic clustering. Clustering is useful for exploring and visualizing data, identifying characteristics of groups, etc., which can help with decision-making.<br> Finally, the k-means algorithm is easy to use because it is a relatively simple and intuitive method. You can tune the clustering results by adjusting hyperparameters such as the initial centroid selection and the number of iterations, allowing you to tailor the clustering to your preferences.<br><br>\n",
        "\n",
        "- Where it can be used.<br><br>\n",
        "1. Clustering: The k-means algorithm is widely used for clustering problems, where data is classified into groups with similar characteristics. \n",
        "For example, k-means can be used for *card customer clustering* (analyzing customer consumption data to analyze consumption trends among customers).\n",
        "And *image segmentation* (an important image processing method that is the basis for recognizing and separating objects in computer vision) can be performed using the k-means algorithm to separate colors in an image.<br>\n",
        "2. Outlier detection: The K-means algorithm can also be used to detect outliers. Data points that are far from the center of a cluster can be considered outliers. The K-means algorithm can be used to identify and analyze outliers.<br>\n",
        "3. Natural language processing: The K-means algorithm can be used for document clustering in natural language processing. Based on a document's word vector, documents with similar topics can be grouped into clusters for text analysis and information retrieval."
      ]
    },
    {
      "attachments": {},
      "cell_type": "markdown",
      "metadata": {
        "id": "w4slY5sxjUCL"
      },
      "source": [
        "#### Part 2. Key concept of methodology\n",
        "- Explain the key concept of the methodology with mathematical equations.\n",
        "\n",
        "1. The initial k mean value is randomly drawn from the data.\n",
        "\n",
        "2. The k clusters are divided based on the closest mean value.\n",
        "(Euclidean distance is used here)\n",
        "\n",
        "3. Update the new centroid with the mean value of the assigned data.\n",
        "\n",
        "4. Repeat steps 2 and 3 until there is little change (convergence).\n",
        "\n",
        "Expressing the above process as a formula, the goal is to minimize the cost function below.\n",
        "\n",
        "![이미지](https://images.velog.io/images/eogns1208/post/35dea051-b970-4271-8f1d-662caa6eadd9/Clustering_kmeans_c.png)\n",
        " \n",
        "\n",
        "In other words, it learns to minimize the sum of squared distances between the cluster center and the data.<br><br>\n",
        "- Explain the main strength of the methodology. \n",
        "\n",
        "1. It shows high performance.<br>\n",
        "Convenient to use on large datasets. In unlabeled big data, k-Means offers many insights and benefits as an unsupervised clustering algorithm.<br>\n",
        "2. It is relatively easy to use.<br>\n",
        "k-Means is also easy to use. It can be initialized with default parameters in the Scikit-Learn implementation. Following this approach, parameters such as the number of clusters, maximum number of iterations, and initialization of the initial centroid can be easily tuned to suit your work goals.\n",
        "3. It can be applied on unlabeled data.<br>\n",
        "This is a common unsupervised machine learning algorithm that also applies to k-Means. k-Means clusters data when the data has no labels (class values or targets) or column headers. It can uncover useful insights from data with no patterns.<br>\n",
        "4. Simple and easy to interpret results \n",
        "k-Means shows cluster results that are easy to interpret and visualize.<br> Its simplicity makes it very useful when you need a quick overview of your data classification."
      ]
    },
    {
      "attachments": {},
      "cell_type": "markdown",
      "metadata": {
        "id": "ocY_2CqNjUCM"
      },
      "source": [
        "#### Part 3. Example"
      ]
    },
    {
      "attachments": {},
      "cell_type": "markdown",
      "metadata": {
        "id": "OFaMwg5Cjjks"
      },
      "source": [
        "##### Toy data1"
      ]
    },
    {
      "cell_type": "code",
      "execution_count": 1,
      "metadata": {
        "colab": {
          "base_uri": "https://localhost:8080/",
          "height": 453
        },
        "id": "Uzm9OBg9jZto",
        "outputId": "0e274392-f7a0-4d81-ea41-1f72cf0f5ec8"
      },
      "outputs": [
        {
          "data": {
            "image/png": "[encoded data removed]",
            "text/plain": [
              "<Figure size 640x480 with 1 Axes>"
            ]
          },
          "metadata": {},
          "output_type": "display_data"
        }
      ],
      "source": [
        "#install packages import numpy as np\n",
        "import numpy as np\n",
        "import matplotlib.pyplot as plt\n",
        "from sklearn.cluster import KMeans\n",
        "# make data (arbitrary two-dimensional data) np.random.seed(0)\n",
        "\n",
        "X = np.random.randn(100, 2)\n",
        "\n",
        "# X data visualization before clustering.\n",
        "plt.scatter(X[:, 0], X[:, 1])\n",
        "plt.xlabel('X')\n",
        "plt.ylabel('Y')\n",
        "plt.show()"
      ]
    },
    {
      "attachments": {},
      "cell_type": "markdown",
      "metadata": {
        "id": "xFaO8k6kjou4"
      },
      "source": [
        "Set a range to determine the appropriate number of clusters\n",
        "Inertia can be defined as the within-cluster variance as the sum of the squared errors for each cluster, \n",
        "In general, as k increases, inertia decreases as the samples get closer to their assigned centroids. The Elbow method is to set the optimal k at the point where inertia changes rapidly."
      ]
    },
    {
      "cell_type": "code",
      "execution_count": 2,
      "metadata": {
        "colab": {
          "base_uri": "https://localhost:8080/",
          "height": 804
        },
        "id": "jnP7Eq08jqYd",
        "outputId": "5bb6c4e9-ed12-4c2b-eeec-9b3af86f419d"
      },
      "outputs": [
        {
          "name": "stderr",
          "output_type": "stream",
          "text": [
            "c:\\Users\\user\\anaconda3\\envs\\gpuenv\\lib\\site-packages\\sklearn\\cluster\\_kmeans.py:870: FutureWarning: The default value of `n_init` will change from 10 to 'auto' in 1.4. Set the value of `n_init` explicitly to suppress the warning\n",
            "  warnings.warn(\n",
            "c:\\Users\\user\\anaconda3\\envs\\gpuenv\\lib\\site-packages\\sklearn\\cluster\\_kmeans.py:1382: UserWarning: KMeans is known to have a memory leak on Windows with MKL, when there are less chunks than available threads. You can avoid it by setting the environment variable OMP_NUM_THREADS=1.\n",
            "  warnings.warn(\n",
            "c:\\Users\\user\\anaconda3\\envs\\gpuenv\\lib\\site-packages\\sklearn\\cluster\\_kmeans.py:870: FutureWarning: The default value of `n_init` will change from 10 to 'auto' in 1.4. Set the value of `n_init` explicitly to suppress the warning\n",
            "  warnings.warn(\n",
            "c:\\Users\\user\\anaconda3\\envs\\gpuenv\\lib\\site-packages\\sklearn\\cluster\\_kmeans.py:1382: UserWarning: KMeans is known to have a memory leak on Windows with MKL, when there are less chunks than available threads. You can avoid it by setting the environment variable OMP_NUM_THREADS=1.\n",
            "  warnings.warn(\n",
            "c:\\Users\\user\\anaconda3\\envs\\gpuenv\\lib\\site-packages\\sklearn\\cluster\\_kmeans.py:870: FutureWarning: The default value of `n_init` will change from 10 to 'auto' in 1.4. Set the value of `n_init` explicitly to suppress the warning\n",
            "  warnings.warn(\n",
            "c:\\Users\\user\\anaconda3\\envs\\gpuenv\\lib\\site-packages\\sklearn\\cluster\\_kmeans.py:1382: UserWarning: KMeans is known to have a memory leak on Windows with MKL, when there are less chunks than available threads. You can avoid it by setting the environment variable OMP_NUM_THREADS=1.\n",
            "  warnings.warn(\n",
            "c:\\Users\\user\\anaconda3\\envs\\gpuenv\\lib\\site-packages\\sklearn\\cluster\\_kmeans.py:870: FutureWarning: The default value of `n_init` will change from 10 to 'auto' in 1.4. Set the value of `n_init` explicitly to suppress the warning\n",
            "  warnings.warn(\n",
            "c:\\Users\\user\\anaconda3\\envs\\gpuenv\\lib\\site-packages\\sklearn\\cluster\\_kmeans.py:1382: UserWarning: KMeans is known to have a memory leak on Windows with MKL, when there are less chunks than available threads. You can avoid it by setting the environment variable OMP_NUM_THREADS=1.\n",
            "  warnings.warn(\n",
            "c:\\Users\\user\\anaconda3\\envs\\gpuenv\\lib\\site-packages\\sklearn\\cluster\\_kmeans.py:870: FutureWarning: The default value of `n_init` will change from 10 to 'auto' in 1.4. Set the value of `n_init` explicitly to suppress the warning\n",
            "  warnings.warn(\n",
            "c:\\Users\\user\\anaconda3\\envs\\gpuenv\\lib\\site-packages\\sklearn\\cluster\\_kmeans.py:1382: UserWarning: KMeans is known to have a memory leak on Windows with MKL, when there are less chunks than available threads. You can avoid it by setting the environment variable OMP_NUM_THREADS=1.\n",
            "  warnings.warn(\n",
            "c:\\Users\\user\\anaconda3\\envs\\gpuenv\\lib\\site-packages\\sklearn\\cluster\\_kmeans.py:870: FutureWarning: The default value of `n_init` will change from 10 to 'auto' in 1.4. Set the value of `n_init` explicitly to suppress the warning\n",
            "  warnings.warn(\n",
            "c:\\Users\\user\\anaconda3\\envs\\gpuenv\\lib\\site-packages\\sklearn\\cluster\\_kmeans.py:1382: UserWarning: KMeans is known to have a memory leak on Windows with MKL, when there are less chunks than available threads. You can avoid it by setting the environment variable OMP_NUM_THREADS=1.\n",
            "  warnings.warn(\n",
            "c:\\Users\\user\\anaconda3\\envs\\gpuenv\\lib\\site-packages\\sklearn\\cluster\\_kmeans.py:870: FutureWarning: The default value of `n_init` will change from 10 to 'auto' in 1.4. Set the value of `n_init` explicitly to suppress the warning\n",
            "  warnings.warn(\n",
            "c:\\Users\\user\\anaconda3\\envs\\gpuenv\\lib\\site-packages\\sklearn\\cluster\\_kmeans.py:1382: UserWarning: KMeans is known to have a memory leak on Windows with MKL, when there are less chunks than available threads. You can avoid it by setting the environment variable OMP_NUM_THREADS=1.\n",
            "  warnings.warn(\n",
            "c:\\Users\\user\\anaconda3\\envs\\gpuenv\\lib\\site-packages\\sklearn\\cluster\\_kmeans.py:870: FutureWarning: The default value of `n_init` will change from 10 to 'auto' in 1.4. Set the value of `n_init` explicitly to suppress the warning\n",
            "  warnings.warn(\n",
            "c:\\Users\\user\\anaconda3\\envs\\gpuenv\\lib\\site-packages\\sklearn\\cluster\\_kmeans.py:1382: UserWarning: KMeans is known to have a memory leak on Windows with MKL, when there are less chunks than available threads. You can avoid it by setting the environment variable OMP_NUM_THREADS=1.\n",
            "  warnings.warn(\n",
            "c:\\Users\\user\\anaconda3\\envs\\gpuenv\\lib\\site-packages\\sklearn\\cluster\\_kmeans.py:870: FutureWarning: The default value of `n_init` will change from 10 to 'auto' in 1.4. Set the value of `n_init` explicitly to suppress the warning\n",
            "  warnings.warn(\n",
            "c:\\Users\\user\\anaconda3\\envs\\gpuenv\\lib\\site-packages\\sklearn\\cluster\\_kmeans.py:1382: UserWarning: KMeans is known to have a memory leak on Windows with MKL, when there are less chunks than available threads. You can avoid it by setting the environment variable OMP_NUM_THREADS=1.\n",
            "  warnings.warn(\n"
          ]
        },
        {
          "data": {
            "image/png": "[encoded data removed]",
            "text/plain": [
              "<Figure size 640x480 with 1 Axes>"
            ]
          },
          "metadata": {},
          "output_type": "display_data"
        }
      ],
      "source": [
        "# run k-means for each number of clusters and store the inertia values\n",
        "# Create an empty list called inertias, put k from 1 to 10 once, and add to empty intertias\n",
        "# Compare the inertias to find the right k value.\n",
        "k_values=range(1, 10)\n",
        "inertias = [ ]\n",
        "for k in k_values:\n",
        "  kmeans = KMeans (n_clusters=k) \n",
        "  kmeans.fit(X)\n",
        "  inertias.append(kmeans.inertia_)\n",
        "# Draw an elbow graph , 1-10 draw the number of clusters and intertias values\n",
        "plt.plot(k_values, inertias,'ro-')\n",
        "plt.xlabel('number of cluster (k)')\n",
        "plt.ylabel('(Inertia)')\n",
        "plt.title('Elbow graph')\n",
        "plt.show()"
      ]
    },
    {
      "cell_type": "code",
      "execution_count": 3,
      "metadata": {
        "colab": {
          "base_uri": "https://localhost:8080/",
          "height": 544
        },
        "id": "hp6WhGfRjw2D",
        "outputId": "b3a5281f-9f33-435d-f327-0965ad927e29"
      },
      "outputs": [
        {
          "name": "stderr",
          "output_type": "stream",
          "text": [
            "c:\\Users\\user\\anaconda3\\envs\\gpuenv\\lib\\site-packages\\sklearn\\cluster\\_kmeans.py:870: FutureWarning: The default value of `n_init` will change from 10 to 'auto' in 1.4. Set the value of `n_init` explicitly to suppress the warning\n",
            "  warnings.warn(\n",
            "c:\\Users\\user\\anaconda3\\envs\\gpuenv\\lib\\site-packages\\sklearn\\cluster\\_kmeans.py:1382: UserWarning: KMeans is known to have a memory leak on Windows with MKL, when there are less chunks than available threads. You can avoid it by setting the environment variable OMP_NUM_THREADS=1.\n",
            "  warnings.warn(\n"
          ]
        },
        {
          "data": {
            "image/png": "[encoded data removed]",
            "text/plain": [
              "<Figure size 640x480 with 1 Axes>"
            ]
          },
          "metadata": {},
          "output_type": "display_data"
        }
      ],
      "source": [
        "# Looking at the elbow graph above, select the point k where the decline stops significantly.\n",
        "# k=3\n",
        "chosen_k = int(input(\"input the number of clusters.: \"))\n",
        "\n",
        "# k-means run\n",
        "kmeans = KMeans(n_clusters=chosen_k)\n",
        "kmeans.fit(X)\n",
        "\n",
        "# Get cluster assignment results\n",
        "labels = kmeans.labels_\n",
        "\n",
        "# Cluster visualization\n",
        "plt.scatter(X[:, 0], X[:, 1], c=labels)\n",
        "#draw centroids \n",
        "plt.scatter(kmeans.cluster_centers_[:, 0], kmeans.cluster_centers_[:, 1], marker='x', color='red')\n",
        "plt.xlabel('X1')\n",
        "plt.ylabel('X2')\n",
        "plt.title('Result of k-means clustering')\n",
        "plt.show()"
      ]
    },
    {
      "attachments": {},
      "cell_type": "markdown",
      "metadata": {
        "id": "4MMqVGgtj-uh"
      },
      "source": [
        "When the data was first given to us randomly, we were unable to see any patterns or categorize it.\n",
        "By using kmeans, I was able to categorize the data into different clusters. \n",
        "This feature of kmeans made it suitable for use in order to identify hidden patterns or tendencies in the data. This is why the kmeans algorithm is used in the real world to categorize customers. \n",
        "I decided to try applying the K-means algorithm to my customer data to categorize customers into groups with similar characteristics."
      ]
    },
    {
      "attachments": {},
      "cell_type": "markdown",
      "metadata": {
        "id": "VJ6I6EeEkFl_"
      },
      "source": [
        "#### Toy data2 kaggle_data"
      ]
    },
    {
      "cell_type": "code",
      "execution_count": 4,
      "metadata": {
        "id": "92vhIiszkI0D"
      },
      "outputs": [],
      "source": [
        "#install packages\n",
        "import numpy as np\n",
        "import matplotlib.pyplot as plt\n",
        "import pandas as pd\n",
        "from sklearn.preprocessing import MinMaxScaler\n",
        "from sklearn.cluster import KMeans\n",
        "\n",
        "# read csv\n",
        "df = pd.read_csv(\"Mall_Customers.csv\")"
      ]
    },
    {
      "cell_type": "code",
      "execution_count": 5,
      "metadata": {
        "colab": {
          "base_uri": "https://localhost:8080/",
          "height": 206
        },
        "id": "WMkMewZ1kSOI",
        "outputId": "be588b74-2af5-41ea-bb41-90144328ce51"
      },
      "outputs": [
        {
          "data": {
            "text/html": [
              "<div>\n",
              "<style scoped>\n",
              "    .dataframe tbody tr th:only-of-type {\n",
              "        vertical-align: middle;\n",
              "    }\n",
              "\n",
              "    .dataframe tbody tr th {\n",
              "        vertical-align: top;\n",
              "    }\n",
              "\n",
              "    .dataframe thead th {\n",
              "        text-align: right;\n",
              "    }\n",
              "</style>\n",
              "<table border=\"1\" class=\"dataframe\">\n",
              "  <thead>\n",
              "    <tr style=\"text-align: right;\">\n",
              "      <th></th>\n",
              "      <th>CustomerID</th>\n",
              "      <th>Gender</th>\n",
              "      <th>Age</th>\n",
              "      <th>Annual Income (k$)</th>\n",
              "      <th>Spending Score (1-100)</th>\n",
              "    </tr>\n",
              "  </thead>\n",
              "  <tbody>\n",
              "    <tr>\n",
              "      <th>0</th>\n",
              "      <td>1</td>\n",
              "      <td>Male</td>\n",
              "      <td>19</td>\n",
              "      <td>15</td>\n",
              "      <td>39</td>\n",
              "    </tr>\n",
              "    <tr>\n",
              "      <th>1</th>\n",
              "      <td>2</td>\n",
              "      <td>Male</td>\n",
              "      <td>21</td>\n",
              "      <td>15</td>\n",
              "      <td>81</td>\n",
              "    </tr>\n",
              "    <tr>\n",
              "      <th>2</th>\n",
              "      <td>3</td>\n",
              "      <td>Female</td>\n",
              "      <td>20</td>\n",
              "      <td>16</td>\n",
              "      <td>6</td>\n",
              "    </tr>\n",
              "    <tr>\n",
              "      <th>3</th>\n",
              "      <td>4</td>\n",
              "      <td>Female</td>\n",
              "      <td>23</td>\n",
              "      <td>16</td>\n",
              "      <td>77</td>\n",
              "    </tr>\n",
              "    <tr>\n",
              "      <th>4</th>\n",
              "      <td>5</td>\n",
              "      <td>Female</td>\n",
              "      <td>31</td>\n",
              "      <td>17</td>\n",
              "      <td>40</td>\n",
              "    </tr>\n",
              "  </tbody>\n",
              "</table>\n",
              "</div>"
            ],
            "text/plain": [
              "   CustomerID  Gender  Age  Annual Income (k$)  Spending Score (1-100)\n",
              "0           1    Male   19                  15                      39\n",
              "1           2    Male   21                  15                      81\n",
              "2           3  Female   20                  16                       6\n",
              "3           4  Female   23                  16                      77\n",
              "4           5  Female   31                  17                      40"
            ]
          },
          "execution_count": 5,
          "metadata": {},
          "output_type": "execute_result"
        }
      ],
      "source": [
        "df.head()"
      ]
    },
    {
      "attachments": {},
      "cell_type": "markdown",
      "metadata": {
        "id": "9bWl2KfWkYNu"
      },
      "source": [
        "Column Description\n",
        "* customer ID : Unique customer ID\n",
        "* Gender : male or female (sex)\n",
        "* age : customer age\n",
        "* Annual income : customer annual income\n",
        "* Spending Score: It is the score(out of 100) given to a customer by the mall authorities, based on the money spent and the behavior of the customer."
      ]
    },
    {
      "cell_type": "code",
      "execution_count": 6,
      "metadata": {
        "colab": {
          "base_uri": "https://localhost:8080/",
          "height": 206
        },
        "id": "IgSmJyNVkXPW",
        "outputId": "624d25ff-8d38-41b7-97af-536949420776"
      },
      "outputs": [
        {
          "data": {
            "text/html": [
              "<div>\n",
              "<style scoped>\n",
              "    .dataframe tbody tr th:only-of-type {\n",
              "        vertical-align: middle;\n",
              "    }\n",
              "\n",
              "    .dataframe tbody tr th {\n",
              "        vertical-align: top;\n",
              "    }\n",
              "\n",
              "    .dataframe thead th {\n",
              "        text-align: right;\n",
              "    }\n",
              "</style>\n",
              "<table border=\"1\" class=\"dataframe\">\n",
              "  <thead>\n",
              "    <tr style=\"text-align: right;\">\n",
              "      <th></th>\n",
              "      <th>Annual Income (k$)</th>\n",
              "      <th>Spending Score (1-100)</th>\n",
              "    </tr>\n",
              "  </thead>\n",
              "  <tbody>\n",
              "    <tr>\n",
              "      <th>0</th>\n",
              "      <td>15</td>\n",
              "      <td>39</td>\n",
              "    </tr>\n",
              "    <tr>\n",
              "      <th>1</th>\n",
              "      <td>15</td>\n",
              "      <td>81</td>\n",
              "    </tr>\n",
              "    <tr>\n",
              "      <th>2</th>\n",
              "      <td>16</td>\n",
              "      <td>6</td>\n",
              "    </tr>\n",
              "    <tr>\n",
              "      <th>3</th>\n",
              "      <td>16</td>\n",
              "      <td>77</td>\n",
              "    </tr>\n",
              "    <tr>\n",
              "      <th>4</th>\n",
              "      <td>17</td>\n",
              "      <td>40</td>\n",
              "    </tr>\n",
              "  </tbody>\n",
              "</table>\n",
              "</div>"
            ],
            "text/plain": [
              "   Annual Income (k$)  Spending Score (1-100)\n",
              "0                  15                      39\n",
              "1                  15                      81\n",
              "2                  16                       6\n",
              "3                  16                      77\n",
              "4                  17                      40"
            ]
          },
          "execution_count": 6,
          "metadata": {},
          "output_type": "execute_result"
        }
      ],
      "source": [
        "# Assign only these two variables to df_cluster as the clustering function.\n",
        "df_cluster= df[['Annual Income (k$)', 'Spending Score (1-100)']]\n",
        "df_cluster.head() "
      ]
    },
    {
      "cell_type": "code",
      "execution_count": 7,
      "metadata": {
        "colab": {
          "base_uri": "https://localhost:8080/"
        },
        "id": "tUH1wtKxkaWI",
        "outputId": "ee6a5b0b-9f1d-44e0-9481-4d7c9fea4b03"
      },
      "outputs": [
        {
          "name": "stdout",
          "output_type": "stream",
          "text": [
            "<class 'pandas.core.frame.DataFrame'>\n",
            "RangeIndex: 200 entries, 0 to 199\n",
            "Data columns (total 2 columns):\n",
            " #   Column                  Non-Null Count  Dtype\n",
            "---  ------                  --------------  -----\n",
            " 0   Annual Income (k$)      200 non-null    int64\n",
            " 1   Spending Score (1-100)  200 non-null    int64\n",
            "dtypes: int64(2)\n",
            "memory usage: 3.2 KB\n"
          ]
        }
      ],
      "source": [
        "# data info\n",
        "df_cluster.info()"
      ]
    },
    {
      "cell_type": "code",
      "execution_count": 8,
      "metadata": {
        "colab": {
          "base_uri": "https://localhost:8080/"
        },
        "id": "faB6Ion5kbxA",
        "outputId": "3eb2fa45-340f-415a-aa51-cc079495c326"
      },
      "outputs": [
        {
          "data": {
            "text/plain": [
              "Annual Income (k$)        False\n",
              "Spending Score (1-100)    False\n",
              "dtype: bool"
            ]
          },
          "execution_count": 8,
          "metadata": {},
          "output_type": "execute_result"
        }
      ],
      "source": [
        "#checking NA : no na\n",
        "df_cluster.isna().any()"
      ]
    },
    {
      "cell_type": "code",
      "execution_count": 9,
      "metadata": {
        "colab": {
          "base_uri": "https://localhost:8080/",
          "height": 300
        },
        "id": "7l-32xD1kd0I",
        "outputId": "86ad6708-4a16-40c6-8339-1ffc2e1d6e51"
      },
      "outputs": [
        {
          "data": {
            "text/html": [
              "<div>\n",
              "<style scoped>\n",
              "    .dataframe tbody tr th:only-of-type {\n",
              "        vertical-align: middle;\n",
              "    }\n",
              "\n",
              "    .dataframe tbody tr th {\n",
              "        vertical-align: top;\n",
              "    }\n",
              "\n",
              "    .dataframe thead th {\n",
              "        text-align: right;\n",
              "    }\n",
              "</style>\n",
              "<table border=\"1\" class=\"dataframe\">\n",
              "  <thead>\n",
              "    <tr style=\"text-align: right;\">\n",
              "      <th></th>\n",
              "      <th>Annual Income (k$)</th>\n",
              "      <th>Spending Score (1-100)</th>\n",
              "    </tr>\n",
              "  </thead>\n",
              "  <tbody>\n",
              "    <tr>\n",
              "      <th>count</th>\n",
              "      <td>200.000000</td>\n",
              "      <td>200.000000</td>\n",
              "    </tr>\n",
              "    <tr>\n",
              "      <th>mean</th>\n",
              "      <td>60.560000</td>\n",
              "      <td>50.200000</td>\n",
              "    </tr>\n",
              "    <tr>\n",
              "      <th>std</th>\n",
              "      <td>26.264721</td>\n",
              "      <td>25.823522</td>\n",
              "    </tr>\n",
              "    <tr>\n",
              "      <th>min</th>\n",
              "      <td>15.000000</td>\n",
              "      <td>1.000000</td>\n",
              "    </tr>\n",
              "    <tr>\n",
              "      <th>25%</th>\n",
              "      <td>41.500000</td>\n",
              "      <td>34.750000</td>\n",
              "    </tr>\n",
              "    <tr>\n",
              "      <th>50%</th>\n",
              "      <td>61.500000</td>\n",
              "      <td>50.000000</td>\n",
              "    </tr>\n",
              "    <tr>\n",
              "      <th>75%</th>\n",
              "      <td>78.000000</td>\n",
              "      <td>73.000000</td>\n",
              "    </tr>\n",
              "    <tr>\n",
              "      <th>max</th>\n",
              "      <td>137.000000</td>\n",
              "      <td>99.000000</td>\n",
              "    </tr>\n",
              "  </tbody>\n",
              "</table>\n",
              "</div>"
            ],
            "text/plain": [
              "       Annual Income (k$)  Spending Score (1-100)\n",
              "count          200.000000              200.000000\n",
              "mean            60.560000               50.200000\n",
              "std             26.264721               25.823522\n",
              "min             15.000000                1.000000\n",
              "25%             41.500000               34.750000\n",
              "50%             61.500000               50.000000\n",
              "75%             78.000000               73.000000\n",
              "max            137.000000               99.000000"
            ]
          },
          "execution_count": 9,
          "metadata": {},
          "output_type": "execute_result"
        }
      ],
      "source": [
        "# One of the basic conditions for k-means clustering is that the variables must have the same mean and variance.\n",
        "# Compare mean and std for the variables Age, Annual Income, and Spending Score\n",
        "df_cluster.describe()"
      ]
    },
    {
      "cell_type": "code",
      "execution_count": 10,
      "metadata": {
        "id": "T5rVPT6tkfIF"
      },
      "outputs": [],
      "source": [
        "# The StandardScaler function allows you to convert mean to 0 and std to 1 at a time.\n",
        "# scale df_cluster\n",
        "from sklearn.preprocessing import StandardScaler\n",
        "scaler = StandardScaler()\n",
        "scaler.fit(df_cluster)\n",
        "df_scale = scaler.transform(df_cluster)"
      ]
    },
    {
      "attachments": {},
      "cell_type": "markdown",
      "metadata": {
        "id": "GvhdIVQ5kgjV"
      },
      "source": [
        "- Finding the proper k with the elbow method, inertia : \n",
        "Set a range to determine the appropriate number of clusters\n",
        "Inertia can be defined as the within-cluster variance as the sum of the squared errors for each cluster, \n",
        "In general, as k increases, inertia decreases as the samples get closer to their assigned centroids. The Elbow method is to set the optimal k at the point where inertia changes rapidly."
      ]
    },
    {
      "cell_type": "code",
      "execution_count": 11,
      "metadata": {
        "colab": {
          "base_uri": "https://localhost:8080/",
          "height": 839
        },
        "id": "g7A1LZS6kte4",
        "outputId": "593d27fe-181d-4c80-f40f-1f8318980444"
      },
      "outputs": [
        {
          "name": "stderr",
          "output_type": "stream",
          "text": [
            "c:\\Users\\user\\anaconda3\\envs\\gpuenv\\lib\\site-packages\\sklearn\\cluster\\_kmeans.py:870: FutureWarning: The default value of `n_init` will change from 10 to 'auto' in 1.4. Set the value of `n_init` explicitly to suppress the warning\n",
            "  warnings.warn(\n",
            "c:\\Users\\user\\anaconda3\\envs\\gpuenv\\lib\\site-packages\\sklearn\\cluster\\_kmeans.py:1382: UserWarning: KMeans is known to have a memory leak on Windows with MKL, when there are less chunks than available threads. You can avoid it by setting the environment variable OMP_NUM_THREADS=1.\n",
            "  warnings.warn(\n",
            "c:\\Users\\user\\anaconda3\\envs\\gpuenv\\lib\\site-packages\\sklearn\\cluster\\_kmeans.py:870: FutureWarning: The default value of `n_init` will change from 10 to 'auto' in 1.4. Set the value of `n_init` explicitly to suppress the warning\n",
            "  warnings.warn(\n",
            "c:\\Users\\user\\anaconda3\\envs\\gpuenv\\lib\\site-packages\\sklearn\\cluster\\_kmeans.py:1382: UserWarning: KMeans is known to have a memory leak on Windows with MKL, when there are less chunks than available threads. You can avoid it by setting the environment variable OMP_NUM_THREADS=1.\n",
            "  warnings.warn(\n",
            "c:\\Users\\user\\anaconda3\\envs\\gpuenv\\lib\\site-packages\\sklearn\\cluster\\_kmeans.py:870: FutureWarning: The default value of `n_init` will change from 10 to 'auto' in 1.4. Set the value of `n_init` explicitly to suppress the warning\n",
            "  warnings.warn(\n",
            "c:\\Users\\user\\anaconda3\\envs\\gpuenv\\lib\\site-packages\\sklearn\\cluster\\_kmeans.py:1382: UserWarning: KMeans is known to have a memory leak on Windows with MKL, when there are less chunks than available threads. You can avoid it by setting the environment variable OMP_NUM_THREADS=1.\n",
            "  warnings.warn(\n",
            "c:\\Users\\user\\anaconda3\\envs\\gpuenv\\lib\\site-packages\\sklearn\\cluster\\_kmeans.py:870: FutureWarning: The default value of `n_init` will change from 10 to 'auto' in 1.4. Set the value of `n_init` explicitly to suppress the warning\n",
            "  warnings.warn(\n",
            "c:\\Users\\user\\anaconda3\\envs\\gpuenv\\lib\\site-packages\\sklearn\\cluster\\_kmeans.py:1382: UserWarning: KMeans is known to have a memory leak on Windows with MKL, when there are less chunks than available threads. You can avoid it by setting the environment variable OMP_NUM_THREADS=1.\n",
            "  warnings.warn(\n",
            "c:\\Users\\user\\anaconda3\\envs\\gpuenv\\lib\\site-packages\\sklearn\\cluster\\_kmeans.py:870: FutureWarning: The default value of `n_init` will change from 10 to 'auto' in 1.4. Set the value of `n_init` explicitly to suppress the warning\n",
            "  warnings.warn(\n",
            "c:\\Users\\user\\anaconda3\\envs\\gpuenv\\lib\\site-packages\\sklearn\\cluster\\_kmeans.py:1382: UserWarning: KMeans is known to have a memory leak on Windows with MKL, when there are less chunks than available threads. You can avoid it by setting the environment variable OMP_NUM_THREADS=1.\n",
            "  warnings.warn(\n",
            "c:\\Users\\user\\anaconda3\\envs\\gpuenv\\lib\\site-packages\\sklearn\\cluster\\_kmeans.py:870: FutureWarning: The default value of `n_init` will change from 10 to 'auto' in 1.4. Set the value of `n_init` explicitly to suppress the warning\n",
            "  warnings.warn(\n",
            "c:\\Users\\user\\anaconda3\\envs\\gpuenv\\lib\\site-packages\\sklearn\\cluster\\_kmeans.py:1382: UserWarning: KMeans is known to have a memory leak on Windows with MKL, when there are less chunks than available threads. You can avoid it by setting the environment variable OMP_NUM_THREADS=1.\n",
            "  warnings.warn(\n",
            "c:\\Users\\user\\anaconda3\\envs\\gpuenv\\lib\\site-packages\\sklearn\\cluster\\_kmeans.py:870: FutureWarning: The default value of `n_init` will change from 10 to 'auto' in 1.4. Set the value of `n_init` explicitly to suppress the warning\n",
            "  warnings.warn(\n",
            "c:\\Users\\user\\anaconda3\\envs\\gpuenv\\lib\\site-packages\\sklearn\\cluster\\_kmeans.py:1382: UserWarning: KMeans is known to have a memory leak on Windows with MKL, when there are less chunks than available threads. You can avoid it by setting the environment variable OMP_NUM_THREADS=1.\n",
            "  warnings.warn(\n",
            "c:\\Users\\user\\anaconda3\\envs\\gpuenv\\lib\\site-packages\\sklearn\\cluster\\_kmeans.py:870: FutureWarning: The default value of `n_init` will change from 10 to 'auto' in 1.4. Set the value of `n_init` explicitly to suppress the warning\n",
            "  warnings.warn(\n",
            "c:\\Users\\user\\anaconda3\\envs\\gpuenv\\lib\\site-packages\\sklearn\\cluster\\_kmeans.py:1382: UserWarning: KMeans is known to have a memory leak on Windows with MKL, when there are less chunks than available threads. You can avoid it by setting the environment variable OMP_NUM_THREADS=1.\n",
            "  warnings.warn(\n",
            "c:\\Users\\user\\anaconda3\\envs\\gpuenv\\lib\\site-packages\\sklearn\\cluster\\_kmeans.py:870: FutureWarning: The default value of `n_init` will change from 10 to 'auto' in 1.4. Set the value of `n_init` explicitly to suppress the warning\n",
            "  warnings.warn(\n",
            "c:\\Users\\user\\anaconda3\\envs\\gpuenv\\lib\\site-packages\\sklearn\\cluster\\_kmeans.py:1382: UserWarning: KMeans is known to have a memory leak on Windows with MKL, when there are less chunks than available threads. You can avoid it by setting the environment variable OMP_NUM_THREADS=1.\n",
            "  warnings.warn(\n",
            "c:\\Users\\user\\anaconda3\\envs\\gpuenv\\lib\\site-packages\\sklearn\\cluster\\_kmeans.py:870: FutureWarning: The default value of `n_init` will change from 10 to 'auto' in 1.4. Set the value of `n_init` explicitly to suppress the warning\n",
            "  warnings.warn(\n",
            "c:\\Users\\user\\anaconda3\\envs\\gpuenv\\lib\\site-packages\\sklearn\\cluster\\_kmeans.py:1382: UserWarning: KMeans is known to have a memory leak on Windows with MKL, when there are less chunks than available threads. You can avoid it by setting the environment variable OMP_NUM_THREADS=1.\n",
            "  warnings.warn(\n"
          ]
        },
        {
          "data": {
            "image/png": "[encoded data removed]",
            "text/plain": [
              "<Figure size 640x480 with 1 Axes>"
            ]
          },
          "metadata": {},
          "output_type": "display_data"
        }
      ],
      "source": [
        "\n",
        "# run k-means for each number of clusters and store the inertia values\n",
        "# Create an empty list called inertias, put k from 1 to 11 once, and add to empty intertias\n",
        "# Compare the inertias to find the right k value.\n",
        "k_values = range(1, 11)\n",
        "inertias = []\n",
        "for k in k_values:\n",
        "    kmeans = KMeans(n_clusters=k)\n",
        "    kmeans.fit(df_scale)\n",
        "    inertias.append(kmeans.inertia_)\n",
        "\n",
        "# Draw an elbow graph , 1-10 draw the number of clusters and intertias values\n",
        "plt.plot(k_values, inertias, 'ro-')\n",
        "plt.xlabel('number of cluster (k)')\n",
        "plt.ylabel('(Inertia)')\n",
        "plt.title('Elbow graph')\n",
        "plt.show()"
      ]
    },
    {
      "cell_type": "code",
      "execution_count": 12,
      "metadata": {
        "colab": {
          "base_uri": "https://localhost:8080/",
          "height": 261
        },
        "id": "Ho0b4wo-ktkM",
        "outputId": "23a9c159-7526-4918-c7f4-94875fb79d22"
      },
      "outputs": [
        {
          "name": "stderr",
          "output_type": "stream",
          "text": [
            "c:\\Users\\user\\anaconda3\\envs\\gpuenv\\lib\\site-packages\\sklearn\\cluster\\_kmeans.py:870: FutureWarning: The default value of `n_init` will change from 10 to 'auto' in 1.4. Set the value of `n_init` explicitly to suppress the warning\n",
            "  warnings.warn(\n",
            "c:\\Users\\user\\anaconda3\\envs\\gpuenv\\lib\\site-packages\\sklearn\\cluster\\_kmeans.py:1382: UserWarning: KMeans is known to have a memory leak on Windows with MKL, when there are less chunks than available threads. You can avoid it by setting the environment variable OMP_NUM_THREADS=1.\n",
            "  warnings.warn(\n"
          ]
        },
        {
          "data": {
            "text/html": [
              "<div>\n",
              "<style scoped>\n",
              "    .dataframe tbody tr th:only-of-type {\n",
              "        vertical-align: middle;\n",
              "    }\n",
              "\n",
              "    .dataframe tbody tr th {\n",
              "        vertical-align: top;\n",
              "    }\n",
              "\n",
              "    .dataframe thead th {\n",
              "        text-align: right;\n",
              "    }\n",
              "</style>\n",
              "<table border=\"1\" class=\"dataframe\">\n",
              "  <thead>\n",
              "    <tr style=\"text-align: right;\">\n",
              "      <th></th>\n",
              "      <th>Annual Income (k$)</th>\n",
              "      <th>Spending Score (1-100)</th>\n",
              "      <th>Cluster</th>\n",
              "    </tr>\n",
              "  </thead>\n",
              "  <tbody>\n",
              "    <tr>\n",
              "      <th>195</th>\n",
              "      <td>120</td>\n",
              "      <td>79</td>\n",
              "      <td>3</td>\n",
              "    </tr>\n",
              "    <tr>\n",
              "      <th>196</th>\n",
              "      <td>126</td>\n",
              "      <td>28</td>\n",
              "      <td>0</td>\n",
              "    </tr>\n",
              "    <tr>\n",
              "      <th>197</th>\n",
              "      <td>126</td>\n",
              "      <td>74</td>\n",
              "      <td>3</td>\n",
              "    </tr>\n",
              "    <tr>\n",
              "      <th>198</th>\n",
              "      <td>137</td>\n",
              "      <td>18</td>\n",
              "      <td>0</td>\n",
              "    </tr>\n",
              "    <tr>\n",
              "      <th>199</th>\n",
              "      <td>137</td>\n",
              "      <td>83</td>\n",
              "      <td>3</td>\n",
              "    </tr>\n",
              "  </tbody>\n",
              "</table>\n",
              "</div>"
            ],
            "text/plain": [
              "     Annual Income (k$)  Spending Score (1-100)  Cluster\n",
              "195                 120                      79        3\n",
              "196                 126                      28        0\n",
              "197                 126                      74        3\n",
              "198                 137                      18        0\n",
              "199                 137                      83        3"
            ]
          },
          "execution_count": 12,
          "metadata": {},
          "output_type": "execute_result"
        }
      ],
      "source": [
        "# According to the elbow graph above, the optimal number of clusters is 4 or 5.\n",
        "# assing 4 at the K\n",
        "# Running a kmeans model with scaled data\n",
        "k = 4\n",
        "model = KMeans(n_clusters = k,random_state = 10)\n",
        "model.fit_predict(df_scale)\n",
        "# Store the label assigned to each data point in cluster_labels.\n",
        "cluster_labels = model.labels_\n",
        "# Create a new column called Cluster in the df_cluster table that was raw data and assign a label to it.\n",
        "df_cluster3 = df_cluster.assign(Cluster = cluster_labels)\n",
        "# check cluster label\n",
        "df_cluster3.tail()"
      ]
    },
    {
      "attachments": {},
      "cell_type": "markdown",
      "metadata": {
        "id": "vmUxNMu-k38u"
      },
      "source": [
        "##### Clustering visualization"
      ]
    },
    {
      "cell_type": "code",
      "execution_count": 13,
      "metadata": {
        "colab": {
          "base_uri": "https://localhost:8080/",
          "height": 898
        },
        "id": "ZsT_kh_tlETk",
        "outputId": "4aac3c35-8792-420b-a587-0a635aa28a2d"
      },
      "outputs": [
        {
          "data": {
            "image/png": "[encoded data removed]",
            "text/plain": [
              "<Figure size 1000x1000 with 1 Axes>"
            ]
          },
          "metadata": {},
          "output_type": "display_data"
        }
      ],
      "source": [
        "# set figure size \n",
        "plt.figure(figsize=(10,10))\n",
        "# plot all clusters 0-4 in a scatter plot using a for statement\n",
        "for i in range(k):\n",
        "    plt.scatter(df_cluster3.loc[df_cluster3['Cluster'] == i, 'Annual Income (k$)'],\n",
        "                df_cluster3.loc[df_cluster3['Cluster'] == i, 'Spending Score (1-100)'], label = 'cluster' + str(i))\n",
        "\n",
        "# Set title and x- and y-axis labels\n",
        "plt.legend()\n",
        "plt.title(f'K={k} results',size = 15)\n",
        "plt.xlabel('Annual Income',size = 12)\n",
        "plt.ylabel('Spending Score',size = 12)\n",
        "# show graph\n",
        "plt.show()"
      ]
    },
    {
      "cell_type": "code",
      "execution_count": 14,
      "metadata": {
        "colab": {
          "base_uri": "https://localhost:8080/",
          "height": 238
        },
        "id": "g2LJjSdblGaL",
        "outputId": "b2b7c16a-8271-4e2b-c80d-d9e7e0beffc3"
      },
      "outputs": [
        {
          "data": {
            "text/html": [
              "<div>\n",
              "<style scoped>\n",
              "    .dataframe tbody tr th:only-of-type {\n",
              "        vertical-align: middle;\n",
              "    }\n",
              "\n",
              "    .dataframe tbody tr th {\n",
              "        vertical-align: top;\n",
              "    }\n",
              "\n",
              "    .dataframe thead tr th {\n",
              "        text-align: left;\n",
              "    }\n",
              "\n",
              "    .dataframe thead tr:last-of-type th {\n",
              "        text-align: right;\n",
              "    }\n",
              "</style>\n",
              "<table border=\"1\" class=\"dataframe\">\n",
              "  <thead>\n",
              "    <tr>\n",
              "      <th></th>\n",
              "      <th>Annual Income (k$)</th>\n",
              "      <th colspan=\"2\" halign=\"left\">Spending Score (1-100)</th>\n",
              "    </tr>\n",
              "    <tr>\n",
              "      <th></th>\n",
              "      <th>mean</th>\n",
              "      <th>mean</th>\n",
              "      <th>count</th>\n",
              "    </tr>\n",
              "    <tr>\n",
              "      <th>Cluster</th>\n",
              "      <th></th>\n",
              "      <th></th>\n",
              "      <th></th>\n",
              "    </tr>\n",
              "  </thead>\n",
              "  <tbody>\n",
              "    <tr>\n",
              "      <th>0</th>\n",
              "      <td>87.000000</td>\n",
              "      <td>18.631579</td>\n",
              "      <td>38</td>\n",
              "    </tr>\n",
              "    <tr>\n",
              "      <th>1</th>\n",
              "      <td>48.260000</td>\n",
              "      <td>56.480000</td>\n",
              "      <td>100</td>\n",
              "    </tr>\n",
              "    <tr>\n",
              "      <th>2</th>\n",
              "      <td>26.304348</td>\n",
              "      <td>20.913043</td>\n",
              "      <td>23</td>\n",
              "    </tr>\n",
              "    <tr>\n",
              "      <th>3</th>\n",
              "      <td>86.538462</td>\n",
              "      <td>82.128205</td>\n",
              "      <td>39</td>\n",
              "    </tr>\n",
              "  </tbody>\n",
              "</table>\n",
              "</div>"
            ],
            "text/plain": [
              "        Annual Income (k$) Spending Score (1-100)      \n",
              "                      mean                   mean count\n",
              "Cluster                                                \n",
              "0                87.000000              18.631579    38\n",
              "1                48.260000              56.480000   100\n",
              "2                26.304348              20.913043    23\n",
              "3                86.538462              82.128205    39"
            ]
          },
          "execution_count": 14,
          "metadata": {},
          "output_type": "execute_result"
        }
      ],
      "source": [
        "# Find averages and counts based on clusters with aggregate and grouby\n",
        "df_cluster3.groupby('Cluster').agg({'Annual Income (k$)': 'mean', 'Spending Score (1-100)': ['mean', 'count']})"
      ]
    },
    {
      "attachments": {},
      "cell_type": "markdown",
      "metadata": {
        "id": "RGoXXFFflIMO"
      },
      "source": [
        "- Result: Originally, the raw_data of mall_customer_csv was unlabeled.\n",
        "We determined the number of clustering through the elbow method and labeled the unlabeled data through the kmeans algorithm. The result was a total of 4 clustering.\n",
        "The clustering results can be used to identify patterns and determine marketing and product strategies. \n",
        "\n",
        "- What it means and how to use it: <br>\n",
        "Cluster 0: Cluster 0 has a high income, but a very low consumption score. This is a group of potential customers who have the ability to spend, but don't, so it's important to study cluster 0 consumers in more detail and design products and marketing strategies to encourage them to spend more. So, market need to analyze why they are not spending and offer them products that they might be interested in.<br>\n",
        "Cluster 1: Medium income, showing a medium purchase score. This is where the majority of customers fall, so it's worth paying attention to.<br>\n",
        "Cluster 2: Low income, low purchase score. The least prioritized of the four clusters due to their low spending potential.<br>\n",
        "Cluster 3: High income, very high spend score. These are the VIPs of the store, and they deserve to be treated as such. The most important thing is to find out more about this cluster and make sure they don't leave the store.\n",
        "<br>\n",
        "Summary :\n",
        "Customer clustering allows us to drill down a bit further and look at customers in groups. In the future, if I had additional customer data, I could add more granularity to this clustering and use it as a clustering analysis for more detailed analysis and marketing strategies.\n"
      ]
    },
    {
      "attachments": {},
      "cell_type": "markdown",
      "metadata": {
        "id": "iUUpyb3VjUCM"
      },
      "source": [
        "##### Reference\n",
        "- https://blog.naver.com/asus1984/120065207734<br>\n",
        "- https://hmkim312.github.io/posts/Mall_Customer_Segmentation_Data%EB%A1%9C_%ED%95%B4%EB%B3%B4%EB%8A%94_%EA%B5%B0%EC%A7%91%ED%99%94/<br>\n",
        "- https://developers.google.com/machine-learning/clustering/algorithm/advantages-disadvantages?hl=ko<br>\n",
        "- https://hongl.tistory.com/140<br>\n",
        "- https://hongl.tistory.com/141<br>\n",
        "- Sample_data : https://www.kaggle.com/datasets/shwetabh123/mall-customers<br>"
      ]
    }
  ],
  "metadata": {
    "colab": {
      "provenance": []
    },
    "kernelspec": {
      "display_name": "gpuenv",
      "language": "python",
      "name": "python3"
    },
    "language_info": {
      "codemirror_mode": {
        "name": "ipython",
        "version": 3
      },
      "file_extension": ".py",
      "mimetype": "text/x-python",
      "name": "python",
      "nbconvert_exporter": "python",
      "pygments_lexer": "ipython3",
      "version": "3.9.16"
    },
    "orig_nbformat": 4,
    "vscode": {
      "interpreter": {
        "hash": "d288b0b05eff9a885f46bca58a1e22eaa20d9eeebab83492fa79239d8adcb3ac"
      }
    }
  },
  "nbformat": 4,
  "nbformat_minor": 0
}
