{
 "cells": [
  {
   "cell_type": "markdown",
   "id": "4f0d778c-cede-4f31-a019-0d5c1fdbb7a5",
   "metadata": {},
   "source": [
    "# DS Methodology"
   ]
  },
  {
   "cell_type": "markdown",
   "id": "b2b56f67-fb6f-4517-b84c-70310fdd3732",
   "metadata": {},
   "source": [
    "#### Author information\n",
    "- Name: \bYejeong Lee\n",
    "- email address: dpwjd2526@handong.ac.kr\n",
    "- GitHub: Yejeonglee\n",
    "- Youtube URL: https://youtu.be/tdnHV_dPKYI?si=-n-7AEIF8Ao-sg-L"
   ]
  },
  {
   "cell_type": "markdown",
   "id": "63570d3b-2bd5-49f4-96f2-4360a181e2c8",
   "metadata": {},
   "source": [
    "### Part 1. Brief background of methodology"
   ]
  },
  {
   "cell_type": "markdown",
   "id": "e927c649-f03c-4d27-95b0-a006359c7884",
   "metadata": {},
   "source": [
    "#### **[The situation before this methodology was introduced]**\n",
    "Random Forest, as the name suggests, is a concept **similar to a forest consisting of multiple trees**, where it is composed of multiple decision trees and serves as a supervised learning model. Therefore, **Random Forest is built upon decision trees**.\n",
    "\n",
    "In a decision tree, **the entire dataset starts at the root node**, the topmost node of the tree, and then branches out based on the conditions of the subsequent nodes. When the data reaches a leaf node, which has no further branches, the data arriving at the same node is linked to the final prediction result. **The model learns by adding branching conditions until all the data reaches the leaf nodes.**\n",
    "\n",
    "However, decision trees are prone to **overfitting to the training data, especially as the tree becomes deeper, which can lead to bias issues**. **To address this, an improved algorithm was needed** that could strike a balance by not being too deep while still producing optimal results through diverse questions.\n",
    "\n",
    "#### **[Why this methodology is introduced]**\n",
    " **Random Forest was introduced because it can address some of the drawbacks of decision trees, specifically issues of overfitting and bias.** For example, when faced with a question like \"Should I go surfing today?\", the questions asked to make a prediction may not be comprehensive. **However, Random Forest trains multiple trees with relatively shallow depths, allowing for the learning of data through a variety of questions. This approach is known as ensemble learning.**\n",
    "\n",
    " In contrast, a single CART model, like a decision tree, tends to become deeper and more complex as the number of features increases and the data becomes more diverse. This complexity can lead to overfitting, where the model fits too closely to the training data, or to bias in a specific direction. However, **Random Forest, which employs ensemble learning, generates multiple random samples from the dataset and trains several trees independently.** This process reduces the variance of the data and lowers the uncertainty of predictions.<br><br>\n",
    "\n",
    "<div style=\"text-align: center;\">\n",
    "    <img src=\"diagram.png\" alt=\"RF_Diagram.png\" width=\"700\" height=\"600\">\n",
    "</div>\n",
    "\n",
    "#### **[Where it can be used]**\n",
    "The random forest algorithm has been applied across a number of industries, allowing them to make better business decisions. Some use cases include:\n",
    "- **Finance**: It is a preferred algorithm over others as it reduces time spent on data management and pre-processing tasks. It can be used to evaluate customers with high credit risk, to detect fraud, and option pricing problems.\n",
    "- **Healthcare**: The random forest algorithm has applications within computational biology, allowing doctors to tackle problems such as gene expression classification, biomarker discovery, and sequence annotation. As a result, doctors can make estimates around drug responses to specific medications.\n",
    "- **E-commerce**: It can be used for recommendation engines for cross-sell purposes. This means that it can be used in marketing to analyze user behavior data and preferences to recommend appropriate products or services, thereby encouraging additional sales."
   ]
  },
  {
   "cell_type": "markdown",
   "id": "fa4285f2-6ee3-42fb-b3ac-e625af71ef7a",
   "metadata": {},
   "source": [
    "### Part 2. Key concept of methodology"
   ]
  },
  {
   "cell_type": "markdown",
   "id": "34933047-413c-4703-aedf-1365fc6091a4",
   "metadata": {},
   "source": [
    "#### **[Key concept of the methodology with mathematical equations]**\n",
    "\n",
    "1. **Regression & Classification**\n",
    "    \n",
    "    **(1) Regression**\n",
    "    \n",
    "    $$\n",
    "    \\hat{y}RF = \\frac{1}{T}\\sum_{t=1}^T\\hat{y}_t\n",
    "    $$\n",
    "    \n",
    "    - $\\hat{y}RF$: Final predicted value\n",
    "    - $T$: Number of models\n",
    "    - $\\hat{y}_t$: Predicted value of the t-th model<br><br>\n",
    "        This formula represents how to calculate the final predicted value $\\hat{y}RF$ of a random forest. It sums the predicted values $\\hat{y}^t$ from each decision tree and then divides by the number of models $T$ to obtain the average. This average is used as the final predicted value $\\hat{y}RF$ of the random forest.\n",
    "    \n",
    "    **(2) Classification**\n",
    "    \n",
    "    $$\n",
    "    \\hat{y}RF=\\mathrm{mode}(\\hat{y_1},\\hat{y_2},...,\\hat{y_T})\n",
    "    $$\n",
    "    \n",
    "    - $yRF$: Final predicted value\n",
    "    - $\\hat{y_1},\\hat{y_2},...,\\hat{y_T}$: Predicted values of individual decision trees\n",
    "    - $\\mathrm{mode}$: The value that appears most frequently among the predictions is selected as the final prediction<br><br>\n",
    "        Random forest learns multiple decision trees and selects the most frequently occurring value (i.e., the mode) among the predictions from each tree to derive the final classification result. This is a type of ensemble learning method that combines the predictions of individual trees to enhance overall performance.<br><br>\n",
    "    \n",
    "2. **Node Impurity**\n",
    "    \n",
    "    In a tree model, the impurity of a node is a measure that evaluates the fit of the data at each node. The data in a node indicates how diverse it is, meaning how well different classes or categories are mixed. Nodes with low impurity are considered to have high predictive power, and therefore contribute to improving the performance of the tree model.\n",
    "    \n",
    "    Common measures of impurity in **classification tree models include the Gini index or entropy**, while in **regression tree models, the mean squared error (MSE) is used.**\n",
    "    \n",
    "    **(1) Gini Index**\n",
    "    \n",
    "    The Gini index is used to measure how impure a node is. It calculates the probability that the samples in the node belong to different classes. If a node contains only one class, the Gini index will be 0, and theoretically, it reaches its maximum when the impurity is the highest (when the classes are evenly mixed).\n",
    "    \n",
    "    $$\n",
    "    Gini=1-\\sum_{i=1}^K p^2_1\n",
    "    $$\n",
    "    \n",
    "    where $K$ is the number of class labels, $p_i$ is the proportion of $i$th class label\n",
    "\n",
    "    **Example:**\n",
    "    <img src=\"GINI.png\" alt=\"RF_Diagram.png\" width=\"600\" height=\"500\">\n",
    "\n",
    "    **(2) Entropy**\n",
    "    \n",
    "    The entropy index is a measure of uncertainty, and it has a higher value when there is a greater imbalance in the values of the variable.\n",
    "    \n",
    "    $$\n",
    "    E(S)=\\sum_{i=1}^K-p_i\\log_{2}p_i\n",
    "    $$\n",
    "    \n",
    "    - $E(S)$: Entropy of the set S\n",
    "    - $c$: Number of classes (= k)\n",
    "    - $p_i$: Proportion (probability) of samples belonging to class i\n",
    "    - $\\log_{2}p_i$: Information content of class i (using base 2 logarithm)<br><br>\n",
    "        \n",
    "    **Example:**\n",
    "\n",
    "    - If two classes are mixed in equal proportions (i.e., $p_1$=0.5,$p_2$=0.5), the entropy reaches its maximum value of 1.\n",
    "        \n",
    "        $p_1$=0.5, $p_2$=0.5\n",
    "        \n",
    "    - In the case where one class is 100% (i.e., $p_1$=1,$p_2$=0), the entropy becomes 0.\n",
    "        \n",
    "        $p_1$=1, $p_2$=0\n",
    "            \n",
    "    \n",
    "    **(3) MSE(mean squared error)**\n",
    "    \n",
    "    $$\n",
    "    MSE=\\frac{1}{n}\\sum_{i=1}^n(y_i-\\hat{y})^2\n",
    "    $$\n",
    "    \n",
    "    - $n$: The number of samples in the node.\n",
    "    - $y_i$: The actual value of sample i.\n",
    "    - $\\bar{y}$: The average value of all samples.<br><br>\n",
    "\n",
    "3. **Variable Importance**\n",
    "    \n",
    "    Through the metric of Variable Importance, we estimate which variables play a crucial role in the prediction performance.\n",
    "    \n",
    "    $$\n",
    "    f_{i} = \\frac{\\sum_{\\text{node } j \\text{ splits on feature } i} n_{ij}}{\\sum_{\\text{all nodes}} n_{ik}}\n",
    "    $$\n",
    "    \n",
    "    - $f_{i}$: The importance of feature $i$.\n",
    "    - $n_{ij}$: The number of samples at node $j$ that splits on feature $i$.\n",
    "    - $n_{ik}$: The total number of samples at all nodes.\n",
    "    - $\\sum_{\\text{node } j \\text{ splits on feature } i}$: The sum of samples for all nodes that use feature $i$ for splitting.\n",
    "    - $\\sum_{\\text{all nodes}} n_{ik}$: The sum of the number of samples at all nodes.<br><br>\n",
    "    \n",
    "    This formula calculates how important a particular feature $i$ is for prediction. It does this by considering how often the feature is used for splitting and how many samples are involved at the nodes where the splits happen.\n",
    "    \n",
    "5. **OOB (Out-Of-Bag) Error**\n",
    "    \n",
    "    Out-of-Bag samples refer to the data that were not drawn during the bootstrap sampling process. The results obtained by training these samples separately with the random forest constitute the OOB error. Thus, it is a method to validate the ensemble learning model using the predictions from models that did not use each respective sample in the training.<br><br>\n",
    "   **Example:**\n",
    "    <img src=\"obb.png\" alt=\"OBB.png\" width=\"350\" height=\"300\">"
   ]
  },
  {
   "cell_type": "markdown",
   "id": "7ce50182-6686-4f79-87c0-509245b781e5",
   "metadata": {},
   "source": [
    "#### **[The main strength of the methodology]**\n",
    "\n",
    "1. **Flexibility:** We can use this algorithm for regression as well as classification problems. It can be considered a handy algorithm because it produces better results even without hyperparameter tuning. Also, the parameters are pretty straightforward, they are easy to understand and there are also not that many of them.\n",
    "2. **Ensemble**: Decision trees can vary significantly based on the training data, making it challenging to generalize their use. Random forests address this issue by introducing randomness in variable selection and bagging, which decorrelates the predictions of each tree, thereby enhancing generalization performance and making them suitable for data that contains noise.\n",
    "3. **Parallel processing is possible**: Each tree is trained independently, allowing for faster training through parallel processing.\n",
    "4. **Variable Importance**: Through variable importance, we can estimate which variables play a significant role in the predictive performance."
   ]
  },
  {
   "cell_type": "markdown",
   "id": "2e9c3644-e287-4d5f-8184-ea2e7c6ae8a3",
   "metadata": {},
   "source": [
    "### Part 3. Example\n",
    "\n",
    "Random Forest can be used for both classification and regression. I will show examples of classification and regression using Random Forest."
   ]
  },
  {
   "cell_type": "markdown",
   "id": "35a5d88c-fa17-480b-9edf-55206a4ac8d3",
   "metadata": {},
   "source": [
    "#### **[Regression]**"
   ]
  },
  {
   "cell_type": "markdown",
   "id": "1ff30e6d-918c-471b-8803-7cf9a31054e3",
   "metadata": {},
   "source": [
    "**Dataset explanation**\n",
    "\n",
    "This dataset, created by Emirhan BULUT, contains essential features and measurements from various cities worldwide, focusing on factors influencing each city's overall happiness score.\n",
    "\n",
    "The dataset includes the following features:\n",
    "\n",
    "- **City**: Name of the city\n",
    "- **Month**: Month of data recording\n",
    "- **Year**: Year of data recording\n",
    "- **Decibel_Level**: Average noise levels (decibels)\n",
    "- **Traffic_Density**: Levels of traffic density (Low, Medium, High, Very High)\n",
    "- **Green_Space_Area**: Percentage of green spaces in the city\n",
    "- **Air_Quality_Index**: Index measuring air quality\n",
    "- **Happiness_Score**: Average happiness score (1-10 scale)\n",
    "- **Cost_of_Living_Index**: Cost of living index (relative to a reference city)\n",
    "- **Healthcare_Index**: Index measuring the quality of healthcare"
   ]
  },
  {
   "cell_type": "code",
   "execution_count": 115,
   "id": "e0e6a06c-e62f-4697-b11d-83c5608ef564",
   "metadata": {},
   "outputs": [],
   "source": [
    "#package\n",
    "from sklearn.ensemble import RandomForestClassifier, RandomForestRegressor\n",
    "from sklearn.metrics import classification_report,accuracy_score\n",
    "from sklearn.metrics import mean_squared_error\n",
    "import pandas as pd\n",
    "import matplotlib.pyplot as plt\n",
    "import seaborn as sns\n",
    "from sklearn.model_selection import train_test_split, GridSearchCV\n",
    "import category_encoders as ce\n",
    "import numpy as np"
   ]
  },
  {
   "cell_type": "markdown",
   "id": "fd9c7228-669d-4668-ac67-4b88e789e58a",
   "metadata": {},
   "source": [
    "1. Load Data"
   ]
  },
  {
   "cell_type": "code",
   "execution_count": 175,
   "id": "b5558e03-8d07-4308-b5d9-d1ac25a536a6",
   "metadata": {},
   "outputs": [
    {
     "data": {
      "text/html": [
       "<div>\n",
       "<style scoped>\n",
       "    .dataframe tbody tr th:only-of-type {\n",
       "        vertical-align: middle;\n",
       "    }\n",
       "\n",
       "    .dataframe tbody tr th {\n",
       "        vertical-align: top;\n",
       "    }\n",
       "\n",
       "    .dataframe thead th {\n",
       "        text-align: right;\n",
       "    }\n",
       "</style>\n",
       "<table border=\"1\" class=\"dataframe\">\n",
       "  <thead>\n",
       "    <tr style=\"text-align: right;\">\n",
       "      <th></th>\n",
       "      <th>City</th>\n",
       "      <th>Month</th>\n",
       "      <th>Year</th>\n",
       "      <th>Decibel_Level</th>\n",
       "      <th>Traffic_Density</th>\n",
       "      <th>Green_Space_Area</th>\n",
       "      <th>Air_Quality_Index</th>\n",
       "      <th>Happiness_Score</th>\n",
       "      <th>Cost_of_Living_Index</th>\n",
       "      <th>Healthcare_Index</th>\n",
       "    </tr>\n",
       "  </thead>\n",
       "  <tbody>\n",
       "    <tr>\n",
       "      <th>0</th>\n",
       "      <td>Auckland</td>\n",
       "      <td>January</td>\n",
       "      <td>2030</td>\n",
       "      <td>55</td>\n",
       "      <td>Low</td>\n",
       "      <td>80</td>\n",
       "      <td>40</td>\n",
       "      <td>8.4</td>\n",
       "      <td>110</td>\n",
       "      <td>97</td>\n",
       "    </tr>\n",
       "    <tr>\n",
       "      <th>1</th>\n",
       "      <td>Berlin</td>\n",
       "      <td>January</td>\n",
       "      <td>2030</td>\n",
       "      <td>50</td>\n",
       "      <td>Low</td>\n",
       "      <td>60</td>\n",
       "      <td>45</td>\n",
       "      <td>7.9</td>\n",
       "      <td>80</td>\n",
       "      <td>93</td>\n",
       "    </tr>\n",
       "    <tr>\n",
       "      <th>2</th>\n",
       "      <td>Cairo</td>\n",
       "      <td>January</td>\n",
       "      <td>2030</td>\n",
       "      <td>75</td>\n",
       "      <td>Very High</td>\n",
       "      <td>15</td>\n",
       "      <td>110</td>\n",
       "      <td>4.1</td>\n",
       "      <td>55</td>\n",
       "      <td>69</td>\n",
       "    </tr>\n",
       "    <tr>\n",
       "      <th>3</th>\n",
       "      <td>Denver</td>\n",
       "      <td>January</td>\n",
       "      <td>2030</td>\n",
       "      <td>60</td>\n",
       "      <td>Medium</td>\n",
       "      <td>40</td>\n",
       "      <td>50</td>\n",
       "      <td>7.5</td>\n",
       "      <td>95</td>\n",
       "      <td>89</td>\n",
       "    </tr>\n",
       "    <tr>\n",
       "      <th>4</th>\n",
       "      <td>Edinburgh</td>\n",
       "      <td>January</td>\n",
       "      <td>2030</td>\n",
       "      <td>55</td>\n",
       "      <td>Low</td>\n",
       "      <td>65</td>\n",
       "      <td>55</td>\n",
       "      <td>7.8</td>\n",
       "      <td>85</td>\n",
       "      <td>92</td>\n",
       "    </tr>\n",
       "  </tbody>\n",
       "</table>\n",
       "</div>"
      ],
      "text/plain": [
       "        City    Month  Year  Decibel_Level Traffic_Density  Green_Space_Area  \\\n",
       "0   Auckland  January  2030             55             Low                80   \n",
       "1     Berlin  January  2030             50             Low                60   \n",
       "2      Cairo  January  2030             75       Very High                15   \n",
       "3     Denver  January  2030             60          Medium                40   \n",
       "4  Edinburgh  January  2030             55             Low                65   \n",
       "\n",
       "   Air_Quality_Index  Happiness_Score  Cost_of_Living_Index  Healthcare_Index  \n",
       "0                 40              8.4                   110                97  \n",
       "1                 45              7.9                    80                93  \n",
       "2                110              4.1                    55                69  \n",
       "3                 50              7.5                    95                89  \n",
       "4                 55              7.8                    85                92  "
      ]
     },
     "execution_count": 175,
     "metadata": {},
     "output_type": "execute_result"
    }
   ],
   "source": [
    "#test data\n",
    "df_test = pd.read_csv('happiness_test_regression.csv')\n",
    "\n",
    "df_test.head()"
   ]
  },
  {
   "cell_type": "code",
   "execution_count": 177,
   "id": "5a146917-1ec5-475c-a599-9d2be4100e0d",
   "metadata": {},
   "outputs": [
    {
     "data": {
      "text/html": [
       "<div>\n",
       "<style scoped>\n",
       "    .dataframe tbody tr th:only-of-type {\n",
       "        vertical-align: middle;\n",
       "    }\n",
       "\n",
       "    .dataframe tbody tr th {\n",
       "        vertical-align: top;\n",
       "    }\n",
       "\n",
       "    .dataframe thead th {\n",
       "        text-align: right;\n",
       "    }\n",
       "</style>\n",
       "<table border=\"1\" class=\"dataframe\">\n",
       "  <thead>\n",
       "    <tr style=\"text-align: right;\">\n",
       "      <th></th>\n",
       "      <th>City</th>\n",
       "      <th>Month</th>\n",
       "      <th>Year</th>\n",
       "      <th>Decibel_Level</th>\n",
       "      <th>Traffic_Density</th>\n",
       "      <th>Green_Space_Area</th>\n",
       "      <th>Air_Quality_Index</th>\n",
       "      <th>Happiness_Score</th>\n",
       "      <th>Cost_of_Living_Index</th>\n",
       "      <th>Healthcare_Index</th>\n",
       "    </tr>\n",
       "  </thead>\n",
       "  <tbody>\n",
       "    <tr>\n",
       "      <th>0</th>\n",
       "      <td>New York</td>\n",
       "      <td>January</td>\n",
       "      <td>2024</td>\n",
       "      <td>70</td>\n",
       "      <td>High</td>\n",
       "      <td>35</td>\n",
       "      <td>40</td>\n",
       "      <td>6.5</td>\n",
       "      <td>100</td>\n",
       "      <td>80</td>\n",
       "    </tr>\n",
       "    <tr>\n",
       "      <th>1</th>\n",
       "      <td>Los Angeles</td>\n",
       "      <td>January</td>\n",
       "      <td>2024</td>\n",
       "      <td>65</td>\n",
       "      <td>Medium</td>\n",
       "      <td>40</td>\n",
       "      <td>50</td>\n",
       "      <td>6.8</td>\n",
       "      <td>90</td>\n",
       "      <td>75</td>\n",
       "    </tr>\n",
       "    <tr>\n",
       "      <th>2</th>\n",
       "      <td>Chicago</td>\n",
       "      <td>January</td>\n",
       "      <td>2024</td>\n",
       "      <td>60</td>\n",
       "      <td>Medium</td>\n",
       "      <td>30</td>\n",
       "      <td>55</td>\n",
       "      <td>7.0</td>\n",
       "      <td>85</td>\n",
       "      <td>70</td>\n",
       "    </tr>\n",
       "    <tr>\n",
       "      <th>3</th>\n",
       "      <td>London</td>\n",
       "      <td>January</td>\n",
       "      <td>2024</td>\n",
       "      <td>55</td>\n",
       "      <td>High</td>\n",
       "      <td>50</td>\n",
       "      <td>60</td>\n",
       "      <td>7.2</td>\n",
       "      <td>110</td>\n",
       "      <td>85</td>\n",
       "    </tr>\n",
       "    <tr>\n",
       "      <th>4</th>\n",
       "      <td>Paris</td>\n",
       "      <td>January</td>\n",
       "      <td>2024</td>\n",
       "      <td>60</td>\n",
       "      <td>High</td>\n",
       "      <td>45</td>\n",
       "      <td>65</td>\n",
       "      <td>6.9</td>\n",
       "      <td>95</td>\n",
       "      <td>80</td>\n",
       "    </tr>\n",
       "  </tbody>\n",
       "</table>\n",
       "</div>"
      ],
      "text/plain": [
       "          City    Month  Year  Decibel_Level Traffic_Density  \\\n",
       "0     New York  January  2024             70            High   \n",
       "1  Los Angeles  January  2024             65          Medium   \n",
       "2      Chicago  January  2024             60          Medium   \n",
       "3       London  January  2024             55            High   \n",
       "4        Paris  January  2024             60            High   \n",
       "\n",
       "   Green_Space_Area  Air_Quality_Index  Happiness_Score  Cost_of_Living_Index  \\\n",
       "0                35                 40              6.5                   100   \n",
       "1                40                 50              6.8                    90   \n",
       "2                30                 55              7.0                    85   \n",
       "3                50                 60              7.2                   110   \n",
       "4                45                 65              6.9                    95   \n",
       "\n",
       "   Healthcare_Index  \n",
       "0                80  \n",
       "1                75  \n",
       "2                70  \n",
       "3                85  \n",
       "4                80  "
      ]
     },
     "execution_count": 177,
     "metadata": {},
     "output_type": "execute_result"
    }
   ],
   "source": [
    "#train data\n",
    "df_train = pd.read_csv('happiness_train_regression.csv')\n",
    "\n",
    "df_train.head()"
   ]
  },
  {
   "cell_type": "markdown",
   "id": "952b4f01-cc9e-4250-afef-14edc1e57c54",
   "metadata": {},
   "source": [
    "2. Preprocessing"
   ]
  },
  {
   "cell_type": "code",
   "execution_count": 123,
   "id": "6137d9ef-e9ed-4468-9edd-31f623e2fba8",
   "metadata": {},
   "outputs": [
    {
     "data": {
      "text/plain": [
       "array(['High', 'Medium', 'Low', 'Very High'], dtype=object)"
      ]
     },
     "execution_count": 123,
     "metadata": {},
     "output_type": "execute_result"
    }
   ],
   "source": [
    "# (1) Convert categorical variables to numerical variables\n",
    "\n",
    "#Check the unique of Traffic_Density\n",
    "df_train['Traffic_Density'].unique()"
   ]
  },
  {
   "cell_type": "code",
   "execution_count": 125,
   "id": "0aeb03d1-e759-4089-b5c5-270c9ae656bc",
   "metadata": {},
   "outputs": [
    {
     "data": {
      "text/plain": [
       "0    3\n",
       "1    2\n",
       "2    2\n",
       "3    3\n",
       "4    3\n",
       "Name: Traffic_Density, dtype: int64"
      ]
     },
     "execution_count": 125,
     "metadata": {},
     "output_type": "execute_result"
    }
   ],
   "source": [
    "# Mapping categorical values to numerical values\n",
    "mapping = {'Very High': 4, 'High': 3, 'Medium': 2, 'Low': 1}\n",
    "\n",
    "df_train['Traffic_Density'] = df_train['Traffic_Density'].map(mapping)\n",
    "df_test['Traffic_Density'] = df_test['Traffic_Density'].map(mapping)\n",
    "\n",
    "df_train['Traffic_Density'].head()"
   ]
  },
  {
   "cell_type": "code",
   "execution_count": 127,
   "id": "b9d2ae8d-c4e9-4a81-9015-2ea9d4abf6a8",
   "metadata": {},
   "outputs": [
    {
     "name": "stdout",
     "output_type": "stream",
     "text": [
      "<class 'pandas.core.frame.DataFrame'>\n",
      "RangeIndex: 545 entries, 0 to 544\n",
      "Data columns (total 10 columns):\n",
      " #   Column                Non-Null Count  Dtype  \n",
      "---  ------                --------------  -----  \n",
      " 0   City                  545 non-null    object \n",
      " 1   Month                 545 non-null    object \n",
      " 2   Year                  545 non-null    int64  \n",
      " 3   Decibel_Level         545 non-null    int64  \n",
      " 4   Traffic_Density       545 non-null    int64  \n",
      " 5   Green_Space_Area      545 non-null    int64  \n",
      " 6   Air_Quality_Index     545 non-null    int64  \n",
      " 7   Happiness_Score       545 non-null    float64\n",
      " 8   Cost_of_Living_Index  545 non-null    int64  \n",
      " 9   Healthcare_Index      545 non-null    int64  \n",
      "dtypes: float64(1), int64(7), object(2)\n",
      "memory usage: 42.7+ KB\n"
     ]
    }
   ],
   "source": [
    "# (2) Check the data info\n",
    "df_train.info()"
   ]
  },
  {
   "cell_type": "code",
   "execution_count": 129,
   "id": "b26dc495-bd91-44c7-af31-5edba5b4e2f8",
   "metadata": {},
   "outputs": [
    {
     "name": "stdout",
     "output_type": "stream",
     "text": [
      "<class 'pandas.core.frame.DataFrame'>\n",
      "RangeIndex: 51 entries, 0 to 50\n",
      "Data columns (total 10 columns):\n",
      " #   Column                Non-Null Count  Dtype  \n",
      "---  ------                --------------  -----  \n",
      " 0   City                  51 non-null     object \n",
      " 1   Month                 51 non-null     object \n",
      " 2   Year                  51 non-null     int64  \n",
      " 3   Decibel_Level         51 non-null     int64  \n",
      " 4   Traffic_Density       51 non-null     int64  \n",
      " 5   Green_Space_Area      51 non-null     int64  \n",
      " 6   Air_Quality_Index     51 non-null     int64  \n",
      " 7   Happiness_Score       51 non-null     float64\n",
      " 8   Cost_of_Living_Index  51 non-null     int64  \n",
      " 9   Healthcare_Index      51 non-null     int64  \n",
      "dtypes: float64(1), int64(7), object(2)\n",
      "memory usage: 4.1+ KB\n"
     ]
    }
   ],
   "source": [
    "df_test.info()"
   ]
  },
  {
   "cell_type": "code",
   "execution_count": 131,
   "id": "2baf934c-440e-4bfb-80e8-46027c0419d2",
   "metadata": {},
   "outputs": [],
   "source": [
    "# (3) Define features and target\n",
    "X_train = df_train.drop(['Happiness_Score', 'City', 'Month','Year'], axis=1)\n",
    "y_train = df_train['Happiness_Score']\n",
    "X_test = df_test.drop(['Happiness_Score', 'City', 'Month','Year'], axis=1)\n",
    "y_test = df_test['Happiness_Score']"
   ]
  },
  {
   "cell_type": "markdown",
   "id": "e17bc8fe-ba8e-4aaf-a988-5bafa323ad14",
   "metadata": {},
   "source": [
    "3. Train the RandomForestRegressor model"
   ]
  },
  {
   "cell_type": "code",
   "execution_count": 134,
   "id": "7193cd76-4481-4bc9-b45a-51cf4f5fb973",
   "metadata": {},
   "outputs": [],
   "source": [
    "rf_regressor = RandomForestRegressor(n_estimators=100, random_state=42)"
   ]
  },
  {
   "cell_type": "code",
   "execution_count": 136,
   "id": "a75575d4-c835-41c1-a2c3-fa4849e5acdc",
   "metadata": {},
   "outputs": [
    {
     "data": {
      "text/html": [
       "<style>#sk-container-id-2 {color: black;background-color: white;}#sk-container-id-2 pre{padding: 0;}#sk-container-id-2 div.sk-toggleable {background-color: white;}#sk-container-id-2 label.sk-toggleable__label {cursor: pointer;display: block;width: 100%;margin-bottom: 0;padding: 0.3em;box-sizing: border-box;text-align: center;}#sk-container-id-2 label.sk-toggleable__label-arrow:before {content: \"▸\";float: left;margin-right: 0.25em;color: #696969;}#sk-container-id-2 label.sk-toggleable__label-arrow:hover:before {color: black;}#sk-container-id-2 div.sk-estimator:hover label.sk-toggleable__label-arrow:before {color: black;}#sk-container-id-2 div.sk-toggleable__content {max-height: 0;max-width: 0;overflow: hidden;text-align: left;background-color: #f0f8ff;}#sk-container-id-2 div.sk-toggleable__content pre {margin: 0.2em;color: black;border-radius: 0.25em;background-color: #f0f8ff;}#sk-container-id-2 input.sk-toggleable__control:checked~div.sk-toggleable__content {max-height: 200px;max-width: 100%;overflow: auto;}#sk-container-id-2 input.sk-toggleable__control:checked~label.sk-toggleable__label-arrow:before {content: \"▾\";}#sk-container-id-2 div.sk-estimator input.sk-toggleable__control:checked~label.sk-toggleable__label {background-color: #d4ebff;}#sk-container-id-2 div.sk-label input.sk-toggleable__control:checked~label.sk-toggleable__label {background-color: #d4ebff;}#sk-container-id-2 input.sk-hidden--visually {border: 0;clip: rect(1px 1px 1px 1px);clip: rect(1px, 1px, 1px, 1px);height: 1px;margin: -1px;overflow: hidden;padding: 0;position: absolute;width: 1px;}#sk-container-id-2 div.sk-estimator {font-family: monospace;background-color: #f0f8ff;border: 1px dotted black;border-radius: 0.25em;box-sizing: border-box;margin-bottom: 0.5em;}#sk-container-id-2 div.sk-estimator:hover {background-color: #d4ebff;}#sk-container-id-2 div.sk-parallel-item::after {content: \"\";width: 100%;border-bottom: 1px solid gray;flex-grow: 1;}#sk-container-id-2 div.sk-label:hover label.sk-toggleable__label {background-color: #d4ebff;}#sk-container-id-2 div.sk-serial::before {content: \"\";position: absolute;border-left: 1px solid gray;box-sizing: border-box;top: 0;bottom: 0;left: 50%;z-index: 0;}#sk-container-id-2 div.sk-serial {display: flex;flex-direction: column;align-items: center;background-color: white;padding-right: 0.2em;padding-left: 0.2em;position: relative;}#sk-container-id-2 div.sk-item {position: relative;z-index: 1;}#sk-container-id-2 div.sk-parallel {display: flex;align-items: stretch;justify-content: center;background-color: white;position: relative;}#sk-container-id-2 div.sk-item::before, #sk-container-id-2 div.sk-parallel-item::before {content: \"\";position: absolute;border-left: 1px solid gray;box-sizing: border-box;top: 0;bottom: 0;left: 50%;z-index: -1;}#sk-container-id-2 div.sk-parallel-item {display: flex;flex-direction: column;z-index: 1;position: relative;background-color: white;}#sk-container-id-2 div.sk-parallel-item:first-child::after {align-self: flex-end;width: 50%;}#sk-container-id-2 div.sk-parallel-item:last-child::after {align-self: flex-start;width: 50%;}#sk-container-id-2 div.sk-parallel-item:only-child::after {width: 0;}#sk-container-id-2 div.sk-dashed-wrapped {border: 1px dashed gray;margin: 0 0.4em 0.5em 0.4em;box-sizing: border-box;padding-bottom: 0.4em;background-color: white;}#sk-container-id-2 div.sk-label label {font-family: monospace;font-weight: bold;display: inline-block;line-height: 1.2em;}#sk-container-id-2 div.sk-label-container {text-align: center;}#sk-container-id-2 div.sk-container {/* jupyter's `normalize.less` sets `[hidden] { display: none; }` but bootstrap.min.css set `[hidden] { display: none !important; }` so we also need the `!important` here to be able to override the default hidden behavior on the sphinx rendered scikit-learn.org. See: https://github.com/scikit-learn/scikit-learn/issues/21755 */display: inline-block !important;position: relative;}#sk-container-id-2 div.sk-text-repr-fallback {display: none;}</style><div id=\"sk-container-id-2\" class=\"sk-top-container\"><div class=\"sk-text-repr-fallback\"><pre>RandomForestRegressor(random_state=42)</pre><b>In a Jupyter environment, please rerun this cell to show the HTML representation or trust the notebook. <br />On GitHub, the HTML representation is unable to render, please try loading this page with nbviewer.org.</b></div><div class=\"sk-container\" hidden><div class=\"sk-item\"><div class=\"sk-estimator sk-toggleable\"><input class=\"sk-toggleable__control sk-hidden--visually\" id=\"sk-estimator-id-2\" type=\"checkbox\" checked><label for=\"sk-estimator-id-2\" class=\"sk-toggleable__label sk-toggleable__label-arrow\">RandomForestRegressor</label><div class=\"sk-toggleable__content\"><pre>RandomForestRegressor(random_state=42)</pre></div></div></div></div></div>"
      ],
      "text/plain": [
       "RandomForestRegressor(random_state=42)"
      ]
     },
     "execution_count": 136,
     "metadata": {},
     "output_type": "execute_result"
    }
   ],
   "source": [
    "rf_regressor.fit(X_train, y_train)"
   ]
  },
  {
   "cell_type": "code",
   "execution_count": 138,
   "id": "d5bb4fdc-65ce-4db5-adfc-bb00fb9c50f9",
   "metadata": {},
   "outputs": [],
   "source": [
    "# Make predictions on the test set\n",
    "y_test_pred = rf_regressor.predict(X_test)"
   ]
  },
  {
   "cell_type": "markdown",
   "id": "a2850286-4cdb-49e9-9970-d7f050fa6d13",
   "metadata": {},
   "source": [
    "4. Evaluate the model"
   ]
  },
  {
   "cell_type": "code",
   "execution_count": 141,
   "id": "6f2e4c70-377e-425e-b8db-602194f12d69",
   "metadata": {},
   "outputs": [
    {
     "name": "stdout",
     "output_type": "stream",
     "text": [
      "test mse: 0.15118421568627416\n",
      "train mse: 0.010478678899082688\n"
     ]
    }
   ],
   "source": [
    "# Evaluate the model (using MSE on training data for basic understanding)\n",
    "test_mse = mean_squared_error(y_test, y_test_pred)\n",
    "\n",
    "y_train_pred = rf_regressor.predict(X_train)\n",
    "train_mse = mean_squared_error(y_train, y_train_pred)\n",
    "\n",
    "print('test mse:',test_mse)\n",
    "print('train mse:',train_mse)"
   ]
  },
  {
   "cell_type": "markdown",
   "id": "06dec61c-9549-4fe8-a2fd-696cf60d1b6b",
   "metadata": {},
   "source": [
    "5. Feature Importance"
   ]
  },
  {
   "cell_type": "code",
   "execution_count": 144,
   "id": "151e3585-2303-4a92-8cfa-78625eb51294",
   "metadata": {
    "scrolled": true
   },
   "outputs": [
    {
     "data": {
      "image/png": "[encoded data removed]",
      "text/plain": [
       "<Figure size 700x400 with 1 Axes>"
      ]
     },
     "metadata": {},
     "output_type": "display_data"
    }
   ],
   "source": [
    "# Extracting feature importance\n",
    "importances = rf_regressor.feature_importances_\n",
    "\n",
    "# Converting feature importance to a DataFrame\n",
    "feature_importances = pd.DataFrame({\n",
    "    'Feature': X_train.columns,\n",
    "    'Importance': importances\n",
    "})\n",
    "\n",
    "# Sorting the feature importance\n",
    "feature_importances = feature_importances.sort_values(by='Importance', ascending=False)\n",
    "\n",
    "# Visualizing feature importance\n",
    "plt.figure(figsize=(7, 4))\n",
    "sns.barplot(x='Importance', y='Feature', data=feature_importances)\n",
    "plt.title('Feature Importance')\n",
    "plt.xlabel('Importance')\n",
    "plt.ylabel('Feature')\n",
    "plt.show()"
   ]
  },
  {
   "cell_type": "markdown",
   "id": "851113ab-8501-4e2d-93db-1d9dd22d4141",
   "metadata": {},
   "source": [
    "#### **[Classification]**"
   ]
  },
  {
   "cell_type": "markdown",
   "id": "1511ccf9-bb1f-4cda-9a9d-d7314a48abeb",
   "metadata": {},
   "source": [
    "**Dataset explanation**\n",
    "\n",
    "The dataset representing **vehicle characteristics**.\n",
    "\n",
    "The dataset includes the following features:\n",
    "- **buying**: The cost of purchasing the vehicle.\n",
    "- **maint**: The maintenance cost of the vehicle.\n",
    "- **doors**: The number of doors on the vehicle.\n",
    "- **persons**: The number of persons the vehicle can accommodate.\n",
    "- **lug_boot**: The size of the vehicle's trunk.\n",
    "- **safety**: The safety rating of the vehicle.\n",
    "- **class**: The overall evaluation of the vehicle (unacc: Unacceptable, acc: Acceptable, good: Good, vgood: Very Good)"
   ]
  },
  {
   "cell_type": "markdown",
   "id": "8dd7f9ba-41e6-4e8e-b953-7c375b4b8e1d",
   "metadata": {},
   "source": [
    "1. Load Data"
   ]
  },
  {
   "cell_type": "code",
   "execution_count": 179,
   "id": "f5b9724e-2355-4780-896e-7162353dce34",
   "metadata": {},
   "outputs": [
    {
     "name": "stdout",
     "output_type": "stream",
     "text": [
      "(1727, 7)\n"
     ]
    },
    {
     "data": {
      "text/html": [
       "<div>\n",
       "<style scoped>\n",
       "    .dataframe tbody tr th:only-of-type {\n",
       "        vertical-align: middle;\n",
       "    }\n",
       "\n",
       "    .dataframe tbody tr th {\n",
       "        vertical-align: top;\n",
       "    }\n",
       "\n",
       "    .dataframe thead th {\n",
       "        text-align: right;\n",
       "    }\n",
       "</style>\n",
       "<table border=\"1\" class=\"dataframe\">\n",
       "  <thead>\n",
       "    <tr style=\"text-align: right;\">\n",
       "      <th></th>\n",
       "      <th>vhigh</th>\n",
       "      <th>vhigh.1</th>\n",
       "      <th>2</th>\n",
       "      <th>2.1</th>\n",
       "      <th>small</th>\n",
       "      <th>low</th>\n",
       "      <th>unacc</th>\n",
       "    </tr>\n",
       "  </thead>\n",
       "  <tbody>\n",
       "    <tr>\n",
       "      <th>0</th>\n",
       "      <td>vhigh</td>\n",
       "      <td>vhigh</td>\n",
       "      <td>2</td>\n",
       "      <td>2</td>\n",
       "      <td>small</td>\n",
       "      <td>med</td>\n",
       "      <td>unacc</td>\n",
       "    </tr>\n",
       "    <tr>\n",
       "      <th>1</th>\n",
       "      <td>vhigh</td>\n",
       "      <td>vhigh</td>\n",
       "      <td>2</td>\n",
       "      <td>2</td>\n",
       "      <td>small</td>\n",
       "      <td>high</td>\n",
       "      <td>unacc</td>\n",
       "    </tr>\n",
       "    <tr>\n",
       "      <th>2</th>\n",
       "      <td>vhigh</td>\n",
       "      <td>vhigh</td>\n",
       "      <td>2</td>\n",
       "      <td>2</td>\n",
       "      <td>med</td>\n",
       "      <td>low</td>\n",
       "      <td>unacc</td>\n",
       "    </tr>\n",
       "    <tr>\n",
       "      <th>3</th>\n",
       "      <td>vhigh</td>\n",
       "      <td>vhigh</td>\n",
       "      <td>2</td>\n",
       "      <td>2</td>\n",
       "      <td>med</td>\n",
       "      <td>med</td>\n",
       "      <td>unacc</td>\n",
       "    </tr>\n",
       "    <tr>\n",
       "      <th>4</th>\n",
       "      <td>vhigh</td>\n",
       "      <td>vhigh</td>\n",
       "      <td>2</td>\n",
       "      <td>2</td>\n",
       "      <td>med</td>\n",
       "      <td>high</td>\n",
       "      <td>unacc</td>\n",
       "    </tr>\n",
       "  </tbody>\n",
       "</table>\n",
       "</div>"
      ],
      "text/plain": [
       "   vhigh vhigh.1  2 2.1  small   low  unacc\n",
       "0  vhigh   vhigh  2   2  small   med  unacc\n",
       "1  vhigh   vhigh  2   2  small  high  unacc\n",
       "2  vhigh   vhigh  2   2    med   low  unacc\n",
       "3  vhigh   vhigh  2   2    med   med  unacc\n",
       "4  vhigh   vhigh  2   2    med  high  unacc"
      ]
     },
     "execution_count": 179,
     "metadata": {},
     "output_type": "execute_result"
    }
   ],
   "source": [
    "df = pd.read_csv('car_classification.csv')\n",
    "\n",
    "print(df.shape)\n",
    "df.head()"
   ]
  },
  {
   "cell_type": "markdown",
   "id": "d34566fd-7312-4bb7-928a-16c42470c480",
   "metadata": {},
   "source": [
    "2. Preprocessing"
   ]
  },
  {
   "cell_type": "code",
   "execution_count": 152,
   "id": "9959bd50-71e7-4ca8-b151-18a47e0322a1",
   "metadata": {},
   "outputs": [
    {
     "name": "stdout",
     "output_type": "stream",
     "text": [
      "<class 'pandas.core.frame.DataFrame'>\n",
      "RangeIndex: 1727 entries, 0 to 1726\n",
      "Data columns (total 7 columns):\n",
      " #   Column   Non-Null Count  Dtype \n",
      "---  ------   --------------  ----- \n",
      " 0   vhigh    1727 non-null   object\n",
      " 1   vhigh.1  1727 non-null   object\n",
      " 2   2        1727 non-null   object\n",
      " 3   2.1      1727 non-null   object\n",
      " 4   small    1727 non-null   object\n",
      " 5   low      1727 non-null   object\n",
      " 6   unacc    1727 non-null   object\n",
      "dtypes: object(7)\n",
      "memory usage: 94.6+ KB\n"
     ]
    }
   ],
   "source": [
    "# (1) Check the data info\n",
    "df.info()"
   ]
  },
  {
   "cell_type": "code",
   "execution_count": 154,
   "id": "76dde56e-172c-4708-92cf-6ca4925ad159",
   "metadata": {},
   "outputs": [
    {
     "data": {
      "text/plain": [
       "['buying', 'maint', 'doors', 'persons', 'lug_boot', 'safety', 'class']"
      ]
     },
     "execution_count": 154,
     "metadata": {},
     "output_type": "execute_result"
    }
   ],
   "source": [
    "# (2) Rename column names\n",
    "col_names = ['buying', 'maint', 'doors', 'persons', 'lug_boot', 'safety', 'class']\n",
    "\n",
    "df.columns = col_names\n",
    "\n",
    "col_names"
   ]
  },
  {
   "cell_type": "code",
   "execution_count": 156,
   "id": "f06b873a-5531-4e5b-ae1b-7b111f47c732",
   "metadata": {},
   "outputs": [
    {
     "data": {
      "text/html": [
       "<div>\n",
       "<style scoped>\n",
       "    .dataframe tbody tr th:only-of-type {\n",
       "        vertical-align: middle;\n",
       "    }\n",
       "\n",
       "    .dataframe tbody tr th {\n",
       "        vertical-align: top;\n",
       "    }\n",
       "\n",
       "    .dataframe thead th {\n",
       "        text-align: right;\n",
       "    }\n",
       "</style>\n",
       "<table border=\"1\" class=\"dataframe\">\n",
       "  <thead>\n",
       "    <tr style=\"text-align: right;\">\n",
       "      <th></th>\n",
       "      <th>buying</th>\n",
       "      <th>maint</th>\n",
       "      <th>doors</th>\n",
       "      <th>persons</th>\n",
       "      <th>lug_boot</th>\n",
       "      <th>safety</th>\n",
       "    </tr>\n",
       "  </thead>\n",
       "  <tbody>\n",
       "    <tr>\n",
       "      <th>107</th>\n",
       "      <td>vhigh</td>\n",
       "      <td>high</td>\n",
       "      <td>2</td>\n",
       "      <td>2</td>\n",
       "      <td>small</td>\n",
       "      <td>low</td>\n",
       "    </tr>\n",
       "    <tr>\n",
       "      <th>900</th>\n",
       "      <td>med</td>\n",
       "      <td>vhigh</td>\n",
       "      <td>3</td>\n",
       "      <td>4</td>\n",
       "      <td>small</td>\n",
       "      <td>med</td>\n",
       "    </tr>\n",
       "    <tr>\n",
       "      <th>1708</th>\n",
       "      <td>low</td>\n",
       "      <td>low</td>\n",
       "      <td>5more</td>\n",
       "      <td>2</td>\n",
       "      <td>big</td>\n",
       "      <td>high</td>\n",
       "    </tr>\n",
       "    <tr>\n",
       "      <th>705</th>\n",
       "      <td>high</td>\n",
       "      <td>med</td>\n",
       "      <td>4</td>\n",
       "      <td>2</td>\n",
       "      <td>med</td>\n",
       "      <td>med</td>\n",
       "    </tr>\n",
       "    <tr>\n",
       "      <th>678</th>\n",
       "      <td>high</td>\n",
       "      <td>med</td>\n",
       "      <td>3</td>\n",
       "      <td>2</td>\n",
       "      <td>med</td>\n",
       "      <td>med</td>\n",
       "    </tr>\n",
       "  </tbody>\n",
       "</table>\n",
       "</div>"
      ],
      "text/plain": [
       "     buying  maint  doors persons lug_boot safety\n",
       "107   vhigh   high      2       2    small    low\n",
       "900     med  vhigh      3       4    small    med\n",
       "1708    low    low  5more       2      big   high\n",
       "705    high    med      4       2      med    med\n",
       "678    high    med      3       2      med    med"
      ]
     },
     "execution_count": 156,
     "metadata": {},
     "output_type": "execute_result"
    }
   ],
   "source": [
    "# (3) split data into training and testing sets\n",
    "\n",
    "x = df.drop(['class'], axis=1)\n",
    "y = df['class']\n",
    "\n",
    "x_train, x_test, y_train, y_test = train_test_split(x, y, test_size = 0.2, random_state = 42)\n",
    "\n",
    "x_train.head()"
   ]
  },
  {
   "cell_type": "code",
   "execution_count": 158,
   "id": "0c493d18-1eec-45ce-85d6-34fd1cd8bc18",
   "metadata": {},
   "outputs": [],
   "source": [
    "# (4) encode categorical variables with ordinal encoding\n",
    "\n",
    "encoder = ce.OrdinalEncoder(cols=['buying', 'maint', 'doors', 'persons', 'lug_boot', 'safety'])\n",
    "\n",
    "\n",
    "x_train = encoder.fit_transform(x_train)\n",
    "\n",
    "x_test = encoder.transform(x_test)"
   ]
  },
  {
   "cell_type": "code",
   "execution_count": 160,
   "id": "613632b2-c915-46dc-94e1-a6ff6423cec7",
   "metadata": {},
   "outputs": [
    {
     "data": {
      "text/html": [
       "<div>\n",
       "<style scoped>\n",
       "    .dataframe tbody tr th:only-of-type {\n",
       "        vertical-align: middle;\n",
       "    }\n",
       "\n",
       "    .dataframe tbody tr th {\n",
       "        vertical-align: top;\n",
       "    }\n",
       "\n",
       "    .dataframe thead th {\n",
       "        text-align: right;\n",
       "    }\n",
       "</style>\n",
       "<table border=\"1\" class=\"dataframe\">\n",
       "  <thead>\n",
       "    <tr style=\"text-align: right;\">\n",
       "      <th></th>\n",
       "      <th>buying</th>\n",
       "      <th>maint</th>\n",
       "      <th>doors</th>\n",
       "      <th>persons</th>\n",
       "      <th>lug_boot</th>\n",
       "      <th>safety</th>\n",
       "    </tr>\n",
       "  </thead>\n",
       "  <tbody>\n",
       "    <tr>\n",
       "      <th>107</th>\n",
       "      <td>1</td>\n",
       "      <td>1</td>\n",
       "      <td>1</td>\n",
       "      <td>1</td>\n",
       "      <td>1</td>\n",
       "      <td>1</td>\n",
       "    </tr>\n",
       "    <tr>\n",
       "      <th>900</th>\n",
       "      <td>2</td>\n",
       "      <td>2</td>\n",
       "      <td>2</td>\n",
       "      <td>2</td>\n",
       "      <td>1</td>\n",
       "      <td>2</td>\n",
       "    </tr>\n",
       "    <tr>\n",
       "      <th>1708</th>\n",
       "      <td>3</td>\n",
       "      <td>3</td>\n",
       "      <td>3</td>\n",
       "      <td>1</td>\n",
       "      <td>2</td>\n",
       "      <td>3</td>\n",
       "    </tr>\n",
       "    <tr>\n",
       "      <th>705</th>\n",
       "      <td>4</td>\n",
       "      <td>4</td>\n",
       "      <td>4</td>\n",
       "      <td>1</td>\n",
       "      <td>3</td>\n",
       "      <td>2</td>\n",
       "    </tr>\n",
       "    <tr>\n",
       "      <th>678</th>\n",
       "      <td>4</td>\n",
       "      <td>4</td>\n",
       "      <td>2</td>\n",
       "      <td>1</td>\n",
       "      <td>3</td>\n",
       "      <td>2</td>\n",
       "    </tr>\n",
       "  </tbody>\n",
       "</table>\n",
       "</div>"
      ],
      "text/plain": [
       "      buying  maint  doors  persons  lug_boot  safety\n",
       "107        1      1      1        1         1       1\n",
       "900        2      2      2        2         1       2\n",
       "1708       3      3      3        1         2       3\n",
       "705        4      4      4        1         3       2\n",
       "678        4      4      2        1         3       2"
      ]
     },
     "execution_count": 160,
     "metadata": {},
     "output_type": "execute_result"
    }
   ],
   "source": [
    "x_train.head()"
   ]
  },
  {
   "cell_type": "markdown",
   "id": "4361aab7-f437-4c18-9d81-d4e35953fdd2",
   "metadata": {},
   "source": [
    "3. Train the RandomForestClassifier model"
   ]
  },
  {
   "cell_type": "code",
   "execution_count": 163,
   "id": "4fe1afb8-66c8-43ac-a26a-e484f2f51846",
   "metadata": {},
   "outputs": [],
   "source": [
    "# instantiate the classifier \n",
    "rf_classifier = RandomForestClassifier(random_state=0) #n_estimators: 100 (default)\n",
    "\n",
    "# fit the model\n",
    "rf_classifier.fit(x_train, y_train)\n",
    "\n",
    "# Predict the Test set results\n",
    "y_pred = rf_classifier.predict(x_test)"
   ]
  },
  {
   "cell_type": "markdown",
   "id": "d64f1b3c-5b60-46e9-8955-1ffe1c4ff49b",
   "metadata": {},
   "source": [
    "4. Evaluate the model"
   ]
  },
  {
   "cell_type": "code",
   "execution_count": 166,
   "id": "1aee68c2-d3a8-43b2-9f24-3ec9c1af0489",
   "metadata": {},
   "outputs": [
    {
     "name": "stdout",
     "output_type": "stream",
     "text": [
      "Model accuracy score: 0.9480\n"
     ]
    }
   ],
   "source": [
    "# (1) Calculate the accuracy score\n",
    "\n",
    "print('Model accuracy score: {0:0.4f}'. format(accuracy_score(y_test, y_pred)))"
   ]
  },
  {
   "cell_type": "code",
   "execution_count": 168,
   "id": "8d58b562-0215-45e1-975c-c82837e3c2e0",
   "metadata": {},
   "outputs": [
    {
     "name": "stdout",
     "output_type": "stream",
     "text": [
      "Model accuracy score: 1.0000\n"
     ]
    }
   ],
   "source": [
    "y_train_pred = rf_classifier.predict(x_train)\n",
    "\n",
    "print('Model accuracy score: {0:0.4f}'. format(accuracy_score(y_train, y_train_pred)))"
   ]
  },
  {
   "cell_type": "code",
   "execution_count": 170,
   "id": "a176aec3-a122-4f19-9990-8afa8d7201e5",
   "metadata": {},
   "outputs": [
    {
     "name": "stdout",
     "output_type": "stream",
     "text": [
      "   n_estimators  Accuracy\n",
      "0             1  0.841040\n",
      "1            51  0.953757\n",
      "2           101  0.950867\n",
      "3           151  0.956647\n",
      "4           201  0.953757\n",
      "5           251  0.953757\n",
      "\n",
      "The highest accuracy is 0.9566 with n_estimators = 151\n"
     ]
    }
   ],
   "source": [
    "# (2) The best n_estimators\n",
    "\n",
    "# Define a range of n_estimators values\n",
    "n_estimators_range = range(1, 301, 50)  # From 1 to 200, stepping by 10\n",
    "accuracies = []  # To store accuracy for each n_estimators value\n",
    "\n",
    "# Loop through different values of n_estimators\n",
    "for n in n_estimators_range:\n",
    "    # Instantiate the classifier with the current n_estimators\n",
    "    rf_classifier = RandomForestClassifier(n_estimators=n, random_state=0)\n",
    "    \n",
    "    # Fit the model\n",
    "    rf_classifier.fit(x_train, y_train)\n",
    "    \n",
    "    # Predict the Test set results\n",
    "    y_pred = rf_classifier.predict(x_test)\n",
    "    \n",
    "    # Calculate accuracy and append to list\n",
    "    accuracy = accuracy_score(y_test, y_pred)\n",
    "    accuracies.append(accuracy)\n",
    "\n",
    "# Create a DataFrame to display results\n",
    "results_df = pd.DataFrame({\n",
    "    'n_estimators': n_estimators_range,\n",
    "    'Accuracy': accuracies\n",
    "})\n",
    "\n",
    "# Find the best n_estimators value and its corresponding accuracy\n",
    "best_index = np.argmax(accuracies)  # Index of the maximum accuracy\n",
    "best_n_estimators = n_estimators_range[best_index]  # Corresponding n_estimators value\n",
    "best_accuracy = accuracies[best_index]  # Maximum accuracy\n",
    "\n",
    "# Print the results table\n",
    "print(results_df)\n",
    "\n",
    "# Print the best n_estimators and its accuracy\n",
    "print(f\"\\nThe highest accuracy is {best_accuracy:.4f} with n_estimators = {best_n_estimators}\")\n"
   ]
  },
  {
   "cell_type": "markdown",
   "id": "2fd98abd-cb86-4bdf-8811-4f3dec288c53",
   "metadata": {},
   "source": [
    "5. Feature Importance"
   ]
  },
  {
   "cell_type": "code",
   "execution_count": 173,
   "id": "c684f5a5-f62e-4ba2-a06a-8f56364d3d9f",
   "metadata": {},
   "outputs": [
    {
     "data": {
      "image/png": "[encoded data removed]",
      "text/plain": [
       "<Figure size 700x400 with 1 Axes>"
      ]
     },
     "metadata": {},
     "output_type": "display_data"
    }
   ],
   "source": [
    "# Extract feature importance\n",
    "importances = rf_classifier.feature_importances_\n",
    "\n",
    "# Convert feature importance to a DataFrame\n",
    "feature_importances = pd.DataFrame({\n",
    "    'Feature': x_train.columns,\n",
    "    'Importance': importances\n",
    "})\n",
    "\n",
    "# Sort by importance\n",
    "feature_importances = feature_importances.sort_values(by='Importance', ascending=False)\n",
    "\n",
    "# Visualize feature importance\n",
    "plt.figure(figsize=(7, 4))\n",
    "sns.barplot(x='Importance', y='Feature', data=feature_importances)\n",
    "plt.title('Feature Importance')\n",
    "plt.xlabel('Importance')\n",
    "plt.ylabel('Feature')\n",
    "plt.show()"
   ]
  },
  {
   "cell_type": "markdown",
   "id": "740deada-b36b-494d-92e4-4e4a9d052375",
   "metadata": {},
   "source": [
    "#### **[Present results and explain meaning]**\n",
    "\n",
    "1. **Regression**\n",
    "- **MSE**<br>\n",
    "While the train MSE is very low at 0.0105, the Test MSE is relatively high at 0.1512. This may indicate that the model is overfitting the training data. In other words, the model has learned the details of the training data well, but it struggles to generalize to new data (the test data).\n",
    "- **Feature Importance**<br>\n",
    "In terms of variable importance, the Green Space Area has emerged as overwhelmingly significant. This variable represents the ratio of green space in the city, indicating that a higher percentage of green space correlates with an increase in people's happiness scores. However, it is necessary to further investigate whether such a dominant result is due to a potential issue with the model.\n",
    "- **How it can be used?**<br>\n",
    "By predicting happiness scores through various characteristics of the city, we can suggest directions for urban development to enhance people's happiness. Additionally, gaining insights into living conditions and population satisfaction in urban environments allows this model to be utilized in creating effective urban policies and environments.\n",
    "2. **Classification**\n",
    "- **Accuracy**<br>\n",
    "The accuracy was highest when n_estimators was set to 151. I expected the accuracy to increase as the value of n_estimators grew, but it didn't. Therefore, it's important to try different n_estimators values and choose the model with the highest accuracy.\n",
    "- **Feature Importance**<br>\n",
    "  The variable that has the most significant impact on the overall evaluation of the vehicle is safety. The safety of the vehicle is crucial as it reflects the safety of both the driver and the passengers. The next most influential variable is persons. If the vehicle owner has a family, a car that can accommodate more people will have a positive effect on the purchasing decision. The variable that has the least impact is doors. In my opinion, since most vehicles have four doors, this factor does not significantly influence the overall evaluation of the vehicle.\n",
    "- **How it can be used?**<br>\n",
    "By evaluating various factors of the vehicle, we can determine the vehicle's rating. This rating aids in making purchasing decisions and allows for improvements in each aspect of the vehicle."
   ]
  },
  {
   "cell_type": "markdown",
   "id": "e85ed4ad-8889-4dce-8d84-39be5aefbc32",
   "metadata": {},
   "source": [
    "**Reference**<br><br>\n",
    "https://www.ibm.com/topics/random-forest\n",
    "\n",
    "https://www.analyticsvidhya.com/blog/2021/10/an-introduction-to-random-forest-algorithm-for-beginners/\n",
    "\n",
    "[http://bigdata.dongguk.ac.kr/lectures/dm/_book/](http://bigdata.dongguk.ac.kr/lectures/dm/_book/%EC%9D%98%EC%82%AC%EA%B2%B0%EC%A0%95%EB%82%98%EB%AC%B4%EB%AA%A8%ED%98%95.html)\n",
    "\n",
    "https://www.kocw.net/home/index.do\n",
    "\n",
    "https://codingalzi.github.io/handson-ml3/ensemble_learning_random_forests.html\n",
    "\n",
    "https://terms.naver.com/entry.naver?docId=6704167&cid=40942&categoryId=32845 \n",
    "\n",
    "https://favtutor.com/blogs/gini-impurity\n",
    "\n",
    "https://www.learndatasci.com/glossary/gini-impurity/\n",
    "\n",
    "https://paperswithcode.com/paper/data-oob-out-of-bag-estimate-as-a-simple-and"
   ]
  }
 ],
 "metadata": {
  "kernelspec": {
   "display_name": "Python 3 (ipykernel)",
   "language": "python",
   "name": "python3"
  },
  "language_info": {
   "codemirror_mode": {
    "name": "ipython",
    "version": 3
   },
   "file_extension": ".py",
   "mimetype": "text/x-python",
   "name": "python",
   "nbconvert_exporter": "python",
   "pygments_lexer": "ipython3",
   "version": "3.11.7"
  }
 },
 "nbformat": 4,
 "nbformat_minor": 5
}
